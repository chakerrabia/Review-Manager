{
 "cells": [
  {
   "cell_type": "code",
   "execution_count": 1,
   "id": "83e0086f-067a-4235-ae7d-a8ea308f13fe",
   "metadata": {},
   "outputs": [],
   "source": [
    "import tensorflow as tf\n",
    "from tensorflow import keras\n",
    "import pickle"
   ]
  },
  {
   "cell_type": "code",
   "execution_count": 2,
   "id": "76eebb04-a830-4981-af78-2c9546b66fdc",
   "metadata": {},
   "outputs": [],
   "source": [
    "model = tf.keras.models.load_model('model/model.h5')"
   ]
  },
  {
   "cell_type": "code",
   "execution_count": 3,
   "id": "67ef7a30-d5b5-4a47-819e-6445e7dc11f4",
   "metadata": {},
   "outputs": [],
   "source": [
    "tokenizer = pickle.load(open('model/tokenizer.pkl', 'rb'))"
   ]
  },
  {
   "cell_type": "code",
   "execution_count": 4,
   "id": "8995d89f-8afb-43e0-aafe-554051035aa7",
   "metadata": {},
   "outputs": [
    {
     "name": "stdout",
     "output_type": "stream",
     "text": [
      "Model: \"sequential_1\"\n",
      "_________________________________________________________________\n",
      "Layer (type)                 Output Shape              Param #   \n",
      "=================================================================\n",
      "embedding_1 (Embedding)      (None, 300, 300)          30028800  \n",
      "_________________________________________________________________\n",
      "dropout_1 (Dropout)          (None, 300, 300)          0         \n",
      "_________________________________________________________________\n",
      "lstm_1 (LSTM)                (None, 100)               160400    \n",
      "_________________________________________________________________\n",
      "dense_1 (Dense)              (None, 1)                 101       \n",
      "=================================================================\n",
      "Total params: 30,189,301\n",
      "Trainable params: 160,501\n",
      "Non-trainable params: 30,028,800\n",
      "_________________________________________________________________\n"
     ]
    }
   ],
   "source": [
    "model.summary() "
   ]
  },
  {
   "cell_type": "code",
   "execution_count": 5,
   "id": "39a441ad-ee41-4ca9-aba7-ac7878c94065",
   "metadata": {},
   "outputs": [],
   "source": [
    "decode_map = {0: \"NEGATIVE\", 2: \"NEUTRAL\", 4: \"POSITIVE\"}\n",
    "SENTIMENT_THRESHOLDS = (0.5, 0.6)\n",
    "def decode_sentiment(score, include_neutral=True):\n",
    "    if include_neutral:        \n",
    "        label = \"NEUTRAL\"\n",
    "        if score <= SENTIMENT_THRESHOLDS[0]:\n",
    "            label = \"NEGATIVE\"\n",
    "        elif score >= SENTIMENT_THRESHOLDS[1]:\n",
    "            label = \"POSITIVE\"\n",
    "\n",
    "        return label\n",
    "    else:\n",
    "        return NEGATIVE if score < 0.5 else POSITIVE"
   ]
  },
  {
   "cell_type": "code",
   "execution_count": 6,
   "id": "61c42900-146d-4182-a9b7-20683348b312",
   "metadata": {},
   "outputs": [],
   "source": [
    "from keras.preprocessing.sequence import pad_sequences\n",
    "def predict(text, include_neutral=True):\n",
    "    # Tokenize text\n",
    "    x_test = pad_sequences(tokenizer.texts_to_sequences([text]), maxlen=300)\n",
    "    # Predict\n",
    "    score = model.predict([x_test])[0]\n",
    "    # Decode sentiment\n",
    "    label = decode_sentiment(score)\n",
    "\n",
    "    return {\"label\": label, \"score\": float(score)} "
   ]
  },
  {
   "cell_type": "code",
   "execution_count": 9,
   "id": "733d6113-1c74-4c2b-967a-f44efe8f2bf1",
   "metadata": {},
   "outputs": [
    {
     "data": {
      "text/plain": [
       "{'label': 'POSITIVE', 'score': 0.7749766111373901}"
      ]
     },
     "execution_count": 9,
     "metadata": {},
     "output_type": "execute_result"
    }
   ],
   "source": [
    "predict(\"good\" )"
   ]
  },
  {
   "cell_type": "code",
   "execution_count": null,
   "id": "c40e6443-92cf-44ea-b0ac-ce8eef28ab11",
   "metadata": {},
   "outputs": [],
   "source": []
  }
 ],
 "metadata": {
  "kernelspec": {
   "display_name": "Python 3",
   "language": "python",
   "name": "python3"
  },
  "language_info": {
   "codemirror_mode": {
    "name": "ipython",
    "version": 3
   },
   "file_extension": ".py",
   "mimetype": "text/x-python",
   "name": "python",
   "nbconvert_exporter": "python",
   "pygments_lexer": "ipython3",
   "version": "3.7.9"
  }
 },
 "nbformat": 4,
 "nbformat_minor": 5
}
