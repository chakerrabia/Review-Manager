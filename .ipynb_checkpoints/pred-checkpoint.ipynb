{
 "cells": [
  {
   "cell_type": "code",
   "execution_count": 1,
   "id": "5d6d7ecf-60b2-400a-936b-48288abe9e7e",
   "metadata": {},
   "outputs": [],
   "source": [
    "from tensorflow import keras\n",
    "import pandas as pd\n",
    "model = keras.models.load_model('')"
   ]
  },
  {
   "cell_type": "code",
   "execution_count": 2,
   "id": "bd9bdb90-7118-416e-81c4-970018968416",
   "metadata": {},
   "outputs": [
    {
     "name": "stdout",
     "output_type": "stream",
     "text": [
      "Model: \"model\"\n",
      "_________________________________________________________________\n",
      "Layer (type)                 Output Shape              Param #   \n",
      "=================================================================\n",
      "inputs (InputLayer)          [(None, 500)]             0         \n",
      "_________________________________________________________________\n",
      "embedding (Embedding)        (None, 500, 50)           100000    \n",
      "_________________________________________________________________\n",
      "lstm (LSTM)                  (None, 64)                29440     \n",
      "_________________________________________________________________\n",
      "FC1 (Dense)                  (None, 256)               16640     \n",
      "_________________________________________________________________\n",
      "activation (Activation)      (None, 256)               0         \n",
      "_________________________________________________________________\n",
      "dropout (Dropout)            (None, 256)               0         \n",
      "_________________________________________________________________\n",
      "out_layer (Dense)            (None, 1)                 257       \n",
      "_________________________________________________________________\n",
      "activation_1 (Activation)    (None, 1)                 0         \n",
      "=================================================================\n",
      "Total params: 146,337\n",
      "Trainable params: 146,337\n",
      "Non-trainable params: 0\n",
      "_________________________________________________________________\n"
     ]
    }
   ],
   "source": [
    "model.summary(line_length=None, positions=None, print_fn=None)"
   ]
  },
  {
   "cell_type": "code",
   "execution_count": 10,
   "id": "c17288a7-2a10-4233-915a-c84465cbddfb",
   "metadata": {},
   "outputs": [
    {
     "data": {
      "text/plain": [
       "(1, 500)"
      ]
     },
     "execution_count": 10,
     "metadata": {},
     "output_type": "execute_result"
    }
   ],
   "source": [
    "from nltk.corpus import stopwords\n",
    "import re\n",
    "import string\n",
    "from nltk.tokenize import word_tokenize\n",
    "import nltk\n",
    "from nltk.stem import WordNetLemmatizer \n",
    "from tensorflow.keras.preprocessing.text import Tokenizer\n",
    "from tensorflow.keras.preprocessing import sequence\n",
    "\n",
    "def remove_stopwords(text):\n",
    "    return \" \".join([word for word in str(text).split() if word not in stopwords_list])\n",
    "\n",
    "def remove_punct(text):\n",
    "    translator = str.maketrans('', '', punctuations_list)\n",
    "    return text.translate(translator)\n",
    "\n",
    "def remove_URLs(text):\n",
    "    return re.sub('((www\\.[^\\s]+)|(https?://[^\\s]+))',' ',text)\n",
    "\n",
    "def remove_numeric(text):\n",
    "    return  re.sub('[0-9]+', '', text)\n",
    "\n",
    "def tokenize_message(text):\n",
    "    words = word_tokenize(text)\n",
    "    return text.split()\n",
    "\n",
    "def lemmatize_message(tokens):\n",
    "    data = [lemmatizer.lemmatize(word) for word in tokens ]\n",
    "    return data\n",
    "\n",
    "lemmatizer = WordNetLemmatizer()\n",
    "punctuations_list = string.punctuation\n",
    "stopwords_list = stopwords.words('english')\n",
    "\n",
    "feedback='good awesome incredible terrific marvelous great joyous great'\n",
    "\n",
    "data =  pd.DataFrame({'message': [feedback]})\n",
    "data['message'].loc[0].lower()\n",
    "\n",
    "re.sub(r'(.)\\1+', r'\\1', data['message'].loc[0])\n",
    "data['message'].loc[0] = remove_stopwords(data['message'].loc[0])\n",
    "data['message'].loc[0] = remove_punct(data['message'].loc[0])\n",
    "data['message'].loc[0] = remove_URLs(data['message'].loc[0])\n",
    "data['message'].loc[0] = remove_numeric(data['message'].loc[0])\n",
    "data['message'].loc[0] = tokenize_message(data['message'].loc[0])\n",
    "data['message'].loc[0] = lemmatize_message(data['message'].loc[0])\n",
    "X= data.message\n",
    "\n",
    "max_len = 500\n",
    "tok = Tokenizer(num_words=2000)\n",
    "tok.fit_on_texts(X)\n",
    "sequences = tok.texts_to_sequences(X)\n",
    "sequences_matrix = sequence.pad_sequences(sequences,maxlen=max_len)\n",
    "sequences_matrix.shape"
   ]
  },
  {
   "cell_type": "code",
   "execution_count": 11,
   "id": "b4c237f3-f2ba-4d09-b6c3-ebe0dbf28bdb",
   "metadata": {},
   "outputs": [
    {
     "data": {
      "text/plain": [
       "array([[0.55258954]], dtype=float32)"
      ]
     },
     "execution_count": 11,
     "metadata": {},
     "output_type": "execute_result"
    }
   ],
   "source": [
    "model.predict(sequences_matrix)"
   ]
  },
  {
   "cell_type": "code",
   "execution_count": null,
   "id": "79a9859d-7de4-497e-8e63-67d7884fabb0",
   "metadata": {},
   "outputs": [],
   "source": []
  }
 ],
 "metadata": {
  "kernelspec": {
   "display_name": "Python 3",
   "language": "python",
   "name": "python3"
  },
  "language_info": {
   "codemirror_mode": {
    "name": "ipython",
    "version": 3
   },
   "file_extension": ".py",
   "mimetype": "text/x-python",
   "name": "python",
   "nbconvert_exporter": "python",
   "pygments_lexer": "ipython3",
   "version": "3.7.9"
  }
 },
 "nbformat": 4,
 "nbformat_minor": 5
}
