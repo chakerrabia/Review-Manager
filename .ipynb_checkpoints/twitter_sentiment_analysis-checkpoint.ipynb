{
  "nbformat": 4,
  "nbformat_minor": 0,
  "metadata": {
    "kernelspec": {
      "display_name": "Python 3",
      "language": "python",
      "name": "python3"
    },
    "language_info": {
      "codemirror_mode": {
        "name": "ipython",
        "version": 3
      },
      "file_extension": ".py",
      "mimetype": "text/x-python",
      "name": "python",
      "nbconvert_exporter": "python",
      "pygments_lexer": "ipython3",
      "version": "3.7.9"
    },
    "colab": {
      "name": "twitter-sentiment-analysis.ipynb",
      "provenance": [],
      "toc_visible": true
    },
    "accelerator": "TPU"
  },
  "cells": [
    {
      "cell_type": "markdown",
      "metadata": {
        "_uuid": "92b885dd147dac19bd0a33db3cd0da100bd5bc23",
        "id": "A_gugn31Rf1E"
      },
      "source": [
        "# Twitter Sentiment Analysis"
      ]
    },
    {
      "cell_type": "code",
      "metadata": {
        "_uuid": "303e72966af732ddef0bd8108a321095314e44af",
        "id": "vt2tm2bYRf1S"
      },
      "source": [
        "# DataFrame\n",
        "import pandas as pd\n",
        "\n",
        "\n",
        "# Scikit-learn\n",
        "from sklearn.model_selection import train_test_split\n",
        "from sklearn.preprocessing import LabelEncoder\n",
        "from sklearn.metrics import confusion_matrix, classification_report, accuracy_score\n",
        "from sklearn.manifold import TSNE\n",
        "from sklearn.feature_extraction.text import TfidfVectorizer\n",
        "\n",
        "# Keras\n",
        "from keras.preprocessing.text import Tokenizer\n",
        "from keras.preprocessing.sequence import pad_sequences\n",
        "from keras.models import Sequential\n",
        "from keras.layers import Activation, Dense, Dropout, Embedding, Flatten, Conv1D, MaxPooling1D, LSTM\n",
        "from keras import utils\n",
        "from keras.callbacks import ReduceLROnPlateau, EarlyStopping\n",
        "\n",
        "# nltk\n",
        "import nltk\n",
        "from nltk.corpus import stopwords\n",
        "from  nltk.stem import SnowballStemmer\n",
        "\n",
        "# Word2vec\n",
        "import gensim\n",
        "\n",
        "# Utility\n",
        "import re\n",
        "import numpy as np\n",
        "import os\n",
        "from collections import Counter\n",
        "import logging\n",
        "import time\n",
        "import pickle\n",
        "import itertools\n",
        "\n",
        "# Set log\n",
        "logging.basicConfig(format='%(asctime)s : %(levelname)s : %(message)s', level=logging.INFO)"
      ],
      "execution_count": 1,
      "outputs": []
    },
    {
      "cell_type": "code",
      "metadata": {
        "_uuid": "35e1a89dead5fd160e4c9a024a21d2e569fc89ff",
        "colab": {
          "base_uri": "https://localhost:8080/"
        },
        "id": "2csADUSlRf1V",
        "outputId": "b74f9e64-2022-4bdd-bb8f-6ea8281da6af"
      },
      "source": [
        "nltk.download('stopwords')"
      ],
      "execution_count": 2,
      "outputs": [
        {
          "output_type": "stream",
          "text": [
            "[nltk_data] Downloading package stopwords to /root/nltk_data...\n",
            "[nltk_data]   Package stopwords is already up-to-date!\n"
          ],
          "name": "stdout"
        },
        {
          "output_type": "execute_result",
          "data": {
            "text/plain": [
              "True"
            ]
          },
          "metadata": {
            "tags": []
          },
          "execution_count": 2
        }
      ]
    },
    {
      "cell_type": "markdown",
      "metadata": {
        "_uuid": "e8b01a07df001e4abcc745900336c4db06e455f3",
        "id": "4J_tGfs7Rf1W"
      },
      "source": [
        "### Settings"
      ]
    },
    {
      "cell_type": "code",
      "metadata": {
        "_uuid": "180f0dd2a95419e4602b5c0229822b0111c826f6",
        "id": "Ye8kXQPMRf1X"
      },
      "source": [
        "# DATASET\n",
        "DATASET_COLUMNS = [\"target\", \"ids\", \"date\", \"flag\", \"user\", \"text\"]\n",
        "DATASET_ENCODING = \"ISO-8859-1\"\n",
        "TRAIN_SIZE = 0.8\n",
        "\n",
        "# TEXT CLENAING\n",
        "TEXT_CLEANING_RE = \"@\\S+|https?:\\S+|http?:\\S|[^A-Za-z0-9]+\"\n",
        "\n",
        "# WORD2VEC \n",
        "W2V_SIZE = 300\n",
        "W2V_WINDOW = 7\n",
        "W2V_EPOCH = 32\n",
        "W2V_MIN_COUNT = 10\n",
        "\n",
        "# KERAS\n",
        "SEQUENCE_LENGTH = 300\n",
        "EPOCHS = 8\n",
        "BATCH_SIZE = 1024\n",
        "\n",
        "# SENTIMENT\n",
        "POSITIVE = \"POSITIVE\"\n",
        "NEGATIVE = \"NEGATIVE\"\n",
        "NEUTRAL = \"NEUTRAL\"\n",
        "SENTIMENT_THRESHOLDS = (0.4, 0.7)\n",
        "\n",
        "# EXPORT\n",
        "KERAS_MODEL = \"model.h5\"\n",
        "WORD2VEC_MODEL = \"model.w2v\"\n",
        "TOKENIZER_MODEL = \"tokenizer.pkl\"\n",
        "ENCODER_MODEL = \"encoder.pkl\""
      ],
      "execution_count": 3,
      "outputs": []
    },
    {
      "cell_type": "markdown",
      "metadata": {
        "_uuid": "1c3beecc618be68480b3d4f0de08d9d863da1dc1",
        "id": "wBUGkeGKRf1Y"
      },
      "source": [
        "### Read Dataset"
      ]
    },
    {
      "cell_type": "markdown",
      "metadata": {
        "_uuid": "563b3c44f1092dba0b853747b098e00509098cca",
        "id": "N-eGXs_DRf1Y"
      },
      "source": [
        "### Dataset details\n",
        "* **target**: the polarity of the tweet (0 = negative, 2 = neutral, 4 = positive)\n",
        "* **ids**: The id of the tweet ( 2087)\n",
        "* **date**: the date of the tweet (Sat May 16 23:58:44 UTC 2009)\n",
        "* **flag**: The query (lyx). If there is no query, then this value is NO_QUERY.\n",
        "* **user**: the user that tweeted (robotickilldozr)\n",
        "* **text**: the text of the tweet (Lyx is cool)"
      ]
    },
    {
      "cell_type": "code",
      "metadata": {
        "colab": {
          "base_uri": "https://localhost:8080/"
        },
        "id": "DsjPPPlAf1KJ",
        "outputId": "1cd8c893-7f91-4489-aeb5-1428957f0530"
      },
      "source": [
        "from google.colab import drive\n",
        "drive.mount('/content/drive')"
      ],
      "execution_count": 4,
      "outputs": [
        {
          "output_type": "stream",
          "text": [
            "Drive already mounted at /content/drive; to attempt to forcibly remount, call drive.mount(\"/content/drive\", force_remount=True).\n"
          ],
          "name": "stdout"
        }
      ]
    },
    {
      "cell_type": "code",
      "metadata": {
        "_uuid": "bba8f91cd70de4f5ea0fb0870ae2029b6e3dcc24",
        "id": "LUF5cGCzRf1Z"
      },
      "source": [
        "\n",
        "df = pd.read_csv('drive/MyDrive/training.1600000.processed.noemoticon.csv', encoding =DATASET_ENCODING , names=DATASET_COLUMNS)"
      ],
      "execution_count": 5,
      "outputs": []
    },
    {
      "cell_type": "code",
      "metadata": {
        "_uuid": "936d499c00c4f1648bc16ca9d283c3b39be7fb10",
        "id": "d2v6j8wiRf1a",
        "colab": {
          "base_uri": "https://localhost:8080/"
        },
        "outputId": "97eb6d4b-8a38-457f-db0e-03e35a9a2200"
      },
      "source": [
        "print(\"Dataset size:\", len(df))"
      ],
      "execution_count": 6,
      "outputs": [
        {
          "output_type": "stream",
          "text": [
            "Dataset size: 1600000\n"
          ],
          "name": "stdout"
        }
      ]
    },
    {
      "cell_type": "code",
      "metadata": {
        "_uuid": "7486ed895b813c5246f97b31b6162b0f65ff763b",
        "id": "vKlGxvGlRf1b",
        "colab": {
          "base_uri": "https://localhost:8080/",
          "height": 295
        },
        "outputId": "f2be45fe-cc79-4777-9a56-627d5f3f9496"
      },
      "source": [
        "df.head(5)"
      ],
      "execution_count": 7,
      "outputs": [
        {
          "output_type": "execute_result",
          "data": {
            "text/html": [
              "<div>\n",
              "<style scoped>\n",
              "    .dataframe tbody tr th:only-of-type {\n",
              "        vertical-align: middle;\n",
              "    }\n",
              "\n",
              "    .dataframe tbody tr th {\n",
              "        vertical-align: top;\n",
              "    }\n",
              "\n",
              "    .dataframe thead th {\n",
              "        text-align: right;\n",
              "    }\n",
              "</style>\n",
              "<table border=\"1\" class=\"dataframe\">\n",
              "  <thead>\n",
              "    <tr style=\"text-align: right;\">\n",
              "      <th></th>\n",
              "      <th>target</th>\n",
              "      <th>ids</th>\n",
              "      <th>date</th>\n",
              "      <th>flag</th>\n",
              "      <th>user</th>\n",
              "      <th>text</th>\n",
              "    </tr>\n",
              "  </thead>\n",
              "  <tbody>\n",
              "    <tr>\n",
              "      <th>0</th>\n",
              "      <td>0</td>\n",
              "      <td>1467810369</td>\n",
              "      <td>Mon Apr 06 22:19:45 PDT 2009</td>\n",
              "      <td>NO_QUERY</td>\n",
              "      <td>_TheSpecialOne_</td>\n",
              "      <td>@switchfoot http://twitpic.com/2y1zl - Awww, t...</td>\n",
              "    </tr>\n",
              "    <tr>\n",
              "      <th>1</th>\n",
              "      <td>0</td>\n",
              "      <td>1467810672</td>\n",
              "      <td>Mon Apr 06 22:19:49 PDT 2009</td>\n",
              "      <td>NO_QUERY</td>\n",
              "      <td>scotthamilton</td>\n",
              "      <td>is upset that he can't update his Facebook by ...</td>\n",
              "    </tr>\n",
              "    <tr>\n",
              "      <th>2</th>\n",
              "      <td>0</td>\n",
              "      <td>1467810917</td>\n",
              "      <td>Mon Apr 06 22:19:53 PDT 2009</td>\n",
              "      <td>NO_QUERY</td>\n",
              "      <td>mattycus</td>\n",
              "      <td>@Kenichan I dived many times for the ball. Man...</td>\n",
              "    </tr>\n",
              "    <tr>\n",
              "      <th>3</th>\n",
              "      <td>0</td>\n",
              "      <td>1467811184</td>\n",
              "      <td>Mon Apr 06 22:19:57 PDT 2009</td>\n",
              "      <td>NO_QUERY</td>\n",
              "      <td>ElleCTF</td>\n",
              "      <td>my whole body feels itchy and like its on fire</td>\n",
              "    </tr>\n",
              "    <tr>\n",
              "      <th>4</th>\n",
              "      <td>0</td>\n",
              "      <td>1467811193</td>\n",
              "      <td>Mon Apr 06 22:19:57 PDT 2009</td>\n",
              "      <td>NO_QUERY</td>\n",
              "      <td>Karoli</td>\n",
              "      <td>@nationwideclass no, it's not behaving at all....</td>\n",
              "    </tr>\n",
              "  </tbody>\n",
              "</table>\n",
              "</div>"
            ],
            "text/plain": [
              "   target  ...                                               text\n",
              "0       0  ...  @switchfoot http://twitpic.com/2y1zl - Awww, t...\n",
              "1       0  ...  is upset that he can't update his Facebook by ...\n",
              "2       0  ...  @Kenichan I dived many times for the ball. Man...\n",
              "3       0  ...    my whole body feels itchy and like its on fire \n",
              "4       0  ...  @nationwideclass no, it's not behaving at all....\n",
              "\n",
              "[5 rows x 6 columns]"
            ]
          },
          "metadata": {
            "tags": []
          },
          "execution_count": 7
        }
      ]
    },
    {
      "cell_type": "markdown",
      "metadata": {
        "_uuid": "3f9a7bb129e184967b13261fb5d253af451c75c5",
        "id": "GR9Xoa5iRf1d"
      },
      "source": [
        "### Map target label to String\n",
        "* **0** -> **NEGATIVE**\n",
        "* **2** -> **NEUTRAL**\n",
        "* **4** -> **POSITIVE**"
      ]
    },
    {
      "cell_type": "code",
      "metadata": {
        "_uuid": "14074b59106cb9550440839e48b832223fc9502f",
        "id": "eovhN-ujRf1g"
      },
      "source": [
        "decode_map = {0: \"NEGATIVE\", 2: \"NEUTRAL\", 4: \"POSITIVE\"}\n",
        "def decode_sentiment(label):\n",
        "    return decode_map[int(label)]"
      ],
      "execution_count": 8,
      "outputs": []
    },
    {
      "cell_type": "code",
      "metadata": {
        "_uuid": "4449d473187f647a195a6ac6986b009da32a7f4b",
        "id": "M_f6If1HRf1h",
        "colab": {
          "base_uri": "https://localhost:8080/"
        },
        "outputId": "8bb2a778-16c0-478f-c9a5-1620b289962c"
      },
      "source": [
        "%%time\n",
        "df.target = df.target.apply(lambda x: decode_sentiment(x))"
      ],
      "execution_count": 9,
      "outputs": [
        {
          "output_type": "stream",
          "text": [
            "CPU times: user 589 ms, sys: 6.52 ms, total: 596 ms\n",
            "Wall time: 607 ms\n"
          ],
          "name": "stdout"
        }
      ]
    },
    {
      "cell_type": "markdown",
      "metadata": {
        "_uuid": "4329b1573518b03e497213efa7676220734ebb4b",
        "id": "DkdMQk2GRf1i"
      },
      "source": [
        "### Pre-Process dataset"
      ]
    },
    {
      "cell_type": "code",
      "metadata": {
        "_uuid": "8aeee8b7b9ea11b749c7f91cd4787a7b50ed1a91",
        "id": "NBiA5fhLRf1i"
      },
      "source": [
        "stop_words = stopwords.words(\"english\")\n",
        "stemmer = SnowballStemmer(\"english\")"
      ],
      "execution_count": 10,
      "outputs": []
    },
    {
      "cell_type": "code",
      "metadata": {
        "_uuid": "649ebcb97969b9ac4301138783704bb3d7846a49",
        "id": "lQRZVhzeRf1j"
      },
      "source": [
        "def preprocess(text, stem=False):\n",
        "    # Remove link,user and special characters\n",
        "    text = re.sub(TEXT_CLEANING_RE, ' ', str(text).lower()).strip()\n",
        "    tokens = []\n",
        "    for token in text.split():\n",
        "        if token not in stop_words:\n",
        "            if stem:\n",
        "                tokens.append(stemmer.stem(token))\n",
        "            else:\n",
        "                tokens.append(token)\n",
        "    return \" \".join(tokens)"
      ],
      "execution_count": 11,
      "outputs": []
    },
    {
      "cell_type": "code",
      "metadata": {
        "_uuid": "f7f3e77ab9291d14687c49e71ba9b2b1e3323432",
        "id": "7f-HWX28Rf1j",
        "colab": {
          "base_uri": "https://localhost:8080/"
        },
        "outputId": "2f76335d-02bb-486e-c97b-05e23f5a05c6"
      },
      "source": [
        "%%time\n",
        "remove_n = 1300000\n",
        "drop_indices = np.random.choice(df.index, remove_n, replace=False)\n",
        "df = df.drop(drop_indices)\n",
        "df.text = df.text.apply(lambda x: preprocess(x))"
      ],
      "execution_count": 12,
      "outputs": [
        {
          "output_type": "stream",
          "text": [
            "CPU times: user 10.7 s, sys: 172 ms, total: 10.8 s\n",
            "Wall time: 10.9 s\n"
          ],
          "name": "stdout"
        }
      ]
    },
    {
      "cell_type": "markdown",
      "metadata": {
        "_uuid": "f5f9714a8507409bbe780eebf2855a33e8e6ba37",
        "id": "zj2R-saERf1k"
      },
      "source": [
        "### Split train and test"
      ]
    },
    {
      "cell_type": "code",
      "metadata": {
        "_uuid": "d2b1179c968e3f3910c790ecf0c5b2cbb34b0e68",
        "id": "KOqLA51CRf1k",
        "colab": {
          "base_uri": "https://localhost:8080/"
        },
        "outputId": "45801c6a-2b1d-4c65-bb3c-7c05f96acb0d"
      },
      "source": [
        "df_train, df_test = train_test_split(df, test_size=1-TRAIN_SIZE, random_state=42)\n",
        "print(\"TRAIN size:\", len(df_train))\n",
        "print(\"TEST size:\", len(df_test))"
      ],
      "execution_count": 13,
      "outputs": [
        {
          "output_type": "stream",
          "text": [
            "TRAIN size: 240000\n",
            "TEST size: 60000\n"
          ],
          "name": "stdout"
        }
      ]
    },
    {
      "cell_type": "markdown",
      "metadata": {
        "_uuid": "f08a28aab2c3d16d8b9681a7d5d07587153a1cd6",
        "id": "U3Ty1ZWJRf1l"
      },
      "source": [
        "### Word2Vec "
      ]
    },
    {
      "cell_type": "code",
      "metadata": {
        "_uuid": "2461bf564de1b4414841933d0c1d1bee5f5cc5a6",
        "id": "G2xhzLL9Rf1l",
        "colab": {
          "base_uri": "https://localhost:8080/"
        },
        "outputId": "f2866ed1-225d-41cd-87f8-52dcda6ed1ef"
      },
      "source": [
        "%%time\n",
        "documents = [_text.split() for _text in df_train.text] "
      ],
      "execution_count": 14,
      "outputs": [
        {
          "output_type": "stream",
          "text": [
            "CPU times: user 816 ms, sys: 77.4 ms, total: 893 ms\n",
            "Wall time: 903 ms\n"
          ],
          "name": "stdout"
        }
      ]
    },
    {
      "cell_type": "code",
      "metadata": {
        "_uuid": "8e19b9f25801ba86420decc266d2b3e6fb44f1ea",
        "id": "AJGdRJfjRf1m"
      },
      "source": [
        "w2v_model = gensim.models.word2vec.Word2Vec(size=W2V_SIZE, window=W2V_WINDOW, min_count=W2V_MIN_COUNT, workers=8)"
      ],
      "execution_count": 15,
      "outputs": []
    },
    {
      "cell_type": "code",
      "metadata": {
        "_uuid": "58d655af07653c594bec6bebcfb302a973b0ad9c",
        "id": "RA7yQGyeRf1m",
        "colab": {
          "base_uri": "https://localhost:8080/"
        },
        "outputId": "cb42dfbc-03d8-4e71-a726-f849a7f1295f"
      },
      "source": [
        "w2v_model.build_vocab(documents)"
      ],
      "execution_count": 16,
      "outputs": [
        {
          "output_type": "stream",
          "text": [
            "2021-05-15 16:30:46,149 : INFO : collecting all words and their counts\n",
            "2021-05-15 16:30:46,151 : INFO : PROGRESS: at sentence #0, processed 0 words, keeping 0 word types\n",
            "2021-05-15 16:30:46,186 : INFO : PROGRESS: at sentence #10000, processed 72610 words, keeping 13885 word types\n",
            "2021-05-15 16:30:46,218 : INFO : PROGRESS: at sentence #20000, processed 145030 words, keeping 21479 word types\n",
            "2021-05-15 16:30:46,250 : INFO : PROGRESS: at sentence #30000, processed 216580 words, keeping 27508 word types\n",
            "2021-05-15 16:30:46,276 : INFO : PROGRESS: at sentence #40000, processed 288948 words, keeping 32751 word types\n",
            "2021-05-15 16:30:46,308 : INFO : PROGRESS: at sentence #50000, processed 360409 words, keeping 37585 word types\n",
            "2021-05-15 16:30:46,338 : INFO : PROGRESS: at sentence #60000, processed 432348 words, keeping 42042 word types\n",
            "2021-05-15 16:30:46,368 : INFO : PROGRESS: at sentence #70000, processed 503934 words, keeping 46265 word types\n",
            "2021-05-15 16:30:46,398 : INFO : PROGRESS: at sentence #80000, processed 576285 words, keeping 50282 word types\n",
            "2021-05-15 16:30:46,429 : INFO : PROGRESS: at sentence #90000, processed 648146 words, keeping 53919 word types\n",
            "2021-05-15 16:30:46,468 : INFO : PROGRESS: at sentence #100000, processed 719719 words, keeping 57471 word types\n",
            "2021-05-15 16:30:46,504 : INFO : PROGRESS: at sentence #110000, processed 791965 words, keeping 60989 word types\n",
            "2021-05-15 16:30:46,542 : INFO : PROGRESS: at sentence #120000, processed 863286 words, keeping 64326 word types\n",
            "2021-05-15 16:30:46,574 : INFO : PROGRESS: at sentence #130000, processed 935873 words, keeping 67650 word types\n",
            "2021-05-15 16:30:46,603 : INFO : PROGRESS: at sentence #140000, processed 1007669 words, keeping 70891 word types\n",
            "2021-05-15 16:30:46,631 : INFO : PROGRESS: at sentence #150000, processed 1079019 words, keeping 73976 word types\n",
            "2021-05-15 16:30:46,658 : INFO : PROGRESS: at sentence #160000, processed 1150844 words, keeping 77081 word types\n",
            "2021-05-15 16:30:46,687 : INFO : PROGRESS: at sentence #170000, processed 1223002 words, keeping 80178 word types\n",
            "2021-05-15 16:30:46,717 : INFO : PROGRESS: at sentence #180000, processed 1295536 words, keeping 83197 word types\n",
            "2021-05-15 16:30:46,752 : INFO : PROGRESS: at sentence #190000, processed 1368023 words, keeping 86151 word types\n",
            "2021-05-15 16:30:46,791 : INFO : PROGRESS: at sentence #200000, processed 1440159 words, keeping 89020 word types\n",
            "2021-05-15 16:30:46,823 : INFO : PROGRESS: at sentence #210000, processed 1511504 words, keeping 91853 word types\n",
            "2021-05-15 16:30:46,869 : INFO : PROGRESS: at sentence #220000, processed 1583565 words, keeping 94569 word types\n",
            "2021-05-15 16:30:46,910 : INFO : PROGRESS: at sentence #230000, processed 1655546 words, keeping 97271 word types\n",
            "2021-05-15 16:30:46,949 : INFO : collected 99906 word types from a corpus of 1727437 raw words and 240000 sentences\n",
            "2021-05-15 16:30:46,950 : INFO : Loading a fresh vocabulary\n",
            "2021-05-15 16:30:47,032 : INFO : effective_min_count=10 retains 11299 unique words (11% of original 99906, drops 88607)\n",
            "2021-05-15 16:30:47,035 : INFO : effective_min_count=10 leaves 1570626 word corpus (90% of original 1727437, drops 156811)\n",
            "2021-05-15 16:30:47,095 : INFO : deleting the raw counts dictionary of 99906 items\n",
            "2021-05-15 16:30:47,100 : INFO : sample=0.001 downsamples 48 most-common words\n",
            "2021-05-15 16:30:47,105 : INFO : downsampling leaves estimated 1460074 word corpus (93.0% of prior 1570626)\n",
            "2021-05-15 16:30:47,168 : INFO : estimated required memory for 11299 words and 300 dimensions: 32767100 bytes\n",
            "2021-05-15 16:30:47,170 : INFO : resetting layer weights\n"
          ],
          "name": "stderr"
        }
      ]
    },
    {
      "cell_type": "code",
      "metadata": {
        "_uuid": "72a5628ca81fd4b8983c12d93ae0bf950b86b6ae",
        "id": "F7O0CFutRf1n",
        "colab": {
          "base_uri": "https://localhost:8080/"
        },
        "outputId": "8b84e3d5-d18b-4d6d-95f4-f805a8caabd5"
      },
      "source": [
        "words = w2v_model.wv.vocab.keys()\n",
        "vocab_size = len(words)\n",
        "print(\"Vocab size\", vocab_size)"
      ],
      "execution_count": 17,
      "outputs": [
        {
          "output_type": "stream",
          "text": [
            "Vocab size 11299\n"
          ],
          "name": "stdout"
        }
      ]
    },
    {
      "cell_type": "code",
      "metadata": {
        "_uuid": "68c3e4a5ba07cac3dee67f78ecdd1404c7f83f14",
        "id": "qRqSmLTNRf1o",
        "colab": {
          "base_uri": "https://localhost:8080/"
        },
        "outputId": "c784e1ce-80da-4ad6-b398-1cf39c1cc130"
      },
      "source": [
        "%%time\n",
        "w2v_model.train(documents, total_examples=len(documents), epochs=W2V_EPOCH)"
      ],
      "execution_count": 18,
      "outputs": [
        {
          "output_type": "stream",
          "text": [
            "2021-05-15 16:30:49,614 : INFO : training model with 8 workers on 11299 vocabulary and 300 features, using sg=0 hs=0 sample=0.001 negative=5 window=7\n",
            "2021-05-15 16:30:50,754 : INFO : EPOCH 1 - PROGRESS: at 20.20% examples, 264554 words/s, in_qsize 15, out_qsize 0\n",
            "2021-05-15 16:30:51,791 : INFO : EPOCH 1 - PROGRESS: at 41.67% examples, 282313 words/s, in_qsize 15, out_qsize 2\n",
            "2021-05-15 16:30:52,811 : INFO : EPOCH 1 - PROGRESS: at 67.75% examples, 311332 words/s, in_qsize 15, out_qsize 0\n",
            "2021-05-15 16:30:53,830 : INFO : EPOCH 1 - PROGRESS: at 87.37% examples, 304112 words/s, in_qsize 15, out_qsize 0\n",
            "2021-05-15 16:30:54,192 : INFO : worker thread finished; awaiting finish of 7 more threads\n",
            "2021-05-15 16:30:54,202 : INFO : worker thread finished; awaiting finish of 6 more threads\n",
            "2021-05-15 16:30:54,221 : INFO : worker thread finished; awaiting finish of 5 more threads\n",
            "2021-05-15 16:30:54,228 : INFO : worker thread finished; awaiting finish of 4 more threads\n",
            "2021-05-15 16:30:54,269 : INFO : worker thread finished; awaiting finish of 3 more threads\n",
            "2021-05-15 16:30:54,291 : INFO : worker thread finished; awaiting finish of 2 more threads\n",
            "2021-05-15 16:30:54,308 : INFO : worker thread finished; awaiting finish of 1 more threads\n",
            "2021-05-15 16:30:54,311 : INFO : worker thread finished; awaiting finish of 0 more threads\n",
            "2021-05-15 16:30:54,315 : INFO : EPOCH - 1 : training on 1727437 raw words (1459778 effective words) took 4.7s, 311994 effective words/s\n",
            "2021-05-15 16:30:55,388 : INFO : EPOCH 2 - PROGRESS: at 19.04% examples, 263033 words/s, in_qsize 16, out_qsize 1\n",
            "2021-05-15 16:30:56,412 : INFO : EPOCH 2 - PROGRESS: at 42.81% examples, 300126 words/s, in_qsize 15, out_qsize 0\n",
            "2021-05-15 16:30:57,431 : INFO : EPOCH 2 - PROGRESS: at 65.42% examples, 307783 words/s, in_qsize 16, out_qsize 1\n",
            "2021-05-15 16:30:58,519 : INFO : EPOCH 2 - PROGRESS: at 89.12% examples, 310425 words/s, in_qsize 15, out_qsize 0\n",
            "2021-05-15 16:30:58,801 : INFO : worker thread finished; awaiting finish of 7 more threads\n",
            "2021-05-15 16:30:58,815 : INFO : worker thread finished; awaiting finish of 6 more threads\n",
            "2021-05-15 16:30:58,817 : INFO : worker thread finished; awaiting finish of 5 more threads\n",
            "2021-05-15 16:30:58,840 : INFO : worker thread finished; awaiting finish of 4 more threads\n",
            "2021-05-15 16:30:58,870 : INFO : worker thread finished; awaiting finish of 3 more threads\n",
            "2021-05-15 16:30:58,883 : INFO : worker thread finished; awaiting finish of 2 more threads\n",
            "2021-05-15 16:30:58,890 : INFO : worker thread finished; awaiting finish of 1 more threads\n",
            "2021-05-15 16:30:58,897 : INFO : worker thread finished; awaiting finish of 0 more threads\n",
            "2021-05-15 16:30:58,899 : INFO : EPOCH - 2 : training on 1727437 raw words (1460164 effective words) took 4.6s, 319398 effective words/s\n",
            "2021-05-15 16:30:59,982 : INFO : EPOCH 3 - PROGRESS: at 18.47% examples, 252717 words/s, in_qsize 16, out_qsize 1\n",
            "2021-05-15 16:31:01,060 : INFO : EPOCH 3 - PROGRESS: at 41.08% examples, 279509 words/s, in_qsize 16, out_qsize 5\n",
            "2021-05-15 16:31:02,166 : INFO : EPOCH 3 - PROGRESS: at 64.26% examples, 288397 words/s, in_qsize 12, out_qsize 7\n",
            "2021-05-15 16:31:03,176 : INFO : EPOCH 3 - PROGRESS: at 86.78% examples, 297357 words/s, in_qsize 16, out_qsize 2\n",
            "2021-05-15 16:31:03,521 : INFO : worker thread finished; awaiting finish of 7 more threads\n",
            "2021-05-15 16:31:03,573 : INFO : worker thread finished; awaiting finish of 6 more threads\n",
            "2021-05-15 16:31:03,641 : INFO : worker thread finished; awaiting finish of 5 more threads\n",
            "2021-05-15 16:31:03,645 : INFO : worker thread finished; awaiting finish of 4 more threads\n",
            "2021-05-15 16:31:03,646 : INFO : worker thread finished; awaiting finish of 3 more threads\n",
            "2021-05-15 16:31:03,648 : INFO : worker thread finished; awaiting finish of 2 more threads\n",
            "2021-05-15 16:31:03,661 : INFO : worker thread finished; awaiting finish of 1 more threads\n",
            "2021-05-15 16:31:03,666 : INFO : worker thread finished; awaiting finish of 0 more threads\n",
            "2021-05-15 16:31:03,668 : INFO : EPOCH - 3 : training on 1727437 raw words (1460453 effective words) took 4.8s, 307106 effective words/s\n",
            "2021-05-15 16:31:04,717 : INFO : EPOCH 4 - PROGRESS: at 19.05% examples, 271091 words/s, in_qsize 14, out_qsize 1\n",
            "2021-05-15 16:31:05,737 : INFO : EPOCH 4 - PROGRESS: at 41.66% examples, 296982 words/s, in_qsize 16, out_qsize 1\n",
            "2021-05-15 16:31:06,837 : INFO : EPOCH 4 - PROGRESS: at 63.11% examples, 292472 words/s, in_qsize 12, out_qsize 3\n",
            "2021-05-15 16:31:07,875 : INFO : EPOCH 4 - PROGRESS: at 85.05% examples, 296606 words/s, in_qsize 14, out_qsize 1\n",
            "2021-05-15 16:31:08,352 : INFO : worker thread finished; awaiting finish of 7 more threads\n",
            "2021-05-15 16:31:08,359 : INFO : worker thread finished; awaiting finish of 6 more threads\n",
            "2021-05-15 16:31:08,373 : INFO : worker thread finished; awaiting finish of 5 more threads\n",
            "2021-05-15 16:31:08,430 : INFO : worker thread finished; awaiting finish of 4 more threads\n",
            "2021-05-15 16:31:08,439 : INFO : worker thread finished; awaiting finish of 3 more threads\n",
            "2021-05-15 16:31:08,442 : INFO : worker thread finished; awaiting finish of 2 more threads\n",
            "2021-05-15 16:31:08,450 : INFO : worker thread finished; awaiting finish of 1 more threads\n",
            "2021-05-15 16:31:08,469 : INFO : worker thread finished; awaiting finish of 0 more threads\n",
            "2021-05-15 16:31:08,470 : INFO : EPOCH - 4 : training on 1727437 raw words (1459673 effective words) took 4.8s, 305289 effective words/s\n",
            "2021-05-15 16:31:09,503 : INFO : EPOCH 5 - PROGRESS: at 17.87% examples, 257925 words/s, in_qsize 15, out_qsize 0\n",
            "2021-05-15 16:31:10,521 : INFO : EPOCH 5 - PROGRESS: at 40.50% examples, 290897 words/s, in_qsize 16, out_qsize 0\n",
            "2021-05-15 16:31:11,732 : INFO : EPOCH 5 - PROGRESS: at 63.69% examples, 286408 words/s, in_qsize 10, out_qsize 5\n",
            "2021-05-15 16:31:12,738 : INFO : EPOCH 5 - PROGRESS: at 86.22% examples, 296088 words/s, in_qsize 12, out_qsize 3\n",
            "2021-05-15 16:31:13,127 : INFO : worker thread finished; awaiting finish of 7 more threads\n",
            "2021-05-15 16:31:13,138 : INFO : worker thread finished; awaiting finish of 6 more threads\n",
            "2021-05-15 16:31:13,145 : INFO : worker thread finished; awaiting finish of 5 more threads\n",
            "2021-05-15 16:31:13,150 : INFO : worker thread finished; awaiting finish of 4 more threads\n",
            "2021-05-15 16:31:13,156 : INFO : worker thread finished; awaiting finish of 3 more threads\n",
            "2021-05-15 16:31:13,166 : INFO : worker thread finished; awaiting finish of 2 more threads\n",
            "2021-05-15 16:31:13,173 : INFO : worker thread finished; awaiting finish of 1 more threads\n",
            "2021-05-15 16:31:13,176 : INFO : worker thread finished; awaiting finish of 0 more threads\n",
            "2021-05-15 16:31:13,182 : INFO : EPOCH - 5 : training on 1727437 raw words (1460070 effective words) took 4.7s, 310921 effective words/s\n",
            "2021-05-15 16:31:14,220 : INFO : EPOCH 6 - PROGRESS: at 16.73% examples, 239961 words/s, in_qsize 14, out_qsize 6\n",
            "2021-05-15 16:31:15,262 : INFO : EPOCH 6 - PROGRESS: at 41.08% examples, 290171 words/s, in_qsize 16, out_qsize 0\n",
            "2021-05-15 16:31:16,269 : INFO : EPOCH 6 - PROGRESS: at 63.68% examples, 302288 words/s, in_qsize 16, out_qsize 1\n",
            "2021-05-15 16:31:17,284 : INFO : EPOCH 6 - PROGRESS: at 86.79% examples, 309791 words/s, in_qsize 15, out_qsize 0\n",
            "2021-05-15 16:31:17,621 : INFO : worker thread finished; awaiting finish of 7 more threads\n",
            "2021-05-15 16:31:17,642 : INFO : worker thread finished; awaiting finish of 6 more threads\n",
            "2021-05-15 16:31:17,695 : INFO : worker thread finished; awaiting finish of 5 more threads\n",
            "2021-05-15 16:31:17,715 : INFO : worker thread finished; awaiting finish of 4 more threads\n",
            "2021-05-15 16:31:17,724 : INFO : worker thread finished; awaiting finish of 3 more threads\n",
            "2021-05-15 16:31:17,728 : INFO : worker thread finished; awaiting finish of 2 more threads\n",
            "2021-05-15 16:31:17,734 : INFO : worker thread finished; awaiting finish of 1 more threads\n",
            "2021-05-15 16:31:17,736 : INFO : worker thread finished; awaiting finish of 0 more threads\n",
            "2021-05-15 16:31:17,738 : INFO : EPOCH - 6 : training on 1727437 raw words (1459776 effective words) took 4.5s, 321248 effective words/s\n",
            "2021-05-15 16:31:18,785 : INFO : EPOCH 7 - PROGRESS: at 17.88% examples, 257460 words/s, in_qsize 14, out_qsize 4\n",
            "2021-05-15 16:31:19,800 : INFO : EPOCH 7 - PROGRESS: at 41.09% examples, 295258 words/s, in_qsize 16, out_qsize 1\n",
            "2021-05-15 16:31:20,900 : INFO : EPOCH 7 - PROGRESS: at 67.15% examples, 312911 words/s, in_qsize 15, out_qsize 0\n",
            "2021-05-15 16:31:21,935 : INFO : EPOCH 7 - PROGRESS: at 89.70% examples, 314322 words/s, in_qsize 15, out_qsize 0\n",
            "2021-05-15 16:31:22,214 : INFO : worker thread finished; awaiting finish of 7 more threads\n",
            "2021-05-15 16:31:22,219 : INFO : worker thread finished; awaiting finish of 6 more threads\n",
            "2021-05-15 16:31:22,222 : INFO : worker thread finished; awaiting finish of 5 more threads\n",
            "2021-05-15 16:31:22,229 : INFO : worker thread finished; awaiting finish of 4 more threads\n",
            "2021-05-15 16:31:22,236 : INFO : worker thread finished; awaiting finish of 3 more threads\n",
            "2021-05-15 16:31:22,249 : INFO : worker thread finished; awaiting finish of 2 more threads\n",
            "2021-05-15 16:31:22,259 : INFO : worker thread finished; awaiting finish of 1 more threads\n",
            "2021-05-15 16:31:22,267 : INFO : worker thread finished; awaiting finish of 0 more threads\n",
            "2021-05-15 16:31:22,269 : INFO : EPOCH - 7 : training on 1727437 raw words (1460428 effective words) took 4.5s, 324383 effective words/s\n",
            "2021-05-15 16:31:23,336 : INFO : EPOCH 8 - PROGRESS: at 19.04% examples, 268581 words/s, in_qsize 16, out_qsize 2\n",
            "2021-05-15 16:31:24,376 : INFO : EPOCH 8 - PROGRESS: at 43.38% examples, 304993 words/s, in_qsize 15, out_qsize 0\n",
            "2021-05-15 16:31:25,383 : INFO : EPOCH 8 - PROGRESS: at 67.18% examples, 317550 words/s, in_qsize 15, out_qsize 0\n",
            "2021-05-15 16:31:26,428 : INFO : EPOCH 8 - PROGRESS: at 89.70% examples, 317033 words/s, in_qsize 15, out_qsize 1\n",
            "2021-05-15 16:31:26,705 : INFO : worker thread finished; awaiting finish of 7 more threads\n",
            "2021-05-15 16:31:26,723 : INFO : worker thread finished; awaiting finish of 6 more threads\n",
            "2021-05-15 16:31:26,733 : INFO : worker thread finished; awaiting finish of 5 more threads\n",
            "2021-05-15 16:31:26,735 : INFO : worker thread finished; awaiting finish of 4 more threads\n",
            "2021-05-15 16:31:26,742 : INFO : worker thread finished; awaiting finish of 3 more threads\n",
            "2021-05-15 16:31:26,757 : INFO : worker thread finished; awaiting finish of 2 more threads\n",
            "2021-05-15 16:31:26,763 : INFO : worker thread finished; awaiting finish of 1 more threads\n",
            "2021-05-15 16:31:26,764 : INFO : worker thread finished; awaiting finish of 0 more threads\n",
            "2021-05-15 16:31:26,766 : INFO : EPOCH - 8 : training on 1727437 raw words (1460281 effective words) took 4.5s, 326714 effective words/s\n",
            "2021-05-15 16:31:27,799 : INFO : EPOCH 9 - PROGRESS: at 18.46% examples, 267794 words/s, in_qsize 14, out_qsize 1\n",
            "2021-05-15 16:31:28,821 : INFO : EPOCH 9 - PROGRESS: at 42.24% examples, 303709 words/s, in_qsize 15, out_qsize 0\n",
            "2021-05-15 16:31:29,856 : INFO : EPOCH 9 - PROGRESS: at 64.25% examples, 305877 words/s, in_qsize 16, out_qsize 6\n",
            "2021-05-15 16:31:30,866 : INFO : EPOCH 9 - PROGRESS: at 87.39% examples, 312958 words/s, in_qsize 14, out_qsize 5\n",
            "2021-05-15 16:31:31,148 : INFO : worker thread finished; awaiting finish of 7 more threads\n",
            "2021-05-15 16:31:31,158 : INFO : worker thread finished; awaiting finish of 6 more threads\n",
            "2021-05-15 16:31:31,181 : INFO : worker thread finished; awaiting finish of 5 more threads\n",
            "2021-05-15 16:31:31,225 : INFO : worker thread finished; awaiting finish of 4 more threads\n",
            "2021-05-15 16:31:31,235 : INFO : worker thread finished; awaiting finish of 3 more threads\n",
            "2021-05-15 16:31:31,245 : INFO : worker thread finished; awaiting finish of 2 more threads\n",
            "2021-05-15 16:31:31,267 : INFO : worker thread finished; awaiting finish of 1 more threads\n",
            "2021-05-15 16:31:31,268 : INFO : worker thread finished; awaiting finish of 0 more threads\n",
            "2021-05-15 16:31:31,270 : INFO : EPOCH - 9 : training on 1727437 raw words (1460327 effective words) took 4.5s, 325843 effective words/s\n",
            "2021-05-15 16:31:32,356 : INFO : EPOCH 10 - PROGRESS: at 19.63% examples, 277102 words/s, in_qsize 14, out_qsize 3\n",
            "2021-05-15 16:31:33,346 : INFO : EPOCH 10 - PROGRESS: at 43.39% examples, 308800 words/s, in_qsize 15, out_qsize 0\n",
            "2021-05-15 16:31:34,372 : INFO : EPOCH 10 - PROGRESS: at 65.42% examples, 310111 words/s, in_qsize 16, out_qsize 0\n",
            "2021-05-15 16:31:35,419 : INFO : EPOCH 10 - PROGRESS: at 90.28% examples, 319444 words/s, in_qsize 14, out_qsize 1\n",
            "2021-05-15 16:31:35,654 : INFO : worker thread finished; awaiting finish of 7 more threads\n",
            "2021-05-15 16:31:35,659 : INFO : worker thread finished; awaiting finish of 6 more threads\n",
            "2021-05-15 16:31:35,662 : INFO : worker thread finished; awaiting finish of 5 more threads\n",
            "2021-05-15 16:31:35,760 : INFO : worker thread finished; awaiting finish of 4 more threads\n",
            "2021-05-15 16:31:35,775 : INFO : worker thread finished; awaiting finish of 3 more threads\n",
            "2021-05-15 16:31:35,779 : INFO : worker thread finished; awaiting finish of 2 more threads\n",
            "2021-05-15 16:31:35,785 : INFO : worker thread finished; awaiting finish of 1 more threads\n",
            "2021-05-15 16:31:35,789 : INFO : worker thread finished; awaiting finish of 0 more threads\n",
            "2021-05-15 16:31:35,792 : INFO : EPOCH - 10 : training on 1727437 raw words (1460088 effective words) took 4.5s, 324539 effective words/s\n",
            "2021-05-15 16:31:36,825 : INFO : EPOCH 11 - PROGRESS: at 19.05% examples, 274326 words/s, in_qsize 14, out_qsize 1\n",
            "2021-05-15 16:31:37,861 : INFO : EPOCH 11 - PROGRESS: at 44.54% examples, 316963 words/s, in_qsize 15, out_qsize 0\n",
            "2021-05-15 16:31:38,865 : INFO : EPOCH 11 - PROGRESS: at 64.85% examples, 309560 words/s, in_qsize 14, out_qsize 4\n",
            "2021-05-15 16:31:39,884 : INFO : EPOCH 11 - PROGRESS: at 89.11% examples, 319239 words/s, in_qsize 16, out_qsize 0\n",
            "2021-05-15 16:31:40,262 : INFO : worker thread finished; awaiting finish of 7 more threads\n",
            "2021-05-15 16:31:40,266 : INFO : worker thread finished; awaiting finish of 6 more threads\n",
            "2021-05-15 16:31:40,268 : INFO : worker thread finished; awaiting finish of 5 more threads\n",
            "2021-05-15 16:31:40,269 : INFO : worker thread finished; awaiting finish of 4 more threads\n",
            "2021-05-15 16:31:40,277 : INFO : worker thread finished; awaiting finish of 3 more threads\n",
            "2021-05-15 16:31:40,286 : INFO : worker thread finished; awaiting finish of 2 more threads\n",
            "2021-05-15 16:31:40,322 : INFO : worker thread finished; awaiting finish of 1 more threads\n",
            "2021-05-15 16:31:40,326 : INFO : worker thread finished; awaiting finish of 0 more threads\n",
            "2021-05-15 16:31:40,327 : INFO : EPOCH - 11 : training on 1727437 raw words (1459922 effective words) took 4.5s, 323022 effective words/s\n",
            "2021-05-15 16:31:41,383 : INFO : EPOCH 12 - PROGRESS: at 20.79% examples, 292307 words/s, in_qsize 16, out_qsize 0\n",
            "2021-05-15 16:31:42,410 : INFO : EPOCH 12 - PROGRESS: at 41.66% examples, 294500 words/s, in_qsize 12, out_qsize 3\n",
            "2021-05-15 16:31:43,452 : INFO : EPOCH 12 - PROGRESS: at 66.01% examples, 309940 words/s, in_qsize 12, out_qsize 3\n",
            "2021-05-15 16:31:44,492 : INFO : EPOCH 12 - PROGRESS: at 89.12% examples, 313722 words/s, in_qsize 16, out_qsize 0\n",
            "2021-05-15 16:31:44,785 : INFO : worker thread finished; awaiting finish of 7 more threads\n",
            "2021-05-15 16:31:44,790 : INFO : worker thread finished; awaiting finish of 6 more threads\n",
            "2021-05-15 16:31:44,797 : INFO : worker thread finished; awaiting finish of 5 more threads\n",
            "2021-05-15 16:31:44,806 : INFO : worker thread finished; awaiting finish of 4 more threads\n",
            "2021-05-15 16:31:44,814 : INFO : worker thread finished; awaiting finish of 3 more threads\n",
            "2021-05-15 16:31:44,823 : INFO : worker thread finished; awaiting finish of 2 more threads\n",
            "2021-05-15 16:31:44,860 : INFO : worker thread finished; awaiting finish of 1 more threads\n",
            "2021-05-15 16:31:44,878 : INFO : worker thread finished; awaiting finish of 0 more threads\n",
            "2021-05-15 16:31:44,880 : INFO : EPOCH - 12 : training on 1727437 raw words (1460589 effective words) took 4.5s, 321927 effective words/s\n",
            "2021-05-15 16:31:45,934 : INFO : EPOCH 13 - PROGRESS: at 19.62% examples, 276755 words/s, in_qsize 15, out_qsize 0\n",
            "2021-05-15 16:31:46,962 : INFO : EPOCH 13 - PROGRESS: at 42.80% examples, 302772 words/s, in_qsize 15, out_qsize 0\n",
            "2021-05-15 16:31:47,965 : INFO : EPOCH 13 - PROGRESS: at 66.00% examples, 313958 words/s, in_qsize 15, out_qsize 0\n",
            "2021-05-15 16:31:49,018 : INFO : EPOCH 13 - PROGRESS: at 89.13% examples, 315766 words/s, in_qsize 16, out_qsize 0\n",
            "2021-05-15 16:31:49,335 : INFO : worker thread finished; awaiting finish of 7 more threads\n",
            "2021-05-15 16:31:49,337 : INFO : worker thread finished; awaiting finish of 6 more threads\n",
            "2021-05-15 16:31:49,339 : INFO : worker thread finished; awaiting finish of 5 more threads\n",
            "2021-05-15 16:31:49,368 : INFO : worker thread finished; awaiting finish of 4 more threads\n",
            "2021-05-15 16:31:49,380 : INFO : worker thread finished; awaiting finish of 3 more threads\n",
            "2021-05-15 16:31:49,405 : INFO : worker thread finished; awaiting finish of 2 more threads\n",
            "2021-05-15 16:31:49,411 : INFO : worker thread finished; awaiting finish of 1 more threads\n",
            "2021-05-15 16:31:49,425 : INFO : worker thread finished; awaiting finish of 0 more threads\n",
            "2021-05-15 16:31:49,426 : INFO : EPOCH - 13 : training on 1727437 raw words (1460680 effective words) took 4.5s, 322351 effective words/s\n",
            "2021-05-15 16:31:50,508 : INFO : EPOCH 14 - PROGRESS: at 20.22% examples, 277797 words/s, in_qsize 15, out_qsize 1\n",
            "2021-05-15 16:31:51,529 : INFO : EPOCH 14 - PROGRESS: at 45.11% examples, 316417 words/s, in_qsize 15, out_qsize 0\n",
            "2021-05-15 16:31:52,545 : INFO : EPOCH 14 - PROGRESS: at 66.00% examples, 310661 words/s, in_qsize 16, out_qsize 0\n",
            "2021-05-15 16:31:53,592 : INFO : EPOCH 14 - PROGRESS: at 89.70% examples, 315761 words/s, in_qsize 14, out_qsize 1\n",
            "2021-05-15 16:31:53,816 : INFO : worker thread finished; awaiting finish of 7 more threads\n",
            "2021-05-15 16:31:53,817 : INFO : worker thread finished; awaiting finish of 6 more threads\n",
            "2021-05-15 16:31:53,842 : INFO : worker thread finished; awaiting finish of 5 more threads\n",
            "2021-05-15 16:31:53,868 : INFO : worker thread finished; awaiting finish of 4 more threads\n",
            "2021-05-15 16:31:53,904 : INFO : worker thread finished; awaiting finish of 3 more threads\n",
            "2021-05-15 16:31:53,919 : INFO : worker thread finished; awaiting finish of 2 more threads\n",
            "2021-05-15 16:31:53,929 : INFO : worker thread finished; awaiting finish of 1 more threads\n",
            "2021-05-15 16:31:53,940 : INFO : worker thread finished; awaiting finish of 0 more threads\n",
            "2021-05-15 16:31:53,942 : INFO : EPOCH - 14 : training on 1727437 raw words (1460108 effective words) took 4.5s, 324626 effective words/s\n",
            "2021-05-15 16:31:54,977 : INFO : EPOCH 15 - PROGRESS: at 19.62% examples, 282432 words/s, in_qsize 14, out_qsize 1\n",
            "2021-05-15 16:31:55,989 : INFO : EPOCH 15 - PROGRESS: at 43.38% examples, 312244 words/s, in_qsize 12, out_qsize 0\n",
            "2021-05-15 16:31:57,046 : INFO : EPOCH 15 - PROGRESS: at 64.86% examples, 306629 words/s, in_qsize 14, out_qsize 4\n",
            "2021-05-15 16:31:58,058 : INFO : EPOCH 15 - PROGRESS: at 90.27% examples, 321510 words/s, in_qsize 15, out_qsize 0\n",
            "2021-05-15 16:31:58,261 : INFO : worker thread finished; awaiting finish of 7 more threads\n",
            "2021-05-15 16:31:58,326 : INFO : worker thread finished; awaiting finish of 6 more threads\n",
            "2021-05-15 16:31:58,334 : INFO : worker thread finished; awaiting finish of 5 more threads\n",
            "2021-05-15 16:31:58,341 : INFO : worker thread finished; awaiting finish of 4 more threads\n",
            "2021-05-15 16:31:58,348 : INFO : worker thread finished; awaiting finish of 3 more threads\n",
            "2021-05-15 16:31:58,358 : INFO : worker thread finished; awaiting finish of 2 more threads\n",
            "2021-05-15 16:31:58,372 : INFO : worker thread finished; awaiting finish of 1 more threads\n",
            "2021-05-15 16:31:58,377 : INFO : worker thread finished; awaiting finish of 0 more threads\n",
            "2021-05-15 16:31:58,380 : INFO : EPOCH - 15 : training on 1727437 raw words (1459896 effective words) took 4.4s, 330255 effective words/s\n",
            "2021-05-15 16:31:59,412 : INFO : EPOCH 16 - PROGRESS: at 21.95% examples, 314802 words/s, in_qsize 15, out_qsize 0\n",
            "2021-05-15 16:32:00,448 : INFO : EPOCH 16 - PROGRESS: at 42.81% examples, 304170 words/s, in_qsize 14, out_qsize 1\n",
            "2021-05-15 16:32:01,479 : INFO : EPOCH 16 - PROGRESS: at 67.16% examples, 317433 words/s, in_qsize 14, out_qsize 2\n",
            "2021-05-15 16:32:02,505 : INFO : EPOCH 16 - PROGRESS: at 89.70% examples, 318380 words/s, in_qsize 15, out_qsize 0\n",
            "2021-05-15 16:32:02,736 : INFO : worker thread finished; awaiting finish of 7 more threads\n",
            "2021-05-15 16:32:02,754 : INFO : worker thread finished; awaiting finish of 6 more threads\n",
            "2021-05-15 16:32:02,769 : INFO : worker thread finished; awaiting finish of 5 more threads\n",
            "2021-05-15 16:32:02,790 : INFO : worker thread finished; awaiting finish of 4 more threads\n",
            "2021-05-15 16:32:02,805 : INFO : worker thread finished; awaiting finish of 3 more threads\n",
            "2021-05-15 16:32:02,813 : INFO : worker thread finished; awaiting finish of 2 more threads\n",
            "2021-05-15 16:32:02,827 : INFO : worker thread finished; awaiting finish of 1 more threads\n",
            "2021-05-15 16:32:02,836 : INFO : worker thread finished; awaiting finish of 0 more threads\n",
            "2021-05-15 16:32:02,837 : INFO : EPOCH - 16 : training on 1727437 raw words (1459924 effective words) took 4.4s, 328435 effective words/s\n",
            "2021-05-15 16:32:03,973 : INFO : EPOCH 17 - PROGRESS: at 20.80% examples, 271540 words/s, in_qsize 15, out_qsize 0\n",
            "2021-05-15 16:32:05,003 : INFO : EPOCH 17 - PROGRESS: at 43.96% examples, 302874 words/s, in_qsize 15, out_qsize 3\n",
            "2021-05-15 16:32:05,978 : INFO : EPOCH 17 - PROGRESS: at 67.18% examples, 313687 words/s, in_qsize 16, out_qsize 0\n",
            "2021-05-15 16:32:07,095 : INFO : EPOCH 17 - PROGRESS: at 92.00% examples, 316707 words/s, in_qsize 12, out_qsize 2\n",
            "2021-05-15 16:32:07,168 : INFO : worker thread finished; awaiting finish of 7 more threads\n",
            "2021-05-15 16:32:07,239 : INFO : worker thread finished; awaiting finish of 6 more threads\n",
            "2021-05-15 16:32:07,246 : INFO : worker thread finished; awaiting finish of 5 more threads\n",
            "2021-05-15 16:32:07,250 : INFO : worker thread finished; awaiting finish of 4 more threads\n",
            "2021-05-15 16:32:07,262 : INFO : worker thread finished; awaiting finish of 3 more threads\n",
            "2021-05-15 16:32:07,293 : INFO : worker thread finished; awaiting finish of 2 more threads\n",
            "2021-05-15 16:32:07,297 : INFO : worker thread finished; awaiting finish of 1 more threads\n",
            "2021-05-15 16:32:07,299 : INFO : worker thread finished; awaiting finish of 0 more threads\n",
            "2021-05-15 16:32:07,302 : INFO : EPOCH - 17 : training on 1727437 raw words (1460280 effective words) took 4.4s, 328194 effective words/s\n",
            "2021-05-15 16:32:08,324 : INFO : EPOCH 18 - PROGRESS: at 19.04% examples, 277706 words/s, in_qsize 15, out_qsize 0\n",
            "2021-05-15 16:32:09,338 : INFO : EPOCH 18 - PROGRESS: at 42.81% examples, 309827 words/s, in_qsize 15, out_qsize 0\n",
            "2021-05-15 16:32:10,403 : INFO : EPOCH 18 - PROGRESS: at 66.59% examples, 315227 words/s, in_qsize 15, out_qsize 0\n",
            "2021-05-15 16:32:11,405 : INFO : EPOCH 18 - PROGRESS: at 89.71% examples, 320541 words/s, in_qsize 11, out_qsize 4\n",
            "2021-05-15 16:32:11,646 : INFO : worker thread finished; awaiting finish of 7 more threads\n",
            "2021-05-15 16:32:11,659 : INFO : worker thread finished; awaiting finish of 6 more threads\n",
            "2021-05-15 16:32:11,664 : INFO : worker thread finished; awaiting finish of 5 more threads\n",
            "2021-05-15 16:32:11,669 : INFO : worker thread finished; awaiting finish of 4 more threads\n",
            "2021-05-15 16:32:11,713 : INFO : worker thread finished; awaiting finish of 3 more threads\n",
            "2021-05-15 16:32:11,735 : INFO : worker thread finished; awaiting finish of 2 more threads\n",
            "2021-05-15 16:32:11,746 : INFO : worker thread finished; awaiting finish of 1 more threads\n",
            "2021-05-15 16:32:11,747 : INFO : worker thread finished; awaiting finish of 0 more threads\n",
            "2021-05-15 16:32:11,749 : INFO : EPOCH - 18 : training on 1727437 raw words (1459855 effective words) took 4.4s, 329564 effective words/s\n",
            "2021-05-15 16:32:12,797 : INFO : EPOCH 19 - PROGRESS: at 19.63% examples, 280368 words/s, in_qsize 12, out_qsize 3\n",
            "2021-05-15 16:32:13,800 : INFO : EPOCH 19 - PROGRESS: at 43.96% examples, 316764 words/s, in_qsize 14, out_qsize 0\n",
            "2021-05-15 16:32:14,837 : INFO : EPOCH 19 - PROGRESS: at 69.48% examples, 330798 words/s, in_qsize 14, out_qsize 1\n",
            "2021-05-15 16:32:15,845 : INFO : EPOCH 19 - PROGRESS: at 90.85% examples, 325688 words/s, in_qsize 14, out_qsize 1\n",
            "2021-05-15 16:32:16,010 : INFO : worker thread finished; awaiting finish of 7 more threads\n",
            "2021-05-15 16:32:16,026 : INFO : worker thread finished; awaiting finish of 6 more threads\n",
            "2021-05-15 16:32:16,037 : INFO : worker thread finished; awaiting finish of 5 more threads\n",
            "2021-05-15 16:32:16,060 : INFO : worker thread finished; awaiting finish of 4 more threads\n",
            "2021-05-15 16:32:16,080 : INFO : worker thread finished; awaiting finish of 3 more threads\n",
            "2021-05-15 16:32:16,095 : INFO : worker thread finished; awaiting finish of 2 more threads\n",
            "2021-05-15 16:32:16,106 : INFO : worker thread finished; awaiting finish of 1 more threads\n",
            "2021-05-15 16:32:16,117 : INFO : worker thread finished; awaiting finish of 0 more threads\n",
            "2021-05-15 16:32:16,119 : INFO : EPOCH - 19 : training on 1727437 raw words (1460221 effective words) took 4.3s, 335833 effective words/s\n",
            "2021-05-15 16:32:17,154 : INFO : EPOCH 20 - PROGRESS: at 19.62% examples, 281281 words/s, in_qsize 14, out_qsize 1\n",
            "2021-05-15 16:32:18,193 : INFO : EPOCH 20 - PROGRESS: at 42.83% examples, 303409 words/s, in_qsize 15, out_qsize 0\n",
            "2021-05-15 16:32:19,196 : INFO : EPOCH 20 - PROGRESS: at 66.57% examples, 317206 words/s, in_qsize 15, out_qsize 0\n",
            "2021-05-15 16:32:20,260 : INFO : EPOCH 20 - PROGRESS: at 91.42% examples, 323455 words/s, in_qsize 15, out_qsize 0\n",
            "2021-05-15 16:32:20,363 : INFO : worker thread finished; awaiting finish of 7 more threads\n",
            "2021-05-15 16:32:20,452 : INFO : worker thread finished; awaiting finish of 6 more threads\n",
            "2021-05-15 16:32:20,473 : INFO : worker thread finished; awaiting finish of 5 more threads\n",
            "2021-05-15 16:32:20,491 : INFO : worker thread finished; awaiting finish of 4 more threads\n",
            "2021-05-15 16:32:20,513 : INFO : worker thread finished; awaiting finish of 3 more threads\n",
            "2021-05-15 16:32:20,518 : INFO : worker thread finished; awaiting finish of 2 more threads\n",
            "2021-05-15 16:32:20,526 : INFO : worker thread finished; awaiting finish of 1 more threads\n",
            "2021-05-15 16:32:20,532 : INFO : worker thread finished; awaiting finish of 0 more threads\n",
            "2021-05-15 16:32:20,533 : INFO : EPOCH - 20 : training on 1727437 raw words (1460405 effective words) took 4.4s, 331802 effective words/s\n",
            "2021-05-15 16:32:21,582 : INFO : EPOCH 21 - PROGRESS: at 20.21% examples, 286048 words/s, in_qsize 15, out_qsize 0\n",
            "2021-05-15 16:32:22,606 : INFO : EPOCH 21 - PROGRESS: at 43.96% examples, 312277 words/s, in_qsize 15, out_qsize 0\n",
            "2021-05-15 16:32:23,609 : INFO : EPOCH 21 - PROGRESS: at 68.89% examples, 328622 words/s, in_qsize 15, out_qsize 0\n",
            "2021-05-15 16:32:24,615 : INFO : EPOCH 21 - PROGRESS: at 92.00% examples, 330349 words/s, in_qsize 14, out_qsize 0\n",
            "2021-05-15 16:32:24,749 : INFO : worker thread finished; awaiting finish of 7 more threads\n",
            "2021-05-15 16:32:24,752 : INFO : worker thread finished; awaiting finish of 6 more threads\n",
            "2021-05-15 16:32:24,755 : INFO : worker thread finished; awaiting finish of 5 more threads\n",
            "2021-05-15 16:32:24,850 : INFO : worker thread finished; awaiting finish of 4 more threads\n",
            "2021-05-15 16:32:24,861 : INFO : worker thread finished; awaiting finish of 3 more threads\n",
            "2021-05-15 16:32:24,881 : INFO : worker thread finished; awaiting finish of 2 more threads\n",
            "2021-05-15 16:32:24,883 : INFO : worker thread finished; awaiting finish of 1 more threads\n",
            "2021-05-15 16:32:24,886 : INFO : worker thread finished; awaiting finish of 0 more threads\n",
            "2021-05-15 16:32:24,887 : INFO : EPOCH - 21 : training on 1727437 raw words (1460402 effective words) took 4.3s, 336577 effective words/s\n",
            "2021-05-15 16:32:25,924 : INFO : EPOCH 22 - PROGRESS: at 20.22% examples, 290410 words/s, in_qsize 15, out_qsize 0\n",
            "2021-05-15 16:32:26,969 : INFO : EPOCH 22 - PROGRESS: at 45.12% examples, 319491 words/s, in_qsize 16, out_qsize 1\n",
            "2021-05-15 16:32:27,970 : INFO : EPOCH 22 - PROGRESS: at 68.91% examples, 328135 words/s, in_qsize 15, out_qsize 0\n",
            "2021-05-15 16:32:29,004 : INFO : EPOCH 22 - PROGRESS: at 91.42% examples, 327099 words/s, in_qsize 15, out_qsize 1\n",
            "2021-05-15 16:32:29,081 : INFO : worker thread finished; awaiting finish of 7 more threads\n",
            "2021-05-15 16:32:29,135 : INFO : worker thread finished; awaiting finish of 6 more threads\n",
            "2021-05-15 16:32:29,169 : INFO : worker thread finished; awaiting finish of 5 more threads\n",
            "2021-05-15 16:32:29,178 : INFO : worker thread finished; awaiting finish of 4 more threads\n",
            "2021-05-15 16:32:29,196 : INFO : worker thread finished; awaiting finish of 3 more threads\n",
            "2021-05-15 16:32:29,203 : INFO : worker thread finished; awaiting finish of 2 more threads\n",
            "2021-05-15 16:32:29,215 : INFO : worker thread finished; awaiting finish of 1 more threads\n",
            "2021-05-15 16:32:29,218 : INFO : worker thread finished; awaiting finish of 0 more threads\n",
            "2021-05-15 16:32:29,225 : INFO : EPOCH - 22 : training on 1727437 raw words (1459886 effective words) took 4.3s, 337996 effective words/s\n",
            "2021-05-15 16:32:30,273 : INFO : EPOCH 23 - PROGRESS: at 20.22% examples, 290433 words/s, in_qsize 14, out_qsize 1\n",
            "2021-05-15 16:32:31,277 : INFO : EPOCH 23 - PROGRESS: at 43.96% examples, 317752 words/s, in_qsize 15, out_qsize 0\n",
            "2021-05-15 16:32:32,305 : INFO : EPOCH 23 - PROGRESS: at 67.75% examples, 326059 words/s, in_qsize 15, out_qsize 1\n",
            "2021-05-15 16:32:33,355 : INFO : EPOCH 23 - PROGRESS: at 91.42% examples, 325587 words/s, in_qsize 15, out_qsize 0\n",
            "2021-05-15 16:32:33,447 : INFO : worker thread finished; awaiting finish of 7 more threads\n",
            "2021-05-15 16:32:33,568 : INFO : worker thread finished; awaiting finish of 6 more threads\n",
            "2021-05-15 16:32:33,581 : INFO : worker thread finished; awaiting finish of 5 more threads\n",
            "2021-05-15 16:32:33,591 : INFO : worker thread finished; awaiting finish of 4 more threads\n",
            "2021-05-15 16:32:33,593 : INFO : worker thread finished; awaiting finish of 3 more threads\n",
            "2021-05-15 16:32:33,597 : INFO : worker thread finished; awaiting finish of 2 more threads\n",
            "2021-05-15 16:32:33,609 : INFO : worker thread finished; awaiting finish of 1 more threads\n",
            "2021-05-15 16:32:33,614 : INFO : worker thread finished; awaiting finish of 0 more threads\n",
            "2021-05-15 16:32:33,616 : INFO : EPOCH - 23 : training on 1727437 raw words (1459924 effective words) took 4.4s, 334799 effective words/s\n",
            "2021-05-15 16:32:34,666 : INFO : EPOCH 24 - PROGRESS: at 20.80% examples, 294654 words/s, in_qsize 15, out_qsize 0\n",
            "2021-05-15 16:32:35,692 : INFO : EPOCH 24 - PROGRESS: at 42.83% examples, 303834 words/s, in_qsize 11, out_qsize 4\n",
            "2021-05-15 16:32:36,733 : INFO : EPOCH 24 - PROGRESS: at 67.75% examples, 318916 words/s, in_qsize 15, out_qsize 0\n",
            "2021-05-15 16:32:37,736 : INFO : EPOCH 24 - PROGRESS: at 91.42% examples, 325376 words/s, in_qsize 15, out_qsize 0\n",
            "2021-05-15 16:32:37,858 : INFO : worker thread finished; awaiting finish of 7 more threads\n",
            "2021-05-15 16:32:37,910 : INFO : worker thread finished; awaiting finish of 6 more threads\n",
            "2021-05-15 16:32:37,956 : INFO : worker thread finished; awaiting finish of 5 more threads\n",
            "2021-05-15 16:32:37,964 : INFO : worker thread finished; awaiting finish of 4 more threads\n",
            "2021-05-15 16:32:37,985 : INFO : worker thread finished; awaiting finish of 3 more threads\n",
            "2021-05-15 16:32:37,988 : INFO : worker thread finished; awaiting finish of 2 more threads\n",
            "2021-05-15 16:32:37,989 : INFO : worker thread finished; awaiting finish of 1 more threads\n",
            "2021-05-15 16:32:37,993 : INFO : worker thread finished; awaiting finish of 0 more threads\n",
            "2021-05-15 16:32:37,995 : INFO : EPOCH - 24 : training on 1727437 raw words (1459979 effective words) took 4.4s, 334745 effective words/s\n",
            "2021-05-15 16:32:39,022 : INFO : EPOCH 25 - PROGRESS: at 20.21% examples, 293746 words/s, in_qsize 15, out_qsize 0\n",
            "2021-05-15 16:32:40,054 : INFO : EPOCH 25 - PROGRESS: at 43.38% examples, 310922 words/s, in_qsize 14, out_qsize 1\n",
            "2021-05-15 16:32:41,059 : INFO : EPOCH 25 - PROGRESS: at 67.15% examples, 322095 words/s, in_qsize 15, out_qsize 0\n",
            "2021-05-15 16:32:42,104 : INFO : EPOCH 25 - PROGRESS: at 89.12% examples, 318219 words/s, in_qsize 15, out_qsize 0\n",
            "2021-05-15 16:32:42,354 : INFO : worker thread finished; awaiting finish of 7 more threads\n",
            "2021-05-15 16:32:42,366 : INFO : worker thread finished; awaiting finish of 6 more threads\n",
            "2021-05-15 16:32:42,393 : INFO : worker thread finished; awaiting finish of 5 more threads\n",
            "2021-05-15 16:32:42,412 : INFO : worker thread finished; awaiting finish of 4 more threads\n",
            "2021-05-15 16:32:42,427 : INFO : worker thread finished; awaiting finish of 3 more threads\n",
            "2021-05-15 16:32:42,431 : INFO : worker thread finished; awaiting finish of 2 more threads\n",
            "2021-05-15 16:32:42,443 : INFO : worker thread finished; awaiting finish of 1 more threads\n",
            "2021-05-15 16:32:42,454 : INFO : worker thread finished; awaiting finish of 0 more threads\n",
            "2021-05-15 16:32:42,456 : INFO : EPOCH - 25 : training on 1727437 raw words (1460369 effective words) took 4.4s, 328868 effective words/s\n",
            "2021-05-15 16:32:43,491 : INFO : EPOCH 26 - PROGRESS: at 20.20% examples, 290451 words/s, in_qsize 15, out_qsize 0\n",
            "2021-05-15 16:32:44,512 : INFO : EPOCH 26 - PROGRESS: at 43.96% examples, 314902 words/s, in_qsize 13, out_qsize 2\n",
            "2021-05-15 16:32:45,514 : INFO : EPOCH 26 - PROGRESS: at 66.59% examples, 319449 words/s, in_qsize 15, out_qsize 1\n",
            "2021-05-15 16:32:46,517 : INFO : EPOCH 26 - PROGRESS: at 87.95% examples, 317468 words/s, in_qsize 10, out_qsize 5\n",
            "2021-05-15 16:32:46,728 : INFO : worker thread finished; awaiting finish of 7 more threads\n",
            "2021-05-15 16:32:46,748 : INFO : worker thread finished; awaiting finish of 6 more threads\n",
            "2021-05-15 16:32:46,800 : INFO : worker thread finished; awaiting finish of 5 more threads\n",
            "2021-05-15 16:32:46,821 : INFO : worker thread finished; awaiting finish of 4 more threads\n",
            "2021-05-15 16:32:46,828 : INFO : worker thread finished; awaiting finish of 3 more threads\n",
            "2021-05-15 16:32:46,842 : INFO : worker thread finished; awaiting finish of 2 more threads\n",
            "2021-05-15 16:32:46,867 : INFO : worker thread finished; awaiting finish of 1 more threads\n",
            "2021-05-15 16:32:46,872 : INFO : worker thread finished; awaiting finish of 0 more threads\n",
            "2021-05-15 16:32:46,875 : INFO : EPOCH - 26 : training on 1727437 raw words (1459867 effective words) took 4.4s, 331604 effective words/s\n",
            "2021-05-15 16:32:47,915 : INFO : EPOCH 27 - PROGRESS: at 20.22% examples, 288058 words/s, in_qsize 16, out_qsize 1\n",
            "2021-05-15 16:32:48,939 : INFO : EPOCH 27 - PROGRESS: at 41.08% examples, 294848 words/s, in_qsize 16, out_qsize 4\n",
            "2021-05-15 16:32:49,925 : INFO : EPOCH 27 - PROGRESS: at 65.43% examples, 314449 words/s, in_qsize 14, out_qsize 0\n",
            "2021-05-15 16:32:50,937 : INFO : EPOCH 27 - PROGRESS: at 87.38% examples, 315185 words/s, in_qsize 15, out_qsize 1\n",
            "2021-05-15 16:32:51,238 : INFO : worker thread finished; awaiting finish of 7 more threads\n",
            "2021-05-15 16:32:51,248 : INFO : worker thread finished; awaiting finish of 6 more threads\n",
            "2021-05-15 16:32:51,271 : INFO : worker thread finished; awaiting finish of 5 more threads\n",
            "2021-05-15 16:32:51,275 : INFO : worker thread finished; awaiting finish of 4 more threads\n",
            "2021-05-15 16:32:51,299 : INFO : worker thread finished; awaiting finish of 3 more threads\n",
            "2021-05-15 16:32:51,302 : INFO : worker thread finished; awaiting finish of 2 more threads\n",
            "2021-05-15 16:32:51,331 : INFO : worker thread finished; awaiting finish of 1 more threads\n",
            "2021-05-15 16:32:51,346 : INFO : worker thread finished; awaiting finish of 0 more threads\n",
            "2021-05-15 16:32:51,349 : INFO : EPOCH - 27 : training on 1727437 raw words (1460221 effective words) took 4.5s, 327344 effective words/s\n",
            "2021-05-15 16:32:52,382 : INFO : EPOCH 28 - PROGRESS: at 19.04% examples, 273462 words/s, in_qsize 13, out_qsize 2\n",
            "2021-05-15 16:32:53,394 : INFO : EPOCH 28 - PROGRESS: at 42.24% examples, 303663 words/s, in_qsize 14, out_qsize 1\n",
            "2021-05-15 16:32:54,463 : INFO : EPOCH 28 - PROGRESS: at 68.33% examples, 321460 words/s, in_qsize 15, out_qsize 0\n",
            "2021-05-15 16:32:55,472 : INFO : EPOCH 28 - PROGRESS: at 90.85% examples, 322758 words/s, in_qsize 15, out_qsize 0\n",
            "2021-05-15 16:32:55,630 : INFO : worker thread finished; awaiting finish of 7 more threads\n",
            "2021-05-15 16:32:55,672 : INFO : worker thread finished; awaiting finish of 6 more threads\n",
            "2021-05-15 16:32:55,691 : INFO : worker thread finished; awaiting finish of 5 more threads\n",
            "2021-05-15 16:32:55,730 : INFO : worker thread finished; awaiting finish of 4 more threads\n",
            "2021-05-15 16:32:55,738 : INFO : worker thread finished; awaiting finish of 3 more threads\n",
            "2021-05-15 16:32:55,752 : INFO : worker thread finished; awaiting finish of 2 more threads\n",
            "2021-05-15 16:32:55,754 : INFO : worker thread finished; awaiting finish of 1 more threads\n",
            "2021-05-15 16:32:55,774 : INFO : worker thread finished; awaiting finish of 0 more threads\n",
            "2021-05-15 16:32:55,776 : INFO : EPOCH - 28 : training on 1727437 raw words (1459785 effective words) took 4.4s, 330738 effective words/s\n",
            "2021-05-15 16:32:56,828 : INFO : EPOCH 29 - PROGRESS: at 20.22% examples, 287755 words/s, in_qsize 15, out_qsize 0\n",
            "2021-05-15 16:32:57,832 : INFO : EPOCH 29 - PROGRESS: at 43.96% examples, 316077 words/s, in_qsize 13, out_qsize 1\n",
            "2021-05-15 16:32:58,861 : INFO : EPOCH 29 - PROGRESS: at 66.58% examples, 317407 words/s, in_qsize 15, out_qsize 0\n",
            "2021-05-15 16:32:59,875 : INFO : EPOCH 29 - PROGRESS: at 90.28% examples, 323492 words/s, in_qsize 16, out_qsize 0\n",
            "2021-05-15 16:33:00,141 : INFO : worker thread finished; awaiting finish of 7 more threads\n",
            "2021-05-15 16:33:00,174 : INFO : worker thread finished; awaiting finish of 6 more threads\n",
            "2021-05-15 16:33:00,180 : INFO : worker thread finished; awaiting finish of 5 more threads\n",
            "2021-05-15 16:33:00,195 : INFO : worker thread finished; awaiting finish of 4 more threads\n",
            "2021-05-15 16:33:00,213 : INFO : worker thread finished; awaiting finish of 3 more threads\n",
            "2021-05-15 16:33:00,215 : INFO : worker thread finished; awaiting finish of 2 more threads\n",
            "2021-05-15 16:33:00,217 : INFO : worker thread finished; awaiting finish of 1 more threads\n",
            "2021-05-15 16:33:00,221 : INFO : worker thread finished; awaiting finish of 0 more threads\n",
            "2021-05-15 16:33:00,222 : INFO : EPOCH - 29 : training on 1727437 raw words (1460000 effective words) took 4.4s, 330175 effective words/s\n",
            "2021-05-15 16:33:01,323 : INFO : EPOCH 30 - PROGRESS: at 20.80% examples, 286799 words/s, in_qsize 15, out_qsize 0\n",
            "2021-05-15 16:33:02,346 : INFO : EPOCH 30 - PROGRESS: at 43.38% examples, 300258 words/s, in_qsize 15, out_qsize 0\n",
            "2021-05-15 16:33:03,404 : INFO : EPOCH 30 - PROGRESS: at 65.43% examples, 301785 words/s, in_qsize 14, out_qsize 3\n",
            "2021-05-15 16:33:04,479 : INFO : EPOCH 30 - PROGRESS: at 90.28% examples, 312333 words/s, in_qsize 15, out_qsize 1\n",
            "2021-05-15 16:33:04,644 : INFO : worker thread finished; awaiting finish of 7 more threads\n",
            "2021-05-15 16:33:04,681 : INFO : worker thread finished; awaiting finish of 6 more threads\n",
            "2021-05-15 16:33:04,686 : INFO : worker thread finished; awaiting finish of 5 more threads\n",
            "2021-05-15 16:33:04,707 : INFO : worker thread finished; awaiting finish of 4 more threads\n",
            "2021-05-15 16:33:04,719 : INFO : worker thread finished; awaiting finish of 3 more threads\n",
            "2021-05-15 16:33:04,729 : INFO : worker thread finished; awaiting finish of 2 more threads\n",
            "2021-05-15 16:33:04,739 : INFO : worker thread finished; awaiting finish of 1 more threads\n",
            "2021-05-15 16:33:04,750 : INFO : worker thread finished; awaiting finish of 0 more threads\n",
            "2021-05-15 16:33:04,751 : INFO : EPOCH - 30 : training on 1727437 raw words (1459994 effective words) took 4.5s, 323245 effective words/s\n",
            "2021-05-15 16:33:05,775 : INFO : EPOCH 31 - PROGRESS: at 19.06% examples, 277002 words/s, in_qsize 15, out_qsize 0\n",
            "2021-05-15 16:33:06,796 : INFO : EPOCH 31 - PROGRESS: at 42.25% examples, 304315 words/s, in_qsize 15, out_qsize 0\n",
            "2021-05-15 16:33:07,798 : INFO : EPOCH 31 - PROGRESS: at 66.59% examples, 320794 words/s, in_qsize 15, out_qsize 0\n",
            "2021-05-15 16:33:08,812 : INFO : EPOCH 31 - PROGRESS: at 87.96% examples, 317656 words/s, in_qsize 15, out_qsize 0\n",
            "2021-05-15 16:33:09,125 : INFO : worker thread finished; awaiting finish of 7 more threads\n",
            "2021-05-15 16:33:09,132 : INFO : worker thread finished; awaiting finish of 6 more threads\n",
            "2021-05-15 16:33:09,137 : INFO : worker thread finished; awaiting finish of 5 more threads\n",
            "2021-05-15 16:33:09,144 : INFO : worker thread finished; awaiting finish of 4 more threads\n",
            "2021-05-15 16:33:09,181 : INFO : worker thread finished; awaiting finish of 3 more threads\n",
            "2021-05-15 16:33:09,183 : INFO : worker thread finished; awaiting finish of 2 more threads\n",
            "2021-05-15 16:33:09,198 : INFO : worker thread finished; awaiting finish of 1 more threads\n",
            "2021-05-15 16:33:09,220 : INFO : worker thread finished; awaiting finish of 0 more threads\n",
            "2021-05-15 16:33:09,221 : INFO : EPOCH - 31 : training on 1727437 raw words (1460430 effective words) took 4.5s, 327934 effective words/s\n",
            "2021-05-15 16:33:10,360 : INFO : EPOCH 32 - PROGRESS: at 19.62% examples, 257017 words/s, in_qsize 15, out_qsize 6\n",
            "2021-05-15 16:33:11,617 : INFO : EPOCH 32 - PROGRESS: at 47.44% examples, 305730 words/s, in_qsize 16, out_qsize 7\n",
            "2021-05-15 16:33:12,523 : INFO : EPOCH 32 - PROGRESS: at 71.21% examples, 316675 words/s, in_qsize 15, out_qsize 0\n",
            "2021-05-15 16:33:13,527 : INFO : EPOCH 32 - PROGRESS: at 94.89% examples, 323333 words/s, in_qsize 8, out_qsize 1\n",
            "2021-05-15 16:33:13,530 : INFO : worker thread finished; awaiting finish of 7 more threads\n",
            "2021-05-15 16:33:13,544 : INFO : worker thread finished; awaiting finish of 6 more threads\n",
            "2021-05-15 16:33:13,557 : INFO : worker thread finished; awaiting finish of 5 more threads\n",
            "2021-05-15 16:33:13,567 : INFO : worker thread finished; awaiting finish of 4 more threads\n",
            "2021-05-15 16:33:13,587 : INFO : worker thread finished; awaiting finish of 3 more threads\n",
            "2021-05-15 16:33:13,605 : INFO : worker thread finished; awaiting finish of 2 more threads\n",
            "2021-05-15 16:33:13,612 : INFO : worker thread finished; awaiting finish of 1 more threads\n",
            "2021-05-15 16:33:13,635 : INFO : worker thread finished; awaiting finish of 0 more threads\n",
            "2021-05-15 16:33:13,637 : INFO : EPOCH - 32 : training on 1727437 raw words (1459803 effective words) took 4.4s, 332211 effective words/s\n",
            "2021-05-15 16:33:13,638 : INFO : training on a 55277984 raw words (46723578 effective words) took 144.0s, 324418 effective words/s\n"
          ],
          "name": "stderr"
        },
        {
          "output_type": "stream",
          "text": [
            "CPU times: user 4min 32s, sys: 1.66 s, total: 4min 34s\n",
            "Wall time: 2min 24s\n"
          ],
          "name": "stdout"
        },
        {
          "output_type": "execute_result",
          "data": {
            "text/plain": [
              "(46723578, 55277984)"
            ]
          },
          "metadata": {
            "tags": []
          },
          "execution_count": 18
        }
      ]
    },
    {
      "cell_type": "code",
      "metadata": {
        "_uuid": "27cc2651c74227115d8bfd8c40e5618048e05edd",
        "id": "KkZqiavVRf1o",
        "colab": {
          "base_uri": "https://localhost:8080/"
        },
        "outputId": "47d0214e-9c84-4b3b-d42f-bff3538f6680"
      },
      "source": [
        "w2v_model.wv.most_similar(\"love\")"
      ],
      "execution_count": 19,
      "outputs": [
        {
          "output_type": "stream",
          "text": [
            "2021-05-15 16:33:13,655 : INFO : precomputing L2-norms of word weight vectors\n"
          ],
          "name": "stderr"
        },
        {
          "output_type": "execute_result",
          "data": {
            "text/plain": [
              "[('adore', 0.4325089752674103),\n",
              " ('luv', 0.41468775272369385),\n",
              " ('lovee', 0.40065211057662964),\n",
              " ('loveee', 0.378042995929718),\n",
              " ('selenagomez', 0.36898863315582275),\n",
              " ('loove', 0.3506980240345001),\n",
              " ('amazing', 0.3457082211971283),\n",
              " ('talented', 0.34073561429977417),\n",
              " ('loved', 0.33545026183128357),\n",
              " ('debby', 0.33113837242126465)]"
            ]
          },
          "metadata": {
            "tags": []
          },
          "execution_count": 19
        }
      ]
    },
    {
      "cell_type": "markdown",
      "metadata": {
        "_uuid": "e13563644468037258598637b49373ca96b9b879",
        "id": "SeiTcGISRf1p"
      },
      "source": [
        "### Tokenize Text"
      ]
    },
    {
      "cell_type": "code",
      "metadata": {
        "_uuid": "6852bc709a7cd20173cbeeb218505078f8f37c57",
        "id": "G_qhSPVGRf1p",
        "colab": {
          "base_uri": "https://localhost:8080/"
        },
        "outputId": "0b22b19c-c096-44fd-b961-d7d6324ee807"
      },
      "source": [
        "%%time\n",
        "tokenizer = Tokenizer()\n",
        "tokenizer.fit_on_texts(df_train.text)\n",
        "\n",
        "vocab_size = len(tokenizer.word_index) + 1\n",
        "print(\"Total words\", vocab_size)"
      ],
      "execution_count": 20,
      "outputs": [
        {
          "output_type": "stream",
          "text": [
            "Total words 99907\n",
            "CPU times: user 3.84 s, sys: 104 ms, total: 3.95 s\n",
            "Wall time: 3.9 s\n"
          ],
          "name": "stdout"
        }
      ]
    },
    {
      "cell_type": "code",
      "metadata": {
        "_uuid": "45de439df3015030c71f84c2d170346936a1d68f",
        "id": "VpTFNY7CRf1q",
        "colab": {
          "base_uri": "https://localhost:8080/"
        },
        "outputId": "19f1f2c7-d035-4ae3-9015-2440aa05f7f4"
      },
      "source": [
        "%%time\n",
        "x_train = pad_sequences(tokenizer.texts_to_sequences(df_train.text), maxlen=SEQUENCE_LENGTH)\n",
        "x_test = pad_sequences(tokenizer.texts_to_sequences(df_test.text), maxlen=SEQUENCE_LENGTH)"
      ],
      "execution_count": 21,
      "outputs": [
        {
          "output_type": "stream",
          "text": [
            "CPU times: user 5.59 s, sys: 168 ms, total: 5.76 s\n",
            "Wall time: 5.72 s\n"
          ],
          "name": "stdout"
        }
      ]
    },
    {
      "cell_type": "markdown",
      "metadata": {
        "_uuid": "03b35903fc6260e190d6928d240ef7432de117fc",
        "id": "wlDm7cCERf1q"
      },
      "source": [
        "### Label Encoder "
      ]
    },
    {
      "cell_type": "code",
      "metadata": {
        "_uuid": "33676e0efa39e97d89bd650b8b4eae933a22fbf0",
        "id": "xpPuWpzlRf1r",
        "colab": {
          "base_uri": "https://localhost:8080/"
        },
        "outputId": "2c1dd5f1-b5a8-4fc6-b2f7-fd9a919a528f"
      },
      "source": [
        "labels = df_train.target.unique().tolist()\n",
        "labels.append(NEUTRAL)\n",
        "labels"
      ],
      "execution_count": 22,
      "outputs": [
        {
          "output_type": "execute_result",
          "data": {
            "text/plain": [
              "['POSITIVE', 'NEGATIVE', 'NEUTRAL']"
            ]
          },
          "metadata": {
            "tags": []
          },
          "execution_count": 22
        }
      ]
    },
    {
      "cell_type": "code",
      "metadata": {
        "_uuid": "04239a9bef76e7922fd86098a5601dfde8ee4665",
        "id": "wcdKHvm-Rf1u",
        "colab": {
          "base_uri": "https://localhost:8080/"
        },
        "outputId": "ca93c1a0-d774-4858-d2c7-e9d9d0ab3644"
      },
      "source": [
        "encoder = LabelEncoder()\n",
        "encoder.fit(df_train.target.tolist())\n",
        "\n",
        "y_train = encoder.transform(df_train.target.tolist())\n",
        "y_test = encoder.transform(df_test.target.tolist())\n",
        "\n",
        "y_train = y_train.reshape(-1,1)\n",
        "y_test = y_test.reshape(-1,1)\n",
        "\n",
        "print(\"y_train\",y_train.shape)\n",
        "print(\"y_test\",y_test.shape)"
      ],
      "execution_count": 23,
      "outputs": [
        {
          "output_type": "stream",
          "text": [
            "y_train (240000, 1)\n",
            "y_test (60000, 1)\n"
          ],
          "name": "stdout"
        }
      ]
    },
    {
      "cell_type": "code",
      "metadata": {
        "_uuid": "04299c886911ca135583ab64878f213939a2990c",
        "id": "xFQZLBzERf1w",
        "colab": {
          "base_uri": "https://localhost:8080/"
        },
        "outputId": "7dc080af-4e53-456f-feb7-aea05b92bdbf"
      },
      "source": [
        "print(\"x_train\", x_train.shape)\n",
        "print(\"y_train\", y_train.shape)\n",
        "print()\n",
        "print(\"x_test\", x_test.shape)\n",
        "print(\"y_test\", y_test.shape)"
      ],
      "execution_count": 24,
      "outputs": [
        {
          "output_type": "stream",
          "text": [
            "x_train (240000, 300)\n",
            "y_train (240000, 1)\n",
            "\n",
            "x_test (60000, 300)\n",
            "y_test (60000, 1)\n"
          ],
          "name": "stdout"
        }
      ]
    },
    {
      "cell_type": "code",
      "metadata": {
        "_uuid": "232533fb27b7be99d9b8c2f8fb22c9c6bf121a6f",
        "id": "5MiCsCtZRf1x",
        "colab": {
          "base_uri": "https://localhost:8080/"
        },
        "outputId": "3831a89a-0760-4795-bfd8-4e6bead29ec3"
      },
      "source": [
        "y_train[:10]"
      ],
      "execution_count": 25,
      "outputs": [
        {
          "output_type": "execute_result",
          "data": {
            "text/plain": [
              "array([[1],\n",
              "       [0],\n",
              "       [1],\n",
              "       [1],\n",
              "       [1],\n",
              "       [0],\n",
              "       [0],\n",
              "       [0],\n",
              "       [0],\n",
              "       [0]])"
            ]
          },
          "metadata": {
            "tags": []
          },
          "execution_count": 25
        }
      ]
    },
    {
      "cell_type": "markdown",
      "metadata": {
        "_uuid": "233c0ea94055a03e2e7df3e2a13d036ec963484f",
        "id": "a8qugjWcRf1y"
      },
      "source": [
        "### Embedding layer"
      ]
    },
    {
      "cell_type": "code",
      "metadata": {
        "_uuid": "9ab488374b59e3f30f8b1ea92767d853c4846bac",
        "id": "yutKRgdbRf1y",
        "colab": {
          "base_uri": "https://localhost:8080/"
        },
        "outputId": "ef2f7564-f617-42b4-9676-42983b005665"
      },
      "source": [
        "embedding_matrix = np.zeros((vocab_size, W2V_SIZE))\n",
        "for word, i in tokenizer.word_index.items():\n",
        "  if word in w2v_model.wv:\n",
        "    embedding_matrix[i] = w2v_model.wv[word]\n",
        "print(embedding_matrix.shape)"
      ],
      "execution_count": 26,
      "outputs": [
        {
          "output_type": "stream",
          "text": [
            "(99907, 300)\n"
          ],
          "name": "stdout"
        }
      ]
    },
    {
      "cell_type": "code",
      "metadata": {
        "_uuid": "833279d91e4286065968237fb5f2a0c2dd4d246c",
        "id": "wRjtrNliRf1z"
      },
      "source": [
        "embedding_layer = Embedding(vocab_size, W2V_SIZE, weights=[embedding_matrix], input_length=SEQUENCE_LENGTH, trainable=False)"
      ],
      "execution_count": 27,
      "outputs": []
    },
    {
      "cell_type": "markdown",
      "metadata": {
        "_uuid": "b299ef78f94c2085942c993a2d58753a7476305a",
        "id": "VPEYqutSRf10"
      },
      "source": [
        "### Build Model"
      ]
    },
    {
      "cell_type": "code",
      "metadata": {
        "_uuid": "e775ef4f1b74e6412457181383c39f2df554ef3f",
        "id": "lCCttFOlRf10",
        "colab": {
          "base_uri": "https://localhost:8080/"
        },
        "outputId": "efe8e53a-0a2e-4396-9fd7-601f636856be"
      },
      "source": [
        "model = Sequential()\n",
        "model.add(embedding_layer)\n",
        "model.add(Dropout(0.5))\n",
        "model.add(LSTM(100, dropout=0.2, recurrent_dropout=0.2))\n",
        "model.add(Dense(1, activation='sigmoid'))\n",
        "\n",
        "model.summary()"
      ],
      "execution_count": 28,
      "outputs": [
        {
          "output_type": "stream",
          "text": [
            "Model: \"sequential\"\n",
            "_________________________________________________________________\n",
            "Layer (type)                 Output Shape              Param #   \n",
            "=================================================================\n",
            "embedding (Embedding)        (None, 300, 300)          29972100  \n",
            "_________________________________________________________________\n",
            "dropout (Dropout)            (None, 300, 300)          0         \n",
            "_________________________________________________________________\n",
            "lstm (LSTM)                  (None, 100)               160400    \n",
            "_________________________________________________________________\n",
            "dense (Dense)                (None, 1)                 101       \n",
            "=================================================================\n",
            "Total params: 30,132,601\n",
            "Trainable params: 160,501\n",
            "Non-trainable params: 29,972,100\n",
            "_________________________________________________________________\n"
          ],
          "name": "stdout"
        }
      ]
    },
    {
      "cell_type": "markdown",
      "metadata": {
        "_uuid": "28d22eafd0c7d798dcf3d742bc92fb8577939e6c",
        "id": "tXXMUstBRf11"
      },
      "source": [
        "### Compile model"
      ]
    },
    {
      "cell_type": "code",
      "metadata": {
        "_uuid": "1331e08d590bb2aa2033706c8faca217afc0f1c3",
        "id": "x22z5fdBRf11"
      },
      "source": [
        "model.compile(loss='binary_crossentropy',\n",
        "              optimizer=\"adam\",\n",
        "              metrics=['accuracy'])"
      ],
      "execution_count": 29,
      "outputs": []
    },
    {
      "cell_type": "markdown",
      "metadata": {
        "_uuid": "c7733127cb8b380e0c807268903bf4d03ef92542",
        "id": "p3Lf96UMRf12"
      },
      "source": [
        "### Callbacks"
      ]
    },
    {
      "cell_type": "code",
      "metadata": {
        "_uuid": "a688df590386f5748da6fe00b01904fe6c71619e",
        "id": "1czWwOsTRf12"
      },
      "source": [
        "callbacks = [ ReduceLROnPlateau(monitor='val_loss', patience=5, cooldown=0),\n",
        "              EarlyStopping(monitor='val_acc', min_delta=1e-4, patience=5)]"
      ],
      "execution_count": 30,
      "outputs": []
    },
    {
      "cell_type": "markdown",
      "metadata": {
        "_uuid": "8d0873633dd49179c8cae17377641b97d323ef3b",
        "id": "ESgl3PgIRf12"
      },
      "source": [
        "### Train"
      ]
    },
    {
      "cell_type": "code",
      "metadata": {
        "_uuid": "2b659d390c6577dc5cdb6b6297934279b4e801d5",
        "id": "HwRoipBFRf15",
        "colab": {
          "base_uri": "https://localhost:8080/"
        },
        "outputId": "b63eb13d-ab50-4270-d66f-97741835af0b"
      },
      "source": [
        "%%time\n",
        "history = model.fit(x_train, y_train,\n",
        "                    batch_size=BATCH_SIZE,\n",
        "                    epochs=EPOCHS,\n",
        "                    validation_split=0.1,\n",
        "                    verbose=1,\n",
        "                    callbacks=callbacks)"
      ],
      "execution_count": null,
      "outputs": [
        {
          "output_type": "stream",
          "text": [
            "Epoch 1/8\n",
            "  2/211 [..............................] - ETA: 46:06 - loss: 0.6967 - accuracy: 0.5168  "
          ],
          "name": "stdout"
        }
      ]
    },
    {
      "cell_type": "markdown",
      "metadata": {
        "_uuid": "267258196d96796ac69a7b8c466314bcf5d6ee42",
        "id": "jAaD2XtCRf16"
      },
      "source": [
        "### Evaluate"
      ]
    },
    {
      "cell_type": "code",
      "metadata": {
        "_uuid": "98ecd8f1b8b74594c3ea775dd68a094e92458022",
        "id": "LoaxoUFzRf16"
      },
      "source": [
        "%%time\n",
        "score = model.evaluate(x_test, y_test, batch_size=BATCH_SIZE)\n",
        "print()\n",
        "print(\"ACCURACY:\",score[1])\n",
        "print(\"LOSS:\",score[0])"
      ],
      "execution_count": null,
      "outputs": []
    },
    {
      "cell_type": "markdown",
      "metadata": {
        "_uuid": "6bdfc0f6a6af5bebc0271d83dd7432c91001409b",
        "id": "PiYTiH2wRf17"
      },
      "source": [
        "### Predict"
      ]
    },
    {
      "cell_type": "code",
      "metadata": {
        "_uuid": "f0b0fa3d4b1bb14b3f5e3d169a369f3ebef29ae1",
        "id": "Vv3oxeaFRf18"
      },
      "source": [
        "def decode_sentiment(score, include_neutral=True):\n",
        "    if include_neutral:        \n",
        "        label = NEUTRAL\n",
        "        if score <= SENTIMENT_THRESHOLDS[0]:\n",
        "            label = NEGATIVE\n",
        "        elif score >= SENTIMENT_THRESHOLDS[1]:\n",
        "            label = POSITIVE\n",
        "\n",
        "        return label\n",
        "    else:\n",
        "        return NEGATIVE if score < 0.5 else POSITIVE"
      ],
      "execution_count": null,
      "outputs": []
    },
    {
      "cell_type": "code",
      "metadata": {
        "_uuid": "ed4086d651f2f8cbed11d3c909a8873607d29a06",
        "id": "T9oWzSa-Rf19"
      },
      "source": [
        "def predict(text, include_neutral=True):\n",
        "    start_at = time.time()\n",
        "    # Tokenize text\n",
        "    x_test = pad_sequences(tokenizer.texts_to_sequences([text]), maxlen=SEQUENCE_LENGTH)\n",
        "    # Predict\n",
        "    score = model.predict([x_test])[0]\n",
        "    # Decode sentiment\n",
        "    label = decode_sentiment(score, include_neutral=include_neutral)\n",
        "\n",
        "    return {\"label\": label, \"score\": float(score),\n",
        "       \"elapsed_time\": time.time()-start_at}  "
      ],
      "execution_count": null,
      "outputs": []
    },
    {
      "cell_type": "code",
      "metadata": {
        "_uuid": "ca38b1e6c9b5acfed7467de2cf02a78333108872",
        "id": "uUoCaZy2Rf1-"
      },
      "source": [
        "predict(\"I love the music\")"
      ],
      "execution_count": null,
      "outputs": []
    },
    {
      "cell_type": "code",
      "metadata": {
        "_uuid": "0e5fe647533be0148850de349fea6ef6f71303d1",
        "id": "xQv4zQUxRf1-"
      },
      "source": [
        "predict(\"I hate the rain\")"
      ],
      "execution_count": null,
      "outputs": []
    },
    {
      "cell_type": "code",
      "metadata": {
        "_uuid": "37064dffcc8920d34ccd54fac7c8b50e583a8269",
        "id": "gGLmOnmeRf1-"
      },
      "source": [
        "predict(\"i don't know what i'm doing\")"
      ],
      "execution_count": null,
      "outputs": []
    },
    {
      "cell_type": "markdown",
      "metadata": {
        "_uuid": "3ee72e47f84b6dbc32e02a783de5ec1661f157e1",
        "id": "Cp2gEThBRf1_"
      },
      "source": [
        "### Confusion Matrix"
      ]
    },
    {
      "cell_type": "code",
      "metadata": {
        "_uuid": "0e920173eb05f04aecdd735bc5dff0f5be5f8d15",
        "id": "NpvbxZelRf1_"
      },
      "source": [
        "%%time\n",
        "y_pred_1d = []\n",
        "y_test_1d = list(df_test.target)\n",
        "scores = model.predict(x_test, verbose=1, batch_size=8000)\n",
        "y_pred_1d = [decode_sentiment(score, include_neutral=False) for score in scores]"
      ],
      "execution_count": null,
      "outputs": []
    },
    {
      "cell_type": "markdown",
      "metadata": {
        "_uuid": "e23b957348dcc084249d3cc7538b972da471c2cd",
        "id": "4Dzjnez2Rf2A"
      },
      "source": [
        "### Classification Report"
      ]
    },
    {
      "cell_type": "code",
      "metadata": {
        "_uuid": "a7fe05b7caa1c984ff1deb0be2f7c6bc043df9f5",
        "id": "Ip5NvGWlRf2A"
      },
      "source": [
        "print(classification_report(y_test_1d, y_pred_1d))"
      ],
      "execution_count": null,
      "outputs": []
    },
    {
      "cell_type": "markdown",
      "metadata": {
        "_uuid": "4eb300f0c6693a618587c7dcf32f77f5416cbfb9",
        "id": "5zEDuU1ARf2A"
      },
      "source": [
        "### Accuracy Score"
      ]
    },
    {
      "cell_type": "code",
      "metadata": {
        "_uuid": "5cf76e6e09f8a60ed25947932b94c772eda44d23",
        "id": "-kq6djsrRf2B"
      },
      "source": [
        "accuracy_score(y_test_1d, y_pred_1d)"
      ],
      "execution_count": null,
      "outputs": []
    },
    {
      "cell_type": "markdown",
      "metadata": {
        "_uuid": "4f014c32f3833db282e1a075c526604f34e3158c",
        "id": "z8siE268Rf2B"
      },
      "source": [
        "### Save model"
      ]
    },
    {
      "cell_type": "code",
      "metadata": {
        "_uuid": "3b2b3ad5b592977b404acfa1c9ad303a62837255",
        "id": "3a9eLisyRf2B"
      },
      "source": [
        "model.save(KERAS_MODEL)\n",
        "w2v_model.save(WORD2VEC_MODEL)\n",
        "pickle.dump(tokenizer, open(TOKENIZER_MODEL, \"wb\"), protocol=0)\n",
        "pickle.dump(encoder, open(ENCODER_MODEL, \"wb\"), protocol=0)"
      ],
      "execution_count": null,
      "outputs": []
    },
    {
      "cell_type": "code",
      "metadata": {
        "_uuid": "cc363c54782894757f5ea8820c6a170f2e16ef93",
        "id": "GoHFcx1rRf2C"
      },
      "source": [
        ""
      ],
      "execution_count": null,
      "outputs": []
    }
  ]
}