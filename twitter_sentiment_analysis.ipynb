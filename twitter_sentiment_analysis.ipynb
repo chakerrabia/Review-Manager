{
 "cells": [
  {
   "cell_type": "markdown",
   "metadata": {
    "_uuid": "92b885dd147dac19bd0a33db3cd0da100bd5bc23",
    "id": "A_gugn31Rf1E"
   },
   "source": [
    "# Twitter Sentiment Analysis"
   ]
  },
  {
   "cell_type": "code",
   "execution_count": null,
   "metadata": {},
   "outputs": [],
   "source": []
  },
  {
   "cell_type": "code",
   "execution_count": 1,
   "metadata": {
    "_uuid": "303e72966af732ddef0bd8108a321095314e44af",
    "id": "vt2tm2bYRf1S"
   },
   "outputs": [
    {
     "name": "stderr",
     "output_type": "stream",
     "text": [
      "c:\\users\\skrzy\\appdata\\local\\programs\\python\\python37\\lib\\site-packages\\gensim\\similarities\\__init__.py:15: UserWarning: The gensim.similarities.levenshtein submodule is disabled, because the optional Levenshtein package <https://pypi.org/project/python-Levenshtein/> is unavailable. Install Levenhstein (e.g. `pip install python-Levenshtein`) to suppress this warning.\n",
      "  warnings.warn(msg)\n"
     ]
    }
   ],
   "source": [
    "# DataFrame\n",
    "import pandas as pd\n",
    "\n",
    "\n",
    "# Scikit-learn\n",
    "from sklearn.model_selection import train_test_split\n",
    "from sklearn.preprocessing import LabelEncoder\n",
    "from sklearn.metrics import confusion_matrix, classification_report, accuracy_score\n",
    "from sklearn.manifold import TSNE\n",
    "from sklearn.feature_extraction.text import TfidfVectorizer\n",
    "\n",
    "# Keras\n",
    "from keras.preprocessing.text import Tokenizer\n",
    "from keras.preprocessing.sequence import pad_sequences\n",
    "from keras.models import Sequential\n",
    "from keras.layers import Activation, Dense, Dropout, Embedding, Flatten, Conv1D, MaxPooling1D, LSTM\n",
    "from keras import utils\n",
    "from keras.callbacks import ReduceLROnPlateau, EarlyStopping\n",
    "\n",
    "# nltk\n",
    "import nltk\n",
    "from nltk.corpus import stopwords\n",
    "from  nltk.stem import SnowballStemmer\n",
    "\n",
    "# Word2vec\n",
    "import gensim\n",
    "\n",
    "# Utility\n",
    "import re\n",
    "import numpy as np\n",
    "import os\n",
    "from collections import Counter\n",
    "import logging\n",
    "import time\n",
    "import pickle\n",
    "import itertools\n",
    "\n",
    "# Set log\n",
    "logging.basicConfig(format='%(asctime)s : %(levelname)s : %(message)s', level=logging.INFO)"
   ]
  },
  {
   "cell_type": "code",
   "execution_count": 2,
   "metadata": {
    "_uuid": "35e1a89dead5fd160e4c9a024a21d2e569fc89ff",
    "colab": {
     "base_uri": "https://localhost:8080/"
    },
    "id": "2csADUSlRf1V",
    "outputId": "b74f9e64-2022-4bdd-bb8f-6ea8281da6af"
   },
   "outputs": [
    {
     "name": "stderr",
     "output_type": "stream",
     "text": [
      "[nltk_data] Downloading package stopwords to\n",
      "[nltk_data]     C:\\Users\\skrzy\\AppData\\Roaming\\nltk_data...\n",
      "[nltk_data]   Package stopwords is already up-to-date!\n"
     ]
    },
    {
     "data": {
      "text/plain": [
       "True"
      ]
     },
     "execution_count": 2,
     "metadata": {},
     "output_type": "execute_result"
    }
   ],
   "source": [
    "nltk.download('stopwords')"
   ]
  },
  {
   "cell_type": "markdown",
   "metadata": {
    "_uuid": "e8b01a07df001e4abcc745900336c4db06e455f3",
    "id": "4J_tGfs7Rf1W"
   },
   "source": [
    "### Settings"
   ]
  },
  {
   "cell_type": "code",
   "execution_count": 3,
   "metadata": {
    "_uuid": "180f0dd2a95419e4602b5c0229822b0111c826f6",
    "id": "Ye8kXQPMRf1X"
   },
   "outputs": [],
   "source": [
    "# DATASET\n",
    "DATASET_COLUMNS = [\"target\", \"ids\", \"date\", \"flag\", \"user\", \"text\"]\n",
    "DATASET_ENCODING = \"ISO-8859-1\"\n",
    "TRAIN_SIZE = 0.8\n",
    "\n",
    "# TEXT CLENAING\n",
    "TEXT_CLEANING_RE = \"@\\S+|https?:\\S+|http?:\\S|[^A-Za-z0-9]+\"\n",
    "\n",
    "# WORD2VEC \n",
    "W2V_SIZE = 300\n",
    "W2V_WINDOW = 7\n",
    "W2V_EPOCH = 32\n",
    "W2V_MIN_COUNT = 10\n",
    "\n",
    "# KERAS\n",
    "SEQUENCE_LENGTH = 300\n",
    "EPOCHS = 8\n",
    "BATCH_SIZE = 1024\n",
    "\n",
    "# SENTIMENT\n",
    "POSITIVE = \"POSITIVE\"\n",
    "NEGATIVE = \"NEGATIVE\"\n",
    "NEUTRAL = \"NEUTRAL\"\n",
    "SENTIMENT_THRESHOLDS = (0.4, 0.7)\n",
    "\n",
    "# EXPORT\n",
    "KERAS_MODEL = \"model.h5\"\n",
    "WORD2VEC_MODEL = \"model.w2v\"\n",
    "TOKENIZER_MODEL = \"tokenizer.pkl\"\n",
    "ENCODER_MODEL = \"encoder.pkl\""
   ]
  },
  {
   "cell_type": "markdown",
   "metadata": {
    "_uuid": "1c3beecc618be68480b3d4f0de08d9d863da1dc1",
    "id": "wBUGkeGKRf1Y"
   },
   "source": [
    "### Read Dataset"
   ]
  },
  {
   "cell_type": "markdown",
   "metadata": {
    "_uuid": "563b3c44f1092dba0b853747b098e00509098cca",
    "id": "N-eGXs_DRf1Y"
   },
   "source": [
    "### Dataset details\n",
    "* **target**: the polarity of the tweet (0 = negative, 2 = neutral, 4 = positive)\n",
    "* **ids**: The id of the tweet ( 2087)\n",
    "* **date**: the date of the tweet (Sat May 16 23:58:44 UTC 2009)\n",
    "* **flag**: The query (lyx). If there is no query, then this value is NO_QUERY.\n",
    "* **user**: the user that tweeted (robotickilldozr)\n",
    "* **text**: the text of the tweet (Lyx is cool)"
   ]
  },
  {
   "cell_type": "code",
   "execution_count": 5,
   "metadata": {
    "_uuid": "bba8f91cd70de4f5ea0fb0870ae2029b6e3dcc24",
    "id": "LUF5cGCzRf1Z"
   },
   "outputs": [],
   "source": [
    "\n",
    "df = pd.read_csv('training.1600000.processed.noemoticon.csv', encoding =DATASET_ENCODING , names=DATASET_COLUMNS)"
   ]
  },
  {
   "cell_type": "code",
   "execution_count": 6,
   "metadata": {
    "_uuid": "936d499c00c4f1648bc16ca9d283c3b39be7fb10",
    "colab": {
     "base_uri": "https://localhost:8080/"
    },
    "id": "d2v6j8wiRf1a",
    "outputId": "97eb6d4b-8a38-457f-db0e-03e35a9a2200"
   },
   "outputs": [
    {
     "name": "stdout",
     "output_type": "stream",
     "text": [
      "Dataset size: 1600000\n"
     ]
    }
   ],
   "source": [
    "print(\"Dataset size:\", len(df))"
   ]
  },
  {
   "cell_type": "code",
   "execution_count": 7,
   "metadata": {
    "_uuid": "7486ed895b813c5246f97b31b6162b0f65ff763b",
    "colab": {
     "base_uri": "https://localhost:8080/",
     "height": 295
    },
    "id": "vKlGxvGlRf1b",
    "outputId": "f2be45fe-cc79-4777-9a56-627d5f3f9496"
   },
   "outputs": [
    {
     "data": {
      "text/html": [
       "<div>\n",
       "<style scoped>\n",
       "    .dataframe tbody tr th:only-of-type {\n",
       "        vertical-align: middle;\n",
       "    }\n",
       "\n",
       "    .dataframe tbody tr th {\n",
       "        vertical-align: top;\n",
       "    }\n",
       "\n",
       "    .dataframe thead th {\n",
       "        text-align: right;\n",
       "    }\n",
       "</style>\n",
       "<table border=\"1\" class=\"dataframe\">\n",
       "  <thead>\n",
       "    <tr style=\"text-align: right;\">\n",
       "      <th></th>\n",
       "      <th>target</th>\n",
       "      <th>ids</th>\n",
       "      <th>date</th>\n",
       "      <th>flag</th>\n",
       "      <th>user</th>\n",
       "      <th>text</th>\n",
       "    </tr>\n",
       "  </thead>\n",
       "  <tbody>\n",
       "    <tr>\n",
       "      <th>0</th>\n",
       "      <td>0</td>\n",
       "      <td>1467810369</td>\n",
       "      <td>Mon Apr 06 22:19:45 PDT 2009</td>\n",
       "      <td>NO_QUERY</td>\n",
       "      <td>_TheSpecialOne_</td>\n",
       "      <td>@switchfoot http://twitpic.com/2y1zl - Awww, t...</td>\n",
       "    </tr>\n",
       "    <tr>\n",
       "      <th>1</th>\n",
       "      <td>0</td>\n",
       "      <td>1467810672</td>\n",
       "      <td>Mon Apr 06 22:19:49 PDT 2009</td>\n",
       "      <td>NO_QUERY</td>\n",
       "      <td>scotthamilton</td>\n",
       "      <td>is upset that he can't update his Facebook by ...</td>\n",
       "    </tr>\n",
       "    <tr>\n",
       "      <th>2</th>\n",
       "      <td>0</td>\n",
       "      <td>1467810917</td>\n",
       "      <td>Mon Apr 06 22:19:53 PDT 2009</td>\n",
       "      <td>NO_QUERY</td>\n",
       "      <td>mattycus</td>\n",
       "      <td>@Kenichan I dived many times for the ball. Man...</td>\n",
       "    </tr>\n",
       "    <tr>\n",
       "      <th>3</th>\n",
       "      <td>0</td>\n",
       "      <td>1467811184</td>\n",
       "      <td>Mon Apr 06 22:19:57 PDT 2009</td>\n",
       "      <td>NO_QUERY</td>\n",
       "      <td>ElleCTF</td>\n",
       "      <td>my whole body feels itchy and like its on fire</td>\n",
       "    </tr>\n",
       "    <tr>\n",
       "      <th>4</th>\n",
       "      <td>0</td>\n",
       "      <td>1467811193</td>\n",
       "      <td>Mon Apr 06 22:19:57 PDT 2009</td>\n",
       "      <td>NO_QUERY</td>\n",
       "      <td>Karoli</td>\n",
       "      <td>@nationwideclass no, it's not behaving at all....</td>\n",
       "    </tr>\n",
       "  </tbody>\n",
       "</table>\n",
       "</div>"
      ],
      "text/plain": [
       "   target         ids                          date      flag  \\\n",
       "0       0  1467810369  Mon Apr 06 22:19:45 PDT 2009  NO_QUERY   \n",
       "1       0  1467810672  Mon Apr 06 22:19:49 PDT 2009  NO_QUERY   \n",
       "2       0  1467810917  Mon Apr 06 22:19:53 PDT 2009  NO_QUERY   \n",
       "3       0  1467811184  Mon Apr 06 22:19:57 PDT 2009  NO_QUERY   \n",
       "4       0  1467811193  Mon Apr 06 22:19:57 PDT 2009  NO_QUERY   \n",
       "\n",
       "              user                                               text  \n",
       "0  _TheSpecialOne_  @switchfoot http://twitpic.com/2y1zl - Awww, t...  \n",
       "1    scotthamilton  is upset that he can't update his Facebook by ...  \n",
       "2         mattycus  @Kenichan I dived many times for the ball. Man...  \n",
       "3          ElleCTF    my whole body feels itchy and like its on fire   \n",
       "4           Karoli  @nationwideclass no, it's not behaving at all....  "
      ]
     },
     "execution_count": 7,
     "metadata": {},
     "output_type": "execute_result"
    }
   ],
   "source": [
    "df.head(5)"
   ]
  },
  {
   "cell_type": "markdown",
   "metadata": {
    "_uuid": "3f9a7bb129e184967b13261fb5d253af451c75c5",
    "id": "GR9Xoa5iRf1d"
   },
   "source": [
    "### Map target label to String\n",
    "* **0** -> **NEGATIVE**\n",
    "* **2** -> **NEUTRAL**\n",
    "* **4** -> **POSITIVE**"
   ]
  },
  {
   "cell_type": "code",
   "execution_count": 8,
   "metadata": {
    "_uuid": "14074b59106cb9550440839e48b832223fc9502f",
    "id": "eovhN-ujRf1g"
   },
   "outputs": [],
   "source": [
    "decode_map = {0: \"NEGATIVE\", 2: \"NEUTRAL\", 4: \"POSITIVE\"}\n",
    "def decode_sentiment(label):\n",
    "    return decode_map[int(label)]"
   ]
  },
  {
   "cell_type": "code",
   "execution_count": 9,
   "metadata": {
    "_uuid": "4449d473187f647a195a6ac6986b009da32a7f4b",
    "colab": {
     "base_uri": "https://localhost:8080/"
    },
    "id": "M_f6If1HRf1h",
    "outputId": "8bb2a778-16c0-478f-c9a5-1620b289962c"
   },
   "outputs": [
    {
     "name": "stdout",
     "output_type": "stream",
     "text": [
      "Wall time: 812 ms\n"
     ]
    }
   ],
   "source": [
    "%%time\n",
    "df.target = df.target.apply(lambda x: decode_sentiment(x))"
   ]
  },
  {
   "cell_type": "markdown",
   "metadata": {
    "_uuid": "4329b1573518b03e497213efa7676220734ebb4b",
    "id": "DkdMQk2GRf1i"
   },
   "source": [
    "### Pre-Process dataset"
   ]
  },
  {
   "cell_type": "code",
   "execution_count": 10,
   "metadata": {
    "_uuid": "8aeee8b7b9ea11b749c7f91cd4787a7b50ed1a91",
    "id": "NBiA5fhLRf1i"
   },
   "outputs": [],
   "source": [
    "stop_words = stopwords.words(\"english\")\n",
    "stemmer = SnowballStemmer(\"english\")"
   ]
  },
  {
   "cell_type": "code",
   "execution_count": 11,
   "metadata": {
    "_uuid": "649ebcb97969b9ac4301138783704bb3d7846a49",
    "id": "lQRZVhzeRf1j"
   },
   "outputs": [],
   "source": [
    "def preprocess(text, stem=False):\n",
    "    # Remove link,user and special characters\n",
    "    text = re.sub(TEXT_CLEANING_RE, ' ', str(text).lower()).strip()\n",
    "    tokens = []\n",
    "    for token in text.split():\n",
    "        if token not in stop_words:\n",
    "            if stem:\n",
    "                tokens.append(stemmer.stem(token))\n",
    "            else:\n",
    "                tokens.append(token)\n",
    "    return \" \".join(tokens)"
   ]
  },
  {
   "cell_type": "code",
   "execution_count": 12,
   "metadata": {
    "_uuid": "f7f3e77ab9291d14687c49e71ba9b2b1e3323432",
    "colab": {
     "base_uri": "https://localhost:8080/"
    },
    "id": "7f-HWX28Rf1j",
    "outputId": "2f76335d-02bb-486e-c97b-05e23f5a05c6"
   },
   "outputs": [
    {
     "name": "stdout",
     "output_type": "stream",
     "text": [
      "Wall time: 22.8 s\n"
     ]
    }
   ],
   "source": [
    "%%time\n",
    "remove_n = 1300000\n",
    "drop_indices = np.random.choice(df.index, remove_n, replace=False)\n",
    "df = df.drop(drop_indices)\n",
    "df.text = df.text.apply(lambda x: preprocess(x))"
   ]
  },
  {
   "cell_type": "markdown",
   "metadata": {
    "_uuid": "f5f9714a8507409bbe780eebf2855a33e8e6ba37",
    "id": "zj2R-saERf1k"
   },
   "source": [
    "### Split train and test"
   ]
  },
  {
   "cell_type": "code",
   "execution_count": 13,
   "metadata": {
    "_uuid": "d2b1179c968e3f3910c790ecf0c5b2cbb34b0e68",
    "colab": {
     "base_uri": "https://localhost:8080/"
    },
    "id": "KOqLA51CRf1k",
    "outputId": "45801c6a-2b1d-4c65-bb3c-7c05f96acb0d"
   },
   "outputs": [
    {
     "name": "stdout",
     "output_type": "stream",
     "text": [
      "TRAIN size: 240000\n",
      "TEST size: 60000\n"
     ]
    }
   ],
   "source": [
    "df_train, df_test = train_test_split(df, test_size=1-TRAIN_SIZE, random_state=42)\n",
    "print(\"TRAIN size:\", len(df_train))\n",
    "print(\"TEST size:\", len(df_test))"
   ]
  },
  {
   "cell_type": "markdown",
   "metadata": {
    "_uuid": "f08a28aab2c3d16d8b9681a7d5d07587153a1cd6",
    "id": "U3Ty1ZWJRf1l"
   },
   "source": [
    "### Word2Vec "
   ]
  },
  {
   "cell_type": "code",
   "execution_count": 14,
   "metadata": {
    "_uuid": "2461bf564de1b4414841933d0c1d1bee5f5cc5a6",
    "colab": {
     "base_uri": "https://localhost:8080/"
    },
    "id": "G2xhzLL9Rf1l",
    "outputId": "f2866ed1-225d-41cd-87f8-52dcda6ed1ef"
   },
   "outputs": [
    {
     "name": "stdout",
     "output_type": "stream",
     "text": [
      "Wall time: 1.03 s\n"
     ]
    }
   ],
   "source": [
    "%%time\n",
    "documents = [_text.split() for _text in df_train.text] "
   ]
  },
  {
   "cell_type": "code",
   "execution_count": 17,
   "metadata": {
    "_uuid": "8e19b9f25801ba86420decc266d2b3e6fb44f1ea",
    "id": "AJGdRJfjRf1m"
   },
   "outputs": [
    {
     "name": "stderr",
     "output_type": "stream",
     "text": [
      "2021-05-15 17:43:24,301 : INFO : Word2Vec lifecycle event {'params': 'Word2Vec(vocab=0, vector_size=300, alpha=0.025)', 'datetime': '2021-05-15T17:43:24.300536', 'gensim': '4.0.1', 'python': '3.7.9 (tags/v3.7.9:13c94747c7, Aug 17 2020, 18:58:18) [MSC v.1900 64 bit (AMD64)]', 'platform': 'Windows-10-10.0.19041-SP0', 'event': 'created'}\n"
     ]
    }
   ],
   "source": [
    "w2v_model = gensim.models.word2vec.Word2Vec(vector_size=W2V_SIZE, window=W2V_WINDOW, min_count=W2V_MIN_COUNT, workers=8)"
   ]
  },
  {
   "cell_type": "code",
   "execution_count": 18,
   "metadata": {
    "_uuid": "58d655af07653c594bec6bebcfb302a973b0ad9c",
    "colab": {
     "base_uri": "https://localhost:8080/"
    },
    "id": "RA7yQGyeRf1m",
    "outputId": "cb42dfbc-03d8-4e71-a726-f849a7f1295f"
   },
   "outputs": [
    {
     "name": "stderr",
     "output_type": "stream",
     "text": [
      "2021-05-15 17:43:26,899 : INFO : collecting all words and their counts\n",
      "2021-05-15 17:43:26,899 : INFO : PROGRESS: at sentence #0, processed 0 words, keeping 0 word types\n",
      "2021-05-15 17:43:26,931 : INFO : PROGRESS: at sentence #10000, processed 72920 words, keeping 14119 word types\n",
      "2021-05-15 17:43:26,987 : INFO : PROGRESS: at sentence #20000, processed 144989 words, keeping 21729 word types\n",
      "2021-05-15 17:43:27,048 : INFO : PROGRESS: at sentence #30000, processed 217036 words, keeping 27845 word types\n",
      "2021-05-15 17:43:27,098 : INFO : PROGRESS: at sentence #40000, processed 288869 words, keeping 33220 word types\n",
      "2021-05-15 17:43:27,160 : INFO : PROGRESS: at sentence #50000, processed 360882 words, keeping 38059 word types\n",
      "2021-05-15 17:43:27,218 : INFO : PROGRESS: at sentence #60000, processed 432511 words, keeping 42503 word types\n",
      "2021-05-15 17:43:27,278 : INFO : PROGRESS: at sentence #70000, processed 505480 words, keeping 46874 word types\n",
      "2021-05-15 17:43:27,309 : INFO : PROGRESS: at sentence #80000, processed 577351 words, keeping 50728 word types\n",
      "2021-05-15 17:43:27,333 : INFO : PROGRESS: at sentence #90000, processed 648660 words, keeping 54531 word types\n",
      "2021-05-15 17:43:27,360 : INFO : PROGRESS: at sentence #100000, processed 720300 words, keeping 58171 word types\n",
      "2021-05-15 17:43:27,388 : INFO : PROGRESS: at sentence #110000, processed 792466 words, keeping 61622 word types\n",
      "2021-05-15 17:43:27,416 : INFO : PROGRESS: at sentence #120000, processed 864557 words, keeping 64946 word types\n",
      "2021-05-15 17:43:27,443 : INFO : PROGRESS: at sentence #130000, processed 937199 words, keeping 68313 word types\n",
      "2021-05-15 17:43:27,470 : INFO : PROGRESS: at sentence #140000, processed 1009433 words, keeping 71542 word types\n",
      "2021-05-15 17:43:27,495 : INFO : PROGRESS: at sentence #150000, processed 1081589 words, keeping 74615 word types\n",
      "2021-05-15 17:43:27,521 : INFO : PROGRESS: at sentence #160000, processed 1153536 words, keeping 77732 word types\n",
      "2021-05-15 17:43:27,543 : INFO : PROGRESS: at sentence #170000, processed 1226479 words, keeping 80820 word types\n",
      "2021-05-15 17:43:27,565 : INFO : PROGRESS: at sentence #180000, processed 1299220 words, keeping 83767 word types\n",
      "2021-05-15 17:43:27,585 : INFO : PROGRESS: at sentence #190000, processed 1371165 words, keeping 86629 word types\n",
      "2021-05-15 17:43:27,610 : INFO : PROGRESS: at sentence #200000, processed 1442800 words, keeping 89491 word types\n",
      "2021-05-15 17:43:27,639 : INFO : PROGRESS: at sentence #210000, processed 1515435 words, keeping 92223 word types\n",
      "2021-05-15 17:43:27,661 : INFO : PROGRESS: at sentence #220000, processed 1587896 words, keeping 94937 word types\n",
      "2021-05-15 17:43:27,684 : INFO : PROGRESS: at sentence #230000, processed 1659866 words, keeping 97661 word types\n",
      "2021-05-15 17:43:27,708 : INFO : collected 100363 word types from a corpus of 1732054 raw words and 240000 sentences\n",
      "2021-05-15 17:43:27,709 : INFO : Creating a fresh vocabulary\n",
      "2021-05-15 17:43:27,781 : INFO : Word2Vec lifecycle event {'msg': 'effective_min_count=10 retains 11273 unique words (11.232227015932166%% of original 100363, drops 89090)', 'datetime': '2021-05-15T17:43:27.781977', 'gensim': '4.0.1', 'python': '3.7.9 (tags/v3.7.9:13c94747c7, Aug 17 2020, 18:58:18) [MSC v.1900 64 bit (AMD64)]', 'platform': 'Windows-10-10.0.19041-SP0', 'event': 'prepare_vocab'}\n",
      "2021-05-15 17:43:27,781 : INFO : Word2Vec lifecycle event {'msg': 'effective_min_count=10 leaves 1574673 word corpus (90.91362047603597%% of original 1732054, drops 157381)', 'datetime': '2021-05-15T17:43:27.781977', 'gensim': '4.0.1', 'python': '3.7.9 (tags/v3.7.9:13c94747c7, Aug 17 2020, 18:58:18) [MSC v.1900 64 bit (AMD64)]', 'platform': 'Windows-10-10.0.19041-SP0', 'event': 'prepare_vocab'}\n",
      "2021-05-15 17:43:27,864 : INFO : deleting the raw counts dictionary of 100363 items\n",
      "2021-05-15 17:43:27,882 : INFO : sample=0.001 downsamples 48 most-common words\n",
      "2021-05-15 17:43:27,883 : INFO : Word2Vec lifecycle event {'msg': 'downsampling leaves estimated 1463070.94798879 word corpus (92.9%% of prior 1574673)', 'datetime': '2021-05-15T17:43:27.883671', 'gensim': '4.0.1', 'python': '3.7.9 (tags/v3.7.9:13c94747c7, Aug 17 2020, 18:58:18) [MSC v.1900 64 bit (AMD64)]', 'platform': 'Windows-10-10.0.19041-SP0', 'event': 'prepare_vocab'}\n",
      "2021-05-15 17:43:28,045 : INFO : estimated required memory for 11273 words and 300 dimensions: 32691700 bytes\n",
      "2021-05-15 17:43:28,045 : INFO : resetting layer weights\n",
      "2021-05-15 17:43:28,170 : INFO : Word2Vec lifecycle event {'update': False, 'trim_rule': 'None', 'datetime': '2021-05-15T17:43:28.170108', 'gensim': '4.0.1', 'python': '3.7.9 (tags/v3.7.9:13c94747c7, Aug 17 2020, 18:58:18) [MSC v.1900 64 bit (AMD64)]', 'platform': 'Windows-10-10.0.19041-SP0', 'event': 'build_vocab'}\n"
     ]
    }
   ],
   "source": [
    "w2v_model.build_vocab(documents)"
   ]
  },
  {
   "cell_type": "code",
   "execution_count": 22,
   "metadata": {
    "_uuid": "72a5628ca81fd4b8983c12d93ae0bf950b86b6ae",
    "colab": {
     "base_uri": "https://localhost:8080/"
    },
    "id": "F7O0CFutRf1n",
    "outputId": "8b84e3d5-d18b-4d6d-95f4-f805a8caabd5"
   },
   "outputs": [
    {
     "name": "stdout",
     "output_type": "stream",
     "text": [
      "Vocab size 11273\n"
     ]
    }
   ],
   "source": [
    "words = w2v_model.wv.index_to_key\n",
    "vocab_size = len(words)\n",
    "print(\"Vocab size\", vocab_size)"
   ]
  },
  {
   "cell_type": "code",
   "execution_count": 23,
   "metadata": {
    "_uuid": "68c3e4a5ba07cac3dee67f78ecdd1404c7f83f14",
    "colab": {
     "base_uri": "https://localhost:8080/"
    },
    "id": "qRqSmLTNRf1o",
    "outputId": "c784e1ce-80da-4ad6-b398-1cf39c1cc130"
   },
   "outputs": [
    {
     "name": "stderr",
     "output_type": "stream",
     "text": [
      "2021-05-15 17:48:46,886 : INFO : Word2Vec lifecycle event {'msg': 'training model with 8 workers on 11273 vocabulary and 300 features, using sg=0 hs=0 sample=0.001 negative=5 window=7', 'datetime': '2021-05-15T17:48:46.886930', 'gensim': '4.0.1', 'python': '3.7.9 (tags/v3.7.9:13c94747c7, Aug 17 2020, 18:58:18) [MSC v.1900 64 bit (AMD64)]', 'platform': 'Windows-10-10.0.19041-SP0', 'event': 'train'}\n",
      "2021-05-15 17:48:48,167 : INFO : EPOCH 1 - PROGRESS: at 26.54% examples, 386918 words/s, in_qsize 14, out_qsize 1\n",
      "2021-05-15 17:48:49,170 : INFO : EPOCH 1 - PROGRESS: at 77.90% examples, 568070 words/s, in_qsize 15, out_qsize 0\n",
      "2021-05-15 17:48:49,760 : INFO : worker thread finished; awaiting finish of 7 more threads\n",
      "2021-05-15 17:48:49,764 : INFO : worker thread finished; awaiting finish of 6 more threads\n",
      "2021-05-15 17:48:49,767 : INFO : worker thread finished; awaiting finish of 5 more threads\n",
      "2021-05-15 17:48:49,774 : INFO : worker thread finished; awaiting finish of 4 more threads\n",
      "2021-05-15 17:48:49,776 : INFO : worker thread finished; awaiting finish of 3 more threads\n",
      "2021-05-15 17:48:49,786 : INFO : worker thread finished; awaiting finish of 2 more threads\n",
      "2021-05-15 17:48:49,799 : INFO : worker thread finished; awaiting finish of 1 more threads\n",
      "2021-05-15 17:48:49,809 : INFO : worker thread finished; awaiting finish of 0 more threads\n",
      "2021-05-15 17:48:49,811 : INFO : EPOCH - 1 : training on 1732054 raw words (1463156 effective words) took 2.6s, 552655 effective words/s\n",
      "2021-05-15 17:48:50,839 : INFO : EPOCH 2 - PROGRESS: at 38.73% examples, 564645 words/s, in_qsize 15, out_qsize 0\n",
      "2021-05-15 17:48:51,850 : INFO : EPOCH 2 - PROGRESS: at 72.17% examples, 524424 words/s, in_qsize 16, out_qsize 0\n",
      "2021-05-15 17:48:52,410 : INFO : worker thread finished; awaiting finish of 7 more threads\n",
      "2021-05-15 17:48:52,412 : INFO : worker thread finished; awaiting finish of 6 more threads\n",
      "2021-05-15 17:48:52,419 : INFO : worker thread finished; awaiting finish of 5 more threads\n",
      "2021-05-15 17:48:52,425 : INFO : worker thread finished; awaiting finish of 4 more threads\n",
      "2021-05-15 17:48:52,440 : INFO : worker thread finished; awaiting finish of 3 more threads\n",
      "2021-05-15 17:48:52,441 : INFO : worker thread finished; awaiting finish of 2 more threads\n",
      "2021-05-15 17:48:52,447 : INFO : worker thread finished; awaiting finish of 1 more threads\n",
      "2021-05-15 17:48:52,452 : INFO : worker thread finished; awaiting finish of 0 more threads\n",
      "2021-05-15 17:48:52,454 : INFO : EPOCH - 2 : training on 1732054 raw words (1463273 effective words) took 2.6s, 559327 effective words/s\n",
      "2021-05-15 17:48:53,477 : INFO : EPOCH 3 - PROGRESS: at 41.05% examples, 598584 words/s, in_qsize 15, out_qsize 0\n",
      "2021-05-15 17:48:54,478 : INFO : EPOCH 3 - PROGRESS: at 76.18% examples, 556714 words/s, in_qsize 15, out_qsize 0\n",
      "2021-05-15 17:48:54,891 : INFO : worker thread finished; awaiting finish of 7 more threads\n",
      "2021-05-15 17:48:54,891 : INFO : worker thread finished; awaiting finish of 6 more threads\n",
      "2021-05-15 17:48:54,891 : INFO : worker thread finished; awaiting finish of 5 more threads\n",
      "2021-05-15 17:48:54,907 : INFO : worker thread finished; awaiting finish of 4 more threads\n",
      "2021-05-15 17:48:54,908 : INFO : worker thread finished; awaiting finish of 3 more threads\n",
      "2021-05-15 17:48:54,924 : INFO : worker thread finished; awaiting finish of 2 more threads\n",
      "2021-05-15 17:48:54,927 : INFO : worker thread finished; awaiting finish of 1 more threads\n",
      "2021-05-15 17:48:54,928 : INFO : worker thread finished; awaiting finish of 0 more threads\n",
      "2021-05-15 17:48:54,930 : INFO : EPOCH - 3 : training on 1732054 raw words (1462970 effective words) took 2.5s, 596177 effective words/s\n",
      "2021-05-15 17:48:55,964 : INFO : EPOCH 4 - PROGRESS: at 31.74% examples, 462336 words/s, in_qsize 15, out_qsize 0\n",
      "2021-05-15 17:48:56,970 : INFO : EPOCH 4 - PROGRESS: at 74.45% examples, 542101 words/s, in_qsize 14, out_qsize 1\n",
      "2021-05-15 17:48:57,452 : INFO : worker thread finished; awaiting finish of 7 more threads\n",
      "2021-05-15 17:48:57,452 : INFO : worker thread finished; awaiting finish of 6 more threads\n",
      "2021-05-15 17:48:57,468 : INFO : worker thread finished; awaiting finish of 5 more threads\n",
      "2021-05-15 17:48:57,473 : INFO : worker thread finished; awaiting finish of 4 more threads\n",
      "2021-05-15 17:48:57,476 : INFO : worker thread finished; awaiting finish of 3 more threads\n",
      "2021-05-15 17:48:57,487 : INFO : worker thread finished; awaiting finish of 2 more threads\n",
      "2021-05-15 17:48:57,504 : INFO : worker thread finished; awaiting finish of 1 more threads\n",
      "2021-05-15 17:48:57,515 : INFO : worker thread finished; awaiting finish of 0 more threads\n",
      "2021-05-15 17:48:57,517 : INFO : EPOCH - 4 : training on 1732054 raw words (1462908 effective words) took 2.6s, 572070 effective words/s\n",
      "2021-05-15 17:48:58,582 : INFO : EPOCH 5 - PROGRESS: at 32.32% examples, 470021 words/s, in_qsize 15, out_qsize 0\n",
      "2021-05-15 17:48:59,650 : INFO : EPOCH 5 - PROGRESS: at 79.07% examples, 558049 words/s, in_qsize 16, out_qsize 1\n",
      "2021-05-15 17:49:00,113 : INFO : worker thread finished; awaiting finish of 7 more threads\n",
      "2021-05-15 17:49:00,135 : INFO : worker thread finished; awaiting finish of 6 more threads\n",
      "2021-05-15 17:49:00,137 : INFO : worker thread finished; awaiting finish of 5 more threads\n",
      "2021-05-15 17:49:00,137 : INFO : worker thread finished; awaiting finish of 4 more threads\n",
      "2021-05-15 17:49:00,167 : INFO : worker thread finished; awaiting finish of 3 more threads\n",
      "2021-05-15 17:49:00,201 : INFO : worker thread finished; awaiting finish of 2 more threads\n",
      "2021-05-15 17:49:00,205 : INFO : worker thread finished; awaiting finish of 1 more threads\n",
      "2021-05-15 17:49:00,219 : INFO : worker thread finished; awaiting finish of 0 more threads\n",
      "2021-05-15 17:49:00,222 : INFO : EPOCH - 5 : training on 1732054 raw words (1462943 effective words) took 2.6s, 552950 effective words/s\n",
      "2021-05-15 17:49:01,252 : INFO : EPOCH 6 - PROGRESS: at 45.08% examples, 656008 words/s, in_qsize 15, out_qsize 0\n",
      "2021-05-15 17:49:02,263 : INFO : EPOCH 6 - PROGRESS: at 76.18% examples, 553964 words/s, in_qsize 14, out_qsize 1\n",
      "2021-05-15 17:49:02,635 : INFO : worker thread finished; awaiting finish of 7 more threads\n",
      "2021-05-15 17:49:02,637 : INFO : worker thread finished; awaiting finish of 6 more threads\n",
      "2021-05-15 17:49:02,643 : INFO : worker thread finished; awaiting finish of 5 more threads\n",
      "2021-05-15 17:49:02,651 : INFO : worker thread finished; awaiting finish of 4 more threads\n",
      "2021-05-15 17:49:02,654 : INFO : worker thread finished; awaiting finish of 3 more threads\n",
      "2021-05-15 17:49:02,661 : INFO : worker thread finished; awaiting finish of 2 more threads\n",
      "2021-05-15 17:49:02,666 : INFO : worker thread finished; awaiting finish of 1 more threads\n",
      "2021-05-15 17:49:02,678 : INFO : worker thread finished; awaiting finish of 0 more threads\n",
      "2021-05-15 17:49:02,680 : INFO : EPOCH - 6 : training on 1732054 raw words (1463112 effective words) took 2.4s, 602368 effective words/s\n",
      "2021-05-15 17:49:03,768 : INFO : EPOCH 7 - PROGRESS: at 39.31% examples, 535739 words/s, in_qsize 14, out_qsize 1\n",
      "2021-05-15 17:49:04,815 : INFO : EPOCH 7 - PROGRESS: at 80.83% examples, 558025 words/s, in_qsize 15, out_qsize 0\n",
      "2021-05-15 17:49:05,082 : INFO : worker thread finished; awaiting finish of 7 more threads\n",
      "2021-05-15 17:49:05,095 : INFO : worker thread finished; awaiting finish of 6 more threads\n",
      "2021-05-15 17:49:05,098 : INFO : worker thread finished; awaiting finish of 5 more threads\n",
      "2021-05-15 17:49:05,104 : INFO : worker thread finished; awaiting finish of 4 more threads\n",
      "2021-05-15 17:49:05,124 : INFO : worker thread finished; awaiting finish of 3 more threads\n",
      "2021-05-15 17:49:05,128 : INFO : worker thread finished; awaiting finish of 2 more threads\n",
      "2021-05-15 17:49:05,139 : INFO : worker thread finished; awaiting finish of 1 more threads\n",
      "2021-05-15 17:49:05,141 : INFO : worker thread finished; awaiting finish of 0 more threads\n",
      "2021-05-15 17:49:05,142 : INFO : EPOCH - 7 : training on 1732054 raw words (1463220 effective words) took 2.4s, 598365 effective words/s\n",
      "2021-05-15 17:49:06,176 : INFO : EPOCH 8 - PROGRESS: at 27.69% examples, 402461 words/s, in_qsize 15, out_qsize 0\n",
      "2021-05-15 17:49:07,174 : INFO : EPOCH 8 - PROGRESS: at 72.75% examples, 529428 words/s, in_qsize 16, out_qsize 0\n",
      "2021-05-15 17:49:07,833 : INFO : worker thread finished; awaiting finish of 7 more threads\n",
      "2021-05-15 17:49:07,849 : INFO : worker thread finished; awaiting finish of 6 more threads\n",
      "2021-05-15 17:49:07,857 : INFO : worker thread finished; awaiting finish of 5 more threads\n",
      "2021-05-15 17:49:07,869 : INFO : worker thread finished; awaiting finish of 4 more threads\n",
      "2021-05-15 17:49:07,886 : INFO : worker thread finished; awaiting finish of 3 more threads\n",
      "2021-05-15 17:49:07,892 : INFO : worker thread finished; awaiting finish of 2 more threads\n",
      "2021-05-15 17:49:07,896 : INFO : worker thread finished; awaiting finish of 1 more threads\n",
      "2021-05-15 17:49:07,907 : INFO : worker thread finished; awaiting finish of 0 more threads\n",
      "2021-05-15 17:49:07,910 : INFO : EPOCH - 8 : training on 1732054 raw words (1462885 effective words) took 2.7s, 534077 effective words/s\n",
      "2021-05-15 17:49:08,948 : INFO : EPOCH 9 - PROGRESS: at 38.73% examples, 564418 words/s, in_qsize 15, out_qsize 0\n",
      "2021-05-15 17:49:09,970 : INFO : EPOCH 9 - PROGRESS: at 82.56% examples, 596673 words/s, in_qsize 16, out_qsize 0\n",
      "2021-05-15 17:49:10,395 : INFO : worker thread finished; awaiting finish of 7 more threads\n",
      "2021-05-15 17:49:10,406 : INFO : worker thread finished; awaiting finish of 6 more threads\n",
      "2021-05-15 17:49:10,420 : INFO : worker thread finished; awaiting finish of 5 more threads\n",
      "2021-05-15 17:49:10,428 : INFO : worker thread finished; awaiting finish of 4 more threads\n",
      "2021-05-15 17:49:10,435 : INFO : worker thread finished; awaiting finish of 3 more threads\n",
      "2021-05-15 17:49:10,439 : INFO : worker thread finished; awaiting finish of 2 more threads\n",
      "2021-05-15 17:49:10,452 : INFO : worker thread finished; awaiting finish of 1 more threads\n",
      "2021-05-15 17:49:10,461 : INFO : worker thread finished; awaiting finish of 0 more threads\n",
      "2021-05-15 17:49:10,463 : INFO : EPOCH - 9 : training on 1732054 raw words (1463465 effective words) took 2.5s, 581516 effective words/s\n",
      "2021-05-15 17:49:11,478 : INFO : EPOCH 10 - PROGRESS: at 43.35% examples, 632968 words/s, in_qsize 15, out_qsize 0\n",
      "2021-05-15 17:49:12,502 : INFO : EPOCH 10 - PROGRESS: at 73.87% examples, 533907 words/s, in_qsize 15, out_qsize 0\n",
      "2021-05-15 17:49:12,936 : INFO : worker thread finished; awaiting finish of 7 more threads\n",
      "2021-05-15 17:49:12,948 : INFO : worker thread finished; awaiting finish of 6 more threads\n",
      "2021-05-15 17:49:12,953 : INFO : worker thread finished; awaiting finish of 5 more threads\n",
      "2021-05-15 17:49:12,964 : INFO : worker thread finished; awaiting finish of 4 more threads\n",
      "2021-05-15 17:49:12,967 : INFO : worker thread finished; awaiting finish of 3 more threads\n",
      "2021-05-15 17:49:12,977 : INFO : worker thread finished; awaiting finish of 2 more threads\n",
      "2021-05-15 17:49:12,984 : INFO : worker thread finished; awaiting finish of 1 more threads\n",
      "2021-05-15 17:49:12,992 : INFO : worker thread finished; awaiting finish of 0 more threads\n",
      "2021-05-15 17:49:12,994 : INFO : EPOCH - 10 : training on 1732054 raw words (1462901 effective words) took 2.5s, 581460 effective words/s\n",
      "2021-05-15 17:49:14,024 : INFO : EPOCH 11 - PROGRESS: at 28.84% examples, 418270 words/s, in_qsize 15, out_qsize 0\n",
      "2021-05-15 17:49:15,023 : INFO : EPOCH 11 - PROGRESS: at 74.43% examples, 542007 words/s, in_qsize 15, out_qsize 0\n",
      "2021-05-15 17:49:15,483 : INFO : worker thread finished; awaiting finish of 7 more threads\n",
      "2021-05-15 17:49:15,496 : INFO : worker thread finished; awaiting finish of 6 more threads\n",
      "2021-05-15 17:49:15,498 : INFO : worker thread finished; awaiting finish of 5 more threads\n",
      "2021-05-15 17:49:15,500 : INFO : worker thread finished; awaiting finish of 4 more threads\n",
      "2021-05-15 17:49:15,524 : INFO : worker thread finished; awaiting finish of 3 more threads\n",
      "2021-05-15 17:49:15,528 : INFO : worker thread finished; awaiting finish of 2 more threads\n",
      "2021-05-15 17:49:15,531 : INFO : worker thread finished; awaiting finish of 1 more threads\n",
      "2021-05-15 17:49:15,554 : INFO : worker thread finished; awaiting finish of 0 more threads\n",
      "2021-05-15 17:49:15,557 : INFO : EPOCH - 11 : training on 1732054 raw words (1462996 effective words) took 2.5s, 575458 effective words/s\n",
      "2021-05-15 17:49:16,603 : INFO : EPOCH 12 - PROGRESS: at 25.97% examples, 372207 words/s, in_qsize 15, out_qsize 0\n",
      "2021-05-15 17:49:17,622 : INFO : EPOCH 12 - PROGRESS: at 75.59% examples, 542398 words/s, in_qsize 16, out_qsize 2\n",
      "2021-05-15 17:49:18,184 : INFO : worker thread finished; awaiting finish of 7 more threads\n",
      "2021-05-15 17:49:18,206 : INFO : worker thread finished; awaiting finish of 6 more threads\n",
      "2021-05-15 17:49:18,209 : INFO : worker thread finished; awaiting finish of 5 more threads\n",
      "2021-05-15 17:49:18,235 : INFO : worker thread finished; awaiting finish of 4 more threads\n",
      "2021-05-15 17:49:18,241 : INFO : worker thread finished; awaiting finish of 3 more threads\n",
      "2021-05-15 17:49:18,243 : INFO : worker thread finished; awaiting finish of 2 more threads\n",
      "2021-05-15 17:49:18,263 : INFO : worker thread finished; awaiting finish of 1 more threads\n",
      "2021-05-15 17:49:18,267 : INFO : worker thread finished; awaiting finish of 0 more threads\n",
      "2021-05-15 17:49:18,267 : INFO : EPOCH - 12 : training on 1732054 raw words (1463209 effective words) took 2.7s, 544623 effective words/s\n",
      "2021-05-15 17:49:19,329 : INFO : EPOCH 13 - PROGRESS: at 43.35% examples, 604531 words/s, in_qsize 15, out_qsize 0\n",
      "2021-05-15 17:49:20,334 : INFO : EPOCH 13 - PROGRESS: at 78.50% examples, 559817 words/s, in_qsize 13, out_qsize 2\n",
      "2021-05-15 17:49:20,673 : INFO : worker thread finished; awaiting finish of 7 more threads\n",
      "2021-05-15 17:49:20,681 : INFO : worker thread finished; awaiting finish of 6 more threads\n",
      "2021-05-15 17:49:20,681 : INFO : worker thread finished; awaiting finish of 5 more threads\n",
      "2021-05-15 17:49:20,681 : INFO : worker thread finished; awaiting finish of 4 more threads\n",
      "2021-05-15 17:49:20,703 : INFO : worker thread finished; awaiting finish of 3 more threads\n",
      "2021-05-15 17:49:20,706 : INFO : worker thread finished; awaiting finish of 2 more threads\n",
      "2021-05-15 17:49:20,718 : INFO : worker thread finished; awaiting finish of 1 more threads\n",
      "2021-05-15 17:49:20,723 : INFO : worker thread finished; awaiting finish of 0 more threads\n",
      "2021-05-15 17:49:20,724 : INFO : EPOCH - 13 : training on 1732054 raw words (1463387 effective words) took 2.4s, 599360 effective words/s\n",
      "2021-05-15 17:49:21,752 : INFO : EPOCH 14 - PROGRESS: at 42.79% examples, 619775 words/s, in_qsize 15, out_qsize 0\n",
      "2021-05-15 17:49:22,763 : INFO : EPOCH 14 - PROGRESS: at 81.98% examples, 592625 words/s, in_qsize 15, out_qsize 0\n",
      "2021-05-15 17:49:23,012 : INFO : worker thread finished; awaiting finish of 7 more threads\n",
      "2021-05-15 17:49:23,028 : INFO : worker thread finished; awaiting finish of 6 more threads\n",
      "2021-05-15 17:49:23,034 : INFO : worker thread finished; awaiting finish of 5 more threads\n",
      "2021-05-15 17:49:23,036 : INFO : worker thread finished; awaiting finish of 4 more threads\n",
      "2021-05-15 17:49:23,047 : INFO : worker thread finished; awaiting finish of 3 more threads\n",
      "2021-05-15 17:49:23,054 : INFO : worker thread finished; awaiting finish of 2 more threads\n",
      "2021-05-15 17:49:23,060 : INFO : worker thread finished; awaiting finish of 1 more threads\n",
      "2021-05-15 17:49:23,065 : INFO : worker thread finished; awaiting finish of 0 more threads\n",
      "2021-05-15 17:49:23,067 : INFO : EPOCH - 14 : training on 1732054 raw words (1463354 effective words) took 2.3s, 630061 effective words/s\n",
      "2021-05-15 17:49:24,125 : INFO : EPOCH 15 - PROGRESS: at 36.40% examples, 517648 words/s, in_qsize 16, out_qsize 1\n",
      "2021-05-15 17:49:25,137 : INFO : EPOCH 15 - PROGRESS: at 85.99% examples, 616950 words/s, in_qsize 15, out_qsize 0\n",
      "2021-05-15 17:49:25,323 : INFO : worker thread finished; awaiting finish of 7 more threads\n",
      "2021-05-15 17:49:25,329 : INFO : worker thread finished; awaiting finish of 6 more threads\n",
      "2021-05-15 17:49:25,339 : INFO : worker thread finished; awaiting finish of 5 more threads\n",
      "2021-05-15 17:49:25,342 : INFO : worker thread finished; awaiting finish of 4 more threads\n",
      "2021-05-15 17:49:25,351 : INFO : worker thread finished; awaiting finish of 3 more threads\n",
      "2021-05-15 17:49:25,353 : INFO : worker thread finished; awaiting finish of 2 more threads\n",
      "2021-05-15 17:49:25,367 : INFO : worker thread finished; awaiting finish of 1 more threads\n",
      "2021-05-15 17:49:25,374 : INFO : worker thread finished; awaiting finish of 0 more threads\n",
      "2021-05-15 17:49:25,375 : INFO : EPOCH - 15 : training on 1732054 raw words (1463135 effective words) took 2.3s, 642494 effective words/s\n",
      "2021-05-15 17:49:26,392 : INFO : EPOCH 16 - PROGRESS: at 32.32% examples, 472066 words/s, in_qsize 15, out_qsize 0\n",
      "2021-05-15 17:49:27,391 : INFO : EPOCH 16 - PROGRESS: at 84.28% examples, 615329 words/s, in_qsize 14, out_qsize 1\n",
      "2021-05-15 17:49:27,666 : INFO : worker thread finished; awaiting finish of 7 more threads\n",
      "2021-05-15 17:49:27,684 : INFO : worker thread finished; awaiting finish of 6 more threads\n",
      "2021-05-15 17:49:27,689 : INFO : worker thread finished; awaiting finish of 5 more threads\n",
      "2021-05-15 17:49:27,697 : INFO : worker thread finished; awaiting finish of 4 more threads\n",
      "2021-05-15 17:49:27,701 : INFO : worker thread finished; awaiting finish of 3 more threads\n",
      "2021-05-15 17:49:27,702 : INFO : worker thread finished; awaiting finish of 2 more threads\n",
      "2021-05-15 17:49:27,714 : INFO : worker thread finished; awaiting finish of 1 more threads\n",
      "2021-05-15 17:49:27,721 : INFO : worker thread finished; awaiting finish of 0 more threads\n",
      "2021-05-15 17:49:27,723 : INFO : EPOCH - 16 : training on 1732054 raw words (1463075 effective words) took 2.3s, 627900 effective words/s\n",
      "2021-05-15 17:49:28,751 : INFO : EPOCH 17 - PROGRESS: at 31.74% examples, 459170 words/s, in_qsize 15, out_qsize 0\n",
      "2021-05-15 17:49:29,794 : INFO : EPOCH 17 - PROGRESS: at 83.13% examples, 591868 words/s, in_qsize 15, out_qsize 0\n",
      "2021-05-15 17:49:30,163 : INFO : worker thread finished; awaiting finish of 7 more threads\n",
      "2021-05-15 17:49:30,177 : INFO : worker thread finished; awaiting finish of 6 more threads\n",
      "2021-05-15 17:49:30,187 : INFO : worker thread finished; awaiting finish of 5 more threads\n",
      "2021-05-15 17:49:30,190 : INFO : worker thread finished; awaiting finish of 4 more threads\n",
      "2021-05-15 17:49:30,200 : INFO : worker thread finished; awaiting finish of 3 more threads\n",
      "2021-05-15 17:49:30,216 : INFO : worker thread finished; awaiting finish of 2 more threads\n",
      "2021-05-15 17:49:30,222 : INFO : worker thread finished; awaiting finish of 1 more threads\n",
      "2021-05-15 17:49:30,222 : INFO : worker thread finished; awaiting finish of 0 more threads\n",
      "2021-05-15 17:49:30,222 : INFO : EPOCH - 17 : training on 1732054 raw words (1462964 effective words) took 2.5s, 588059 effective words/s\n",
      "2021-05-15 17:49:31,289 : INFO : EPOCH 18 - PROGRESS: at 42.21% examples, 585819 words/s, in_qsize 14, out_qsize 1\n",
      "2021-05-15 17:49:32,303 : INFO : EPOCH 18 - PROGRESS: at 83.70% examples, 589830 words/s, in_qsize 16, out_qsize 1\n",
      "2021-05-15 17:49:32,608 : INFO : worker thread finished; awaiting finish of 7 more threads\n",
      "2021-05-15 17:49:32,623 : INFO : worker thread finished; awaiting finish of 6 more threads\n",
      "2021-05-15 17:49:32,626 : INFO : worker thread finished; awaiting finish of 5 more threads\n",
      "2021-05-15 17:49:32,636 : INFO : worker thread finished; awaiting finish of 4 more threads\n",
      "2021-05-15 17:49:32,639 : INFO : worker thread finished; awaiting finish of 3 more threads\n",
      "2021-05-15 17:49:32,653 : INFO : worker thread finished; awaiting finish of 2 more threads\n",
      "2021-05-15 17:49:32,659 : INFO : worker thread finished; awaiting finish of 1 more threads\n",
      "2021-05-15 17:49:32,665 : INFO : worker thread finished; awaiting finish of 0 more threads\n",
      "2021-05-15 17:49:32,666 : INFO : EPOCH - 18 : training on 1732054 raw words (1463277 effective words) took 2.4s, 602352 effective words/s\n",
      "2021-05-15 17:49:33,708 : INFO : EPOCH 19 - PROGRESS: at 41.05% examples, 592597 words/s, in_qsize 15, out_qsize 0\n",
      "2021-05-15 17:49:34,711 : INFO : EPOCH 19 - PROGRESS: at 77.33% examples, 561542 words/s, in_qsize 15, out_qsize 0\n",
      "2021-05-15 17:49:35,017 : INFO : worker thread finished; awaiting finish of 7 more threads\n",
      "2021-05-15 17:49:35,017 : INFO : worker thread finished; awaiting finish of 6 more threads\n",
      "2021-05-15 17:49:35,038 : INFO : worker thread finished; awaiting finish of 5 more threads\n",
      "2021-05-15 17:49:35,041 : INFO : worker thread finished; awaiting finish of 4 more threads\n",
      "2021-05-15 17:49:35,042 : INFO : worker thread finished; awaiting finish of 3 more threads\n",
      "2021-05-15 17:49:35,058 : INFO : worker thread finished; awaiting finish of 2 more threads\n",
      "2021-05-15 17:49:35,061 : INFO : worker thread finished; awaiting finish of 1 more threads\n",
      "2021-05-15 17:49:35,064 : INFO : worker thread finished; awaiting finish of 0 more threads\n",
      "2021-05-15 17:49:35,065 : INFO : EPOCH - 19 : training on 1732054 raw words (1462796 effective words) took 2.4s, 617680 effective words/s\n",
      "2021-05-15 17:49:36,133 : INFO : EPOCH 20 - PROGRESS: at 37.55% examples, 523562 words/s, in_qsize 14, out_qsize 2\n",
      "2021-05-15 17:49:37,133 : INFO : EPOCH 20 - PROGRESS: at 83.71% examples, 597618 words/s, in_qsize 15, out_qsize 0\n",
      "2021-05-15 17:49:37,336 : INFO : worker thread finished; awaiting finish of 7 more threads\n",
      "2021-05-15 17:49:37,348 : INFO : worker thread finished; awaiting finish of 6 more threads\n",
      "2021-05-15 17:49:37,348 : INFO : worker thread finished; awaiting finish of 5 more threads\n",
      "2021-05-15 17:49:37,364 : INFO : worker thread finished; awaiting finish of 4 more threads\n",
      "2021-05-15 17:49:37,370 : INFO : worker thread finished; awaiting finish of 3 more threads\n",
      "2021-05-15 17:49:37,380 : INFO : worker thread finished; awaiting finish of 2 more threads\n",
      "2021-05-15 17:49:37,384 : INFO : worker thread finished; awaiting finish of 1 more threads\n",
      "2021-05-15 17:49:37,392 : INFO : worker thread finished; awaiting finish of 0 more threads\n",
      "2021-05-15 17:49:37,393 : INFO : EPOCH - 20 : training on 1732054 raw words (1463039 effective words) took 2.3s, 633905 effective words/s\n",
      "2021-05-15 17:49:38,430 : INFO : EPOCH 21 - PROGRESS: at 32.92% examples, 474923 words/s, in_qsize 15, out_qsize 0\n",
      "2021-05-15 17:49:39,430 : INFO : EPOCH 21 - PROGRESS: at 84.28% examples, 609564 words/s, in_qsize 14, out_qsize 1\n",
      "2021-05-15 17:49:39,619 : INFO : worker thread finished; awaiting finish of 7 more threads\n",
      "2021-05-15 17:49:39,621 : INFO : worker thread finished; awaiting finish of 6 more threads\n",
      "2021-05-15 17:49:39,624 : INFO : worker thread finished; awaiting finish of 5 more threads\n",
      "2021-05-15 17:49:39,628 : INFO : worker thread finished; awaiting finish of 4 more threads\n",
      "2021-05-15 17:49:39,634 : INFO : worker thread finished; awaiting finish of 3 more threads\n",
      "2021-05-15 17:49:39,651 : INFO : worker thread finished; awaiting finish of 2 more threads\n",
      "2021-05-15 17:49:39,671 : INFO : worker thread finished; awaiting finish of 1 more threads\n",
      "2021-05-15 17:49:39,674 : INFO : worker thread finished; awaiting finish of 0 more threads\n",
      "2021-05-15 17:49:39,675 : INFO : EPOCH - 21 : training on 1732054 raw words (1462821 effective words) took 2.3s, 647776 effective words/s\n",
      "2021-05-15 17:49:40,704 : INFO : EPOCH 22 - PROGRESS: at 27.70% examples, 401450 words/s, in_qsize 16, out_qsize 0\n",
      "2021-05-15 17:49:41,720 : INFO : EPOCH 22 - PROGRESS: at 83.13% examples, 600416 words/s, in_qsize 15, out_qsize 0\n",
      "2021-05-15 17:49:42,040 : INFO : worker thread finished; awaiting finish of 7 more threads\n",
      "2021-05-15 17:49:42,073 : INFO : worker thread finished; awaiting finish of 6 more threads\n",
      "2021-05-15 17:49:42,078 : INFO : worker thread finished; awaiting finish of 5 more threads\n",
      "2021-05-15 17:49:42,083 : INFO : worker thread finished; awaiting finish of 4 more threads\n",
      "2021-05-15 17:49:42,087 : INFO : worker thread finished; awaiting finish of 3 more threads\n",
      "2021-05-15 17:49:42,098 : INFO : worker thread finished; awaiting finish of 2 more threads\n",
      "2021-05-15 17:49:42,103 : INFO : worker thread finished; awaiting finish of 1 more threads\n",
      "2021-05-15 17:49:42,110 : INFO : worker thread finished; awaiting finish of 0 more threads\n",
      "2021-05-15 17:49:42,113 : INFO : EPOCH - 22 : training on 1732054 raw words (1462891 effective words) took 2.4s, 604863 effective words/s\n",
      "2021-05-15 17:49:43,182 : INFO : EPOCH 23 - PROGRESS: at 38.73% examples, 554465 words/s, in_qsize 16, out_qsize 1\n",
      "2021-05-15 17:49:44,189 : INFO : EPOCH 23 - PROGRESS: at 84.28% examples, 608388 words/s, in_qsize 16, out_qsize 0\n",
      "2021-05-15 17:49:44,521 : INFO : worker thread finished; awaiting finish of 7 more threads\n",
      "2021-05-15 17:49:44,539 : INFO : worker thread finished; awaiting finish of 6 more threads\n",
      "2021-05-15 17:49:44,546 : INFO : worker thread finished; awaiting finish of 5 more threads\n",
      "2021-05-15 17:49:44,550 : INFO : worker thread finished; awaiting finish of 4 more threads\n",
      "2021-05-15 17:49:44,553 : INFO : worker thread finished; awaiting finish of 3 more threads\n",
      "2021-05-15 17:49:44,558 : INFO : worker thread finished; awaiting finish of 2 more threads\n",
      "2021-05-15 17:49:44,579 : INFO : worker thread finished; awaiting finish of 1 more threads\n",
      "2021-05-15 17:49:44,588 : INFO : worker thread finished; awaiting finish of 0 more threads\n",
      "2021-05-15 17:49:44,590 : INFO : EPOCH - 23 : training on 1732054 raw words (1463382 effective words) took 2.4s, 602552 effective words/s\n",
      "2021-05-15 17:49:45,630 : INFO : EPOCH 24 - PROGRESS: at 48.55% examples, 707754 words/s, in_qsize 15, out_qsize 0\n",
      "2021-05-15 17:49:46,643 : INFO : EPOCH 24 - PROGRESS: at 83.13% examples, 603581 words/s, in_qsize 14, out_qsize 1\n",
      "2021-05-15 17:49:46,872 : INFO : worker thread finished; awaiting finish of 7 more threads\n",
      "2021-05-15 17:49:46,883 : INFO : worker thread finished; awaiting finish of 6 more threads\n",
      "2021-05-15 17:49:46,886 : INFO : worker thread finished; awaiting finish of 5 more threads\n",
      "2021-05-15 17:49:46,887 : INFO : worker thread finished; awaiting finish of 4 more threads\n",
      "2021-05-15 17:49:46,889 : INFO : worker thread finished; awaiting finish of 3 more threads\n",
      "2021-05-15 17:49:46,905 : INFO : worker thread finished; awaiting finish of 2 more threads\n",
      "2021-05-15 17:49:46,911 : INFO : worker thread finished; awaiting finish of 1 more threads\n",
      "2021-05-15 17:49:46,915 : INFO : worker thread finished; awaiting finish of 0 more threads\n",
      "2021-05-15 17:49:46,917 : INFO : EPOCH - 24 : training on 1732054 raw words (1463033 effective words) took 2.3s, 639224 effective words/s\n",
      "2021-05-15 17:49:47,950 : INFO : EPOCH 25 - PROGRESS: at 45.07% examples, 652876 words/s, in_qsize 14, out_qsize 1\n",
      "2021-05-15 17:49:48,958 : INFO : EPOCH 25 - PROGRESS: at 82.56% examples, 598382 words/s, in_qsize 15, out_qsize 0\n",
      "2021-05-15 17:49:49,190 : INFO : worker thread finished; awaiting finish of 7 more threads\n",
      "2021-05-15 17:49:49,193 : INFO : worker thread finished; awaiting finish of 6 more threads\n",
      "2021-05-15 17:49:49,201 : INFO : worker thread finished; awaiting finish of 5 more threads\n",
      "2021-05-15 17:49:49,204 : INFO : worker thread finished; awaiting finish of 4 more threads\n",
      "2021-05-15 17:49:49,205 : INFO : worker thread finished; awaiting finish of 3 more threads\n",
      "2021-05-15 17:49:49,213 : INFO : worker thread finished; awaiting finish of 2 more threads\n",
      "2021-05-15 17:49:49,220 : INFO : worker thread finished; awaiting finish of 1 more threads\n",
      "2021-05-15 17:49:49,220 : INFO : worker thread finished; awaiting finish of 0 more threads\n",
      "2021-05-15 17:49:49,220 : INFO : EPOCH - 25 : training on 1732054 raw words (1462482 effective words) took 2.3s, 638525 effective words/s\n",
      "2021-05-15 17:49:50,260 : INFO : EPOCH 26 - PROGRESS: at 38.73% examples, 563443 words/s, in_qsize 14, out_qsize 1\n",
      "2021-05-15 17:49:51,265 : INFO : EPOCH 26 - PROGRESS: at 84.26% examples, 613806 words/s, in_qsize 14, out_qsize 1\n",
      "2021-05-15 17:49:51,453 : INFO : worker thread finished; awaiting finish of 7 more threads\n",
      "2021-05-15 17:49:51,467 : INFO : worker thread finished; awaiting finish of 6 more threads\n",
      "2021-05-15 17:49:51,470 : INFO : worker thread finished; awaiting finish of 5 more threads\n",
      "2021-05-15 17:49:51,472 : INFO : worker thread finished; awaiting finish of 4 more threads\n",
      "2021-05-15 17:49:51,474 : INFO : worker thread finished; awaiting finish of 3 more threads\n",
      "2021-05-15 17:49:51,486 : INFO : worker thread finished; awaiting finish of 2 more threads\n",
      "2021-05-15 17:49:51,493 : INFO : worker thread finished; awaiting finish of 1 more threads\n",
      "2021-05-15 17:49:51,497 : INFO : worker thread finished; awaiting finish of 0 more threads\n",
      "2021-05-15 17:49:51,498 : INFO : EPOCH - 26 : training on 1732054 raw words (1463016 effective words) took 2.2s, 652748 effective words/s\n",
      "2021-05-15 17:49:52,552 : INFO : EPOCH 27 - PROGRESS: at 33.48% examples, 471411 words/s, in_qsize 14, out_qsize 1\n",
      "2021-05-15 17:49:53,557 : INFO : EPOCH 27 - PROGRESS: at 85.41% examples, 611754 words/s, in_qsize 15, out_qsize 0\n",
      "2021-05-15 17:49:53,715 : INFO : worker thread finished; awaiting finish of 7 more threads\n",
      "2021-05-15 17:49:53,721 : INFO : worker thread finished; awaiting finish of 6 more threads\n",
      "2021-05-15 17:49:53,730 : INFO : worker thread finished; awaiting finish of 5 more threads\n",
      "2021-05-15 17:49:53,735 : INFO : worker thread finished; awaiting finish of 4 more threads\n",
      "2021-05-15 17:49:53,738 : INFO : worker thread finished; awaiting finish of 3 more threads\n",
      "2021-05-15 17:49:53,750 : INFO : worker thread finished; awaiting finish of 2 more threads\n",
      "2021-05-15 17:49:53,752 : INFO : worker thread finished; awaiting finish of 1 more threads\n",
      "2021-05-15 17:49:53,754 : INFO : worker thread finished; awaiting finish of 0 more threads\n",
      "2021-05-15 17:49:53,755 : INFO : EPOCH - 27 : training on 1732054 raw words (1463593 effective words) took 2.2s, 652970 effective words/s\n",
      "2021-05-15 17:49:54,822 : INFO : EPOCH 28 - PROGRESS: at 30.59% examples, 446043 words/s, in_qsize 15, out_qsize 0\n",
      "2021-05-15 17:49:55,834 : INFO : EPOCH 28 - PROGRESS: at 84.86% examples, 616087 words/s, in_qsize 16, out_qsize 0\n",
      "2021-05-15 17:49:56,096 : INFO : worker thread finished; awaiting finish of 7 more threads\n",
      "2021-05-15 17:49:56,114 : INFO : worker thread finished; awaiting finish of 6 more threads\n",
      "2021-05-15 17:49:56,124 : INFO : worker thread finished; awaiting finish of 5 more threads\n",
      "2021-05-15 17:49:56,138 : INFO : worker thread finished; awaiting finish of 4 more threads\n",
      "2021-05-15 17:49:56,141 : INFO : worker thread finished; awaiting finish of 3 more threads\n",
      "2021-05-15 17:49:56,145 : INFO : worker thread finished; awaiting finish of 2 more threads\n",
      "2021-05-15 17:49:56,166 : INFO : worker thread finished; awaiting finish of 1 more threads\n",
      "2021-05-15 17:49:56,168 : INFO : worker thread finished; awaiting finish of 0 more threads\n",
      "2021-05-15 17:49:56,170 : INFO : EPOCH - 28 : training on 1732054 raw words (1463367 effective words) took 2.4s, 622256 effective words/s\n",
      "2021-05-15 17:49:57,205 : INFO : EPOCH 29 - PROGRESS: at 35.22% examples, 510478 words/s, in_qsize 15, out_qsize 0\n",
      "2021-05-15 17:49:58,210 : INFO : EPOCH 29 - PROGRESS: at 83.71% examples, 608076 words/s, in_qsize 15, out_qsize 0\n",
      "2021-05-15 17:49:58,587 : INFO : worker thread finished; awaiting finish of 7 more threads\n",
      "2021-05-15 17:49:58,600 : INFO : worker thread finished; awaiting finish of 6 more threads\n",
      "2021-05-15 17:49:58,604 : INFO : worker thread finished; awaiting finish of 5 more threads\n",
      "2021-05-15 17:49:58,606 : INFO : worker thread finished; awaiting finish of 4 more threads\n",
      "2021-05-15 17:49:58,634 : INFO : worker thread finished; awaiting finish of 3 more threads\n",
      "2021-05-15 17:49:58,644 : INFO : worker thread finished; awaiting finish of 2 more threads\n",
      "2021-05-15 17:49:58,644 : INFO : worker thread finished; awaiting finish of 1 more threads\n",
      "2021-05-15 17:49:58,659 : INFO : worker thread finished; awaiting finish of 0 more threads\n",
      "2021-05-15 17:49:58,662 : INFO : EPOCH - 29 : training on 1732054 raw words (1462765 effective words) took 2.5s, 593365 effective words/s\n",
      "2021-05-15 17:49:59,702 : INFO : EPOCH 30 - PROGRESS: at 46.25% examples, 672823 words/s, in_qsize 15, out_qsize 0\n",
      "2021-05-15 17:50:00,703 : INFO : EPOCH 30 - PROGRESS: at 81.40% examples, 593884 words/s, in_qsize 15, out_qsize 0\n",
      "2021-05-15 17:50:00,995 : INFO : worker thread finished; awaiting finish of 7 more threads\n",
      "2021-05-15 17:50:01,001 : INFO : worker thread finished; awaiting finish of 6 more threads\n",
      "2021-05-15 17:50:01,006 : INFO : worker thread finished; awaiting finish of 5 more threads\n",
      "2021-05-15 17:50:01,012 : INFO : worker thread finished; awaiting finish of 4 more threads\n",
      "2021-05-15 17:50:01,021 : INFO : worker thread finished; awaiting finish of 3 more threads\n",
      "2021-05-15 17:50:01,030 : INFO : worker thread finished; awaiting finish of 2 more threads\n",
      "2021-05-15 17:50:01,033 : INFO : worker thread finished; awaiting finish of 1 more threads\n",
      "2021-05-15 17:50:01,038 : INFO : worker thread finished; awaiting finish of 0 more threads\n",
      "2021-05-15 17:50:01,040 : INFO : EPOCH - 30 : training on 1732054 raw words (1462807 effective words) took 2.3s, 624786 effective words/s\n",
      "2021-05-15 17:50:02,057 : INFO : EPOCH 31 - PROGRESS: at 45.67% examples, 659436 words/s, in_qsize 15, out_qsize 0\n",
      "2021-05-15 17:50:03,084 : INFO : EPOCH 31 - PROGRESS: at 84.85% examples, 612823 words/s, in_qsize 15, out_qsize 0\n",
      "2021-05-15 17:50:03,247 : INFO : worker thread finished; awaiting finish of 7 more threads\n",
      "2021-05-15 17:50:03,255 : INFO : worker thread finished; awaiting finish of 6 more threads\n",
      "2021-05-15 17:50:03,267 : INFO : worker thread finished; awaiting finish of 5 more threads\n",
      "2021-05-15 17:50:03,273 : INFO : worker thread finished; awaiting finish of 4 more threads\n",
      "2021-05-15 17:50:03,278 : INFO : worker thread finished; awaiting finish of 3 more threads\n",
      "2021-05-15 17:50:03,280 : INFO : worker thread finished; awaiting finish of 2 more threads\n",
      "2021-05-15 17:50:03,295 : INFO : worker thread finished; awaiting finish of 1 more threads\n",
      "2021-05-15 17:50:03,297 : INFO : worker thread finished; awaiting finish of 0 more threads\n",
      "2021-05-15 17:50:03,297 : INFO : EPOCH - 31 : training on 1732054 raw words (1462420 effective words) took 2.2s, 653148 effective words/s\n",
      "2021-05-15 17:50:04,336 : INFO : EPOCH 32 - PROGRESS: at 41.63% examples, 599172 words/s, in_qsize 15, out_qsize 0\n",
      "2021-05-15 17:50:05,365 : INFO : EPOCH 32 - PROGRESS: at 83.71% examples, 598840 words/s, in_qsize 15, out_qsize 0\n",
      "2021-05-15 17:50:05,554 : INFO : worker thread finished; awaiting finish of 7 more threads\n",
      "2021-05-15 17:50:05,570 : INFO : worker thread finished; awaiting finish of 6 more threads\n",
      "2021-05-15 17:50:05,572 : INFO : worker thread finished; awaiting finish of 5 more threads\n",
      "2021-05-15 17:50:05,583 : INFO : worker thread finished; awaiting finish of 4 more threads\n",
      "2021-05-15 17:50:05,592 : INFO : worker thread finished; awaiting finish of 3 more threads\n",
      "2021-05-15 17:50:05,597 : INFO : worker thread finished; awaiting finish of 2 more threads\n",
      "2021-05-15 17:50:05,606 : INFO : worker thread finished; awaiting finish of 1 more threads\n",
      "2021-05-15 17:50:05,610 : INFO : worker thread finished; awaiting finish of 0 more threads\n",
      "2021-05-15 17:50:05,611 : INFO : EPOCH - 32 : training on 1732054 raw words (1463143 effective words) took 2.3s, 638682 effective words/s\n",
      "2021-05-15 17:50:05,612 : INFO : Word2Vec lifecycle event {'msg': 'training on 55425728 raw words (46817785 effective words) took 78.7s, 594713 effective words/s', 'datetime': '2021-05-15T17:50:05.612745', 'gensim': '4.0.1', 'python': '3.7.9 (tags/v3.7.9:13c94747c7, Aug 17 2020, 18:58:18) [MSC v.1900 64 bit (AMD64)]', 'platform': 'Windows-10-10.0.19041-SP0', 'event': 'train'}\n"
     ]
    },
    {
     "name": "stdout",
     "output_type": "stream",
     "text": [
      "Wall time: 1min 18s\n"
     ]
    },
    {
     "data": {
      "text/plain": [
       "(46817785, 55425728)"
      ]
     },
     "execution_count": 23,
     "metadata": {},
     "output_type": "execute_result"
    }
   ],
   "source": [
    "%%time\n",
    "w2v_model.train(documents, total_examples=len(documents), epochs=W2V_EPOCH)"
   ]
  },
  {
   "cell_type": "code",
   "execution_count": 24,
   "metadata": {
    "_uuid": "27cc2651c74227115d8bfd8c40e5618048e05edd",
    "colab": {
     "base_uri": "https://localhost:8080/"
    },
    "id": "KkZqiavVRf1o",
    "outputId": "47d0214e-9c84-4b3b-d42f-bff3538f6680"
   },
   "outputs": [
    {
     "data": {
      "text/plain": [
       "[('loves', 0.40329959988594055),\n",
       " ('luv', 0.38173967599868774),\n",
       " ('adore', 0.374083936214447),\n",
       " ('loveeeee', 0.35201361775398254),\n",
       " ('ddlovato', 0.35177457332611084),\n",
       " ('loove', 0.35130420327186584),\n",
       " ('lovee', 0.34822678565979004),\n",
       " ('miss', 0.34532174468040466),\n",
       " ('loooove', 0.33369895815849304),\n",
       " ('amazing', 0.33191707730293274)]"
      ]
     },
     "execution_count": 24,
     "metadata": {},
     "output_type": "execute_result"
    }
   ],
   "source": [
    "w2v_model.wv.most_similar(\"love\")"
   ]
  },
  {
   "cell_type": "markdown",
   "metadata": {
    "_uuid": "e13563644468037258598637b49373ca96b9b879",
    "id": "SeiTcGISRf1p"
   },
   "source": [
    "### Tokenize Text"
   ]
  },
  {
   "cell_type": "code",
   "execution_count": 25,
   "metadata": {
    "_uuid": "6852bc709a7cd20173cbeeb218505078f8f37c57",
    "colab": {
     "base_uri": "https://localhost:8080/"
    },
    "id": "G_qhSPVGRf1p",
    "outputId": "0b22b19c-c096-44fd-b961-d7d6324ee807"
   },
   "outputs": [
    {
     "name": "stdout",
     "output_type": "stream",
     "text": [
      "Total words 100364\n",
      "Wall time: 8.57 s\n"
     ]
    }
   ],
   "source": [
    "%%time\n",
    "tokenizer = Tokenizer()\n",
    "tokenizer.fit_on_texts(df_train.text)\n",
    "\n",
    "vocab_size = len(tokenizer.word_index) + 1\n",
    "print(\"Total words\", vocab_size)"
   ]
  },
  {
   "cell_type": "code",
   "execution_count": 26,
   "metadata": {
    "_uuid": "45de439df3015030c71f84c2d170346936a1d68f",
    "colab": {
     "base_uri": "https://localhost:8080/"
    },
    "id": "VpTFNY7CRf1q",
    "outputId": "19f1f2c7-d035-4ae3-9015-2440aa05f7f4"
   },
   "outputs": [
    {
     "name": "stdout",
     "output_type": "stream",
     "text": [
      "Wall time: 12.5 s\n"
     ]
    }
   ],
   "source": [
    "%%time\n",
    "x_train = pad_sequences(tokenizer.texts_to_sequences(df_train.text), maxlen=SEQUENCE_LENGTH)\n",
    "x_test = pad_sequences(tokenizer.texts_to_sequences(df_test.text), maxlen=SEQUENCE_LENGTH)"
   ]
  },
  {
   "cell_type": "markdown",
   "metadata": {
    "_uuid": "03b35903fc6260e190d6928d240ef7432de117fc",
    "id": "wlDm7cCERf1q"
   },
   "source": [
    "### Label Encoder "
   ]
  },
  {
   "cell_type": "code",
   "execution_count": 27,
   "metadata": {
    "_uuid": "33676e0efa39e97d89bd650b8b4eae933a22fbf0",
    "colab": {
     "base_uri": "https://localhost:8080/"
    },
    "id": "xpPuWpzlRf1r",
    "outputId": "2c1dd5f1-b5a8-4fc6-b2f7-fd9a919a528f"
   },
   "outputs": [
    {
     "data": {
      "text/plain": [
       "['POSITIVE', 'NEGATIVE', 'NEUTRAL']"
      ]
     },
     "execution_count": 27,
     "metadata": {},
     "output_type": "execute_result"
    }
   ],
   "source": [
    "labels = df_train.target.unique().tolist()\n",
    "labels.append(NEUTRAL)\n",
    "labels"
   ]
  },
  {
   "cell_type": "code",
   "execution_count": 28,
   "metadata": {
    "_uuid": "04239a9bef76e7922fd86098a5601dfde8ee4665",
    "colab": {
     "base_uri": "https://localhost:8080/"
    },
    "id": "wcdKHvm-Rf1u",
    "outputId": "ca93c1a0-d774-4858-d2c7-e9d9d0ab3644"
   },
   "outputs": [
    {
     "name": "stdout",
     "output_type": "stream",
     "text": [
      "y_train (240000, 1)\n",
      "y_test (60000, 1)\n"
     ]
    }
   ],
   "source": [
    "encoder = LabelEncoder()\n",
    "encoder.fit(df_train.target.tolist())\n",
    "\n",
    "y_train = encoder.transform(df_train.target.tolist())\n",
    "y_test = encoder.transform(df_test.target.tolist())\n",
    "\n",
    "y_train = y_train.reshape(-1,1)\n",
    "y_test = y_test.reshape(-1,1)\n",
    "\n",
    "print(\"y_train\",y_train.shape)\n",
    "print(\"y_test\",y_test.shape)"
   ]
  },
  {
   "cell_type": "code",
   "execution_count": 29,
   "metadata": {
    "_uuid": "04299c886911ca135583ab64878f213939a2990c",
    "colab": {
     "base_uri": "https://localhost:8080/"
    },
    "id": "xFQZLBzERf1w",
    "outputId": "7dc080af-4e53-456f-feb7-aea05b92bdbf"
   },
   "outputs": [
    {
     "name": "stdout",
     "output_type": "stream",
     "text": [
      "x_train (240000, 300)\n",
      "y_train (240000, 1)\n",
      "\n",
      "x_test (60000, 300)\n",
      "y_test (60000, 1)\n"
     ]
    }
   ],
   "source": [
    "print(\"x_train\", x_train.shape)\n",
    "print(\"y_train\", y_train.shape)\n",
    "print()\n",
    "print(\"x_test\", x_test.shape)\n",
    "print(\"y_test\", y_test.shape)"
   ]
  },
  {
   "cell_type": "code",
   "execution_count": 30,
   "metadata": {
    "_uuid": "232533fb27b7be99d9b8c2f8fb22c9c6bf121a6f",
    "colab": {
     "base_uri": "https://localhost:8080/"
    },
    "id": "5MiCsCtZRf1x",
    "outputId": "3831a89a-0760-4795-bfd8-4e6bead29ec3"
   },
   "outputs": [
    {
     "data": {
      "text/plain": [
       "array([[1],\n",
       "       [0],\n",
       "       [1],\n",
       "       [1],\n",
       "       [1],\n",
       "       [0],\n",
       "       [0],\n",
       "       [0],\n",
       "       [0],\n",
       "       [0]])"
      ]
     },
     "execution_count": 30,
     "metadata": {},
     "output_type": "execute_result"
    }
   ],
   "source": [
    "y_train[:10]"
   ]
  },
  {
   "cell_type": "markdown",
   "metadata": {
    "_uuid": "233c0ea94055a03e2e7df3e2a13d036ec963484f",
    "id": "a8qugjWcRf1y"
   },
   "source": [
    "### Embedding layer"
   ]
  },
  {
   "cell_type": "code",
   "execution_count": 31,
   "metadata": {
    "_uuid": "9ab488374b59e3f30f8b1ea92767d853c4846bac",
    "colab": {
     "base_uri": "https://localhost:8080/"
    },
    "id": "yutKRgdbRf1y",
    "outputId": "ef2f7564-f617-42b4-9676-42983b005665"
   },
   "outputs": [
    {
     "name": "stdout",
     "output_type": "stream",
     "text": [
      "(100364, 300)\n"
     ]
    }
   ],
   "source": [
    "embedding_matrix = np.zeros((vocab_size, W2V_SIZE))\n",
    "for word, i in tokenizer.word_index.items():\n",
    "  if word in w2v_model.wv:\n",
    "    embedding_matrix[i] = w2v_model.wv[word]\n",
    "print(embedding_matrix.shape)"
   ]
  },
  {
   "cell_type": "code",
   "execution_count": 32,
   "metadata": {
    "_uuid": "833279d91e4286065968237fb5f2a0c2dd4d246c",
    "id": "wRjtrNliRf1z"
   },
   "outputs": [],
   "source": [
    "embedding_layer = Embedding(vocab_size, W2V_SIZE, weights=[embedding_matrix], input_length=SEQUENCE_LENGTH, trainable=False)"
   ]
  },
  {
   "cell_type": "markdown",
   "metadata": {
    "_uuid": "b299ef78f94c2085942c993a2d58753a7476305a",
    "id": "VPEYqutSRf10"
   },
   "source": [
    "### Build Model"
   ]
  },
  {
   "cell_type": "code",
   "execution_count": 33,
   "metadata": {
    "_uuid": "e775ef4f1b74e6412457181383c39f2df554ef3f",
    "colab": {
     "base_uri": "https://localhost:8080/"
    },
    "id": "lCCttFOlRf10",
    "outputId": "efe8e53a-0a2e-4396-9fd7-601f636856be"
   },
   "outputs": [
    {
     "name": "stdout",
     "output_type": "stream",
     "text": [
      "Model: \"sequential\"\n",
      "_________________________________________________________________\n",
      "Layer (type)                 Output Shape              Param #   \n",
      "=================================================================\n",
      "embedding (Embedding)        (None, 300, 300)          30109200  \n",
      "_________________________________________________________________\n",
      "dropout (Dropout)            (None, 300, 300)          0         \n",
      "_________________________________________________________________\n",
      "lstm (LSTM)                  (None, 100)               160400    \n",
      "_________________________________________________________________\n",
      "dense (Dense)                (None, 1)                 101       \n",
      "=================================================================\n",
      "Total params: 30,269,701\n",
      "Trainable params: 160,501\n",
      "Non-trainable params: 30,109,200\n",
      "_________________________________________________________________\n"
     ]
    }
   ],
   "source": [
    "model = Sequential()\n",
    "model.add(embedding_layer)\n",
    "model.add(Dropout(0.5))\n",
    "model.add(LSTM(100, dropout=0.2, recurrent_dropout=0.2))\n",
    "model.add(Dense(1, activation='sigmoid'))\n",
    "\n",
    "model.summary()"
   ]
  },
  {
   "cell_type": "markdown",
   "metadata": {
    "_uuid": "28d22eafd0c7d798dcf3d742bc92fb8577939e6c",
    "id": "tXXMUstBRf11"
   },
   "source": [
    "### Compile model"
   ]
  },
  {
   "cell_type": "code",
   "execution_count": 34,
   "metadata": {
    "_uuid": "1331e08d590bb2aa2033706c8faca217afc0f1c3",
    "id": "x22z5fdBRf11"
   },
   "outputs": [],
   "source": [
    "model.compile(loss='binary_crossentropy',\n",
    "              optimizer=\"adam\",\n",
    "              metrics=['accuracy'])"
   ]
  },
  {
   "cell_type": "markdown",
   "metadata": {
    "_uuid": "c7733127cb8b380e0c807268903bf4d03ef92542",
    "id": "p3Lf96UMRf12"
   },
   "source": [
    "### Callbacks"
   ]
  },
  {
   "cell_type": "code",
   "execution_count": 35,
   "metadata": {
    "_uuid": "a688df590386f5748da6fe00b01904fe6c71619e",
    "id": "1czWwOsTRf12"
   },
   "outputs": [],
   "source": [
    "callbacks = [ ReduceLROnPlateau(monitor='val_loss', patience=5, cooldown=0),\n",
    "              EarlyStopping(monitor='val_acc', min_delta=1e-4, patience=5)]"
   ]
  },
  {
   "cell_type": "markdown",
   "metadata": {
    "_uuid": "8d0873633dd49179c8cae17377641b97d323ef3b",
    "id": "ESgl3PgIRf12"
   },
   "source": [
    "### Train"
   ]
  },
  {
   "cell_type": "code",
   "execution_count": null,
   "metadata": {
    "_uuid": "2b659d390c6577dc5cdb6b6297934279b4e801d5",
    "colab": {
     "base_uri": "https://localhost:8080/"
    },
    "id": "HwRoipBFRf15",
    "outputId": "b63eb13d-ab50-4270-d66f-97741835af0b"
   },
   "outputs": [
    {
     "name": "stdout",
     "output_type": "stream",
     "text": [
      "Epoch 1/8\n",
      " 54/211 [======>.......................] - ETA: 1:21:42 - loss: 0.6289 - accuracy: 0.6307- ETA: 1:58:15 - loss: 0.7009 - accuracy: 0. - ETA: 1:29:08 - loss: 0.6913 - accuracy: 0.535 -"
     ]
    }
   ],
   "source": [
    "%%time\n",
    "history = model.fit(x_train, y_train,\n",
    "                    batch_size=BATCH_SIZE,\n",
    "                    epochs=EPOCHS,\n",
    "                    validation_split=0.1,\n",
    "                    verbose=1,\n",
    "                    callbacks=callbacks)"
   ]
  },
  {
   "cell_type": "markdown",
   "metadata": {
    "_uuid": "267258196d96796ac69a7b8c466314bcf5d6ee42",
    "id": "jAaD2XtCRf16"
   },
   "source": [
    "### Evaluate"
   ]
  },
  {
   "cell_type": "code",
   "execution_count": null,
   "metadata": {
    "_uuid": "98ecd8f1b8b74594c3ea775dd68a094e92458022",
    "id": "LoaxoUFzRf16"
   },
   "outputs": [],
   "source": [
    "%%time\n",
    "score = model.evaluate(x_test, y_test, batch_size=BATCH_SIZE)\n",
    "print()\n",
    "print(\"ACCURACY:\",score[1])\n",
    "print(\"LOSS:\",score[0])"
   ]
  },
  {
   "cell_type": "markdown",
   "metadata": {
    "_uuid": "6bdfc0f6a6af5bebc0271d83dd7432c91001409b",
    "id": "PiYTiH2wRf17"
   },
   "source": [
    "### Predict"
   ]
  },
  {
   "cell_type": "code",
   "execution_count": null,
   "metadata": {
    "_uuid": "f0b0fa3d4b1bb14b3f5e3d169a369f3ebef29ae1",
    "id": "Vv3oxeaFRf18"
   },
   "outputs": [],
   "source": [
    "def decode_sentiment(score, include_neutral=True):\n",
    "    if include_neutral:        \n",
    "        label = NEUTRAL\n",
    "        if score <= SENTIMENT_THRESHOLDS[0]:\n",
    "            label = NEGATIVE\n",
    "        elif score >= SENTIMENT_THRESHOLDS[1]:\n",
    "            label = POSITIVE\n",
    "\n",
    "        return label\n",
    "    else:\n",
    "        return NEGATIVE if score < 0.5 else POSITIVE"
   ]
  },
  {
   "cell_type": "code",
   "execution_count": null,
   "metadata": {
    "_uuid": "ed4086d651f2f8cbed11d3c909a8873607d29a06",
    "id": "T9oWzSa-Rf19"
   },
   "outputs": [],
   "source": [
    "def predict(text, include_neutral=True):\n",
    "    start_at = time.time()\n",
    "    # Tokenize text\n",
    "    x_test = pad_sequences(tokenizer.texts_to_sequences([text]), maxlen=SEQUENCE_LENGTH)\n",
    "    # Predict\n",
    "    score = model.predict([x_test])[0]\n",
    "    # Decode sentiment\n",
    "    label = decode_sentiment(score, include_neutral=include_neutral)\n",
    "\n",
    "    return {\"label\": label, \"score\": float(score),\n",
    "       \"elapsed_time\": time.time()-start_at}  "
   ]
  },
  {
   "cell_type": "code",
   "execution_count": null,
   "metadata": {
    "_uuid": "ca38b1e6c9b5acfed7467de2cf02a78333108872",
    "id": "uUoCaZy2Rf1-"
   },
   "outputs": [],
   "source": [
    "predict(\"I love the music\")"
   ]
  },
  {
   "cell_type": "code",
   "execution_count": null,
   "metadata": {
    "_uuid": "0e5fe647533be0148850de349fea6ef6f71303d1",
    "id": "xQv4zQUxRf1-"
   },
   "outputs": [],
   "source": [
    "predict(\"I hate the rain\")"
   ]
  },
  {
   "cell_type": "code",
   "execution_count": null,
   "metadata": {
    "_uuid": "37064dffcc8920d34ccd54fac7c8b50e583a8269",
    "id": "gGLmOnmeRf1-"
   },
   "outputs": [],
   "source": [
    "predict(\"i don't know what i'm doing\")"
   ]
  },
  {
   "cell_type": "markdown",
   "metadata": {
    "_uuid": "3ee72e47f84b6dbc32e02a783de5ec1661f157e1",
    "id": "Cp2gEThBRf1_"
   },
   "source": [
    "### Confusion Matrix"
   ]
  },
  {
   "cell_type": "code",
   "execution_count": null,
   "metadata": {
    "_uuid": "0e920173eb05f04aecdd735bc5dff0f5be5f8d15",
    "id": "NpvbxZelRf1_"
   },
   "outputs": [],
   "source": [
    "%%time\n",
    "y_pred_1d = []\n",
    "y_test_1d = list(df_test.target)\n",
    "scores = model.predict(x_test, verbose=1, batch_size=8000)\n",
    "y_pred_1d = [decode_sentiment(score, include_neutral=False) for score in scores]"
   ]
  },
  {
   "cell_type": "markdown",
   "metadata": {
    "_uuid": "e23b957348dcc084249d3cc7538b972da471c2cd",
    "id": "4Dzjnez2Rf2A"
   },
   "source": [
    "### Classification Report"
   ]
  },
  {
   "cell_type": "code",
   "execution_count": null,
   "metadata": {
    "_uuid": "a7fe05b7caa1c984ff1deb0be2f7c6bc043df9f5",
    "id": "Ip5NvGWlRf2A"
   },
   "outputs": [],
   "source": [
    "print(classification_report(y_test_1d, y_pred_1d))"
   ]
  },
  {
   "cell_type": "markdown",
   "metadata": {
    "_uuid": "4eb300f0c6693a618587c7dcf32f77f5416cbfb9",
    "id": "5zEDuU1ARf2A"
   },
   "source": [
    "### Accuracy Score"
   ]
  },
  {
   "cell_type": "code",
   "execution_count": null,
   "metadata": {
    "_uuid": "5cf76e6e09f8a60ed25947932b94c772eda44d23",
    "id": "-kq6djsrRf2B"
   },
   "outputs": [],
   "source": [
    "accuracy_score(y_test_1d, y_pred_1d)"
   ]
  },
  {
   "cell_type": "markdown",
   "metadata": {
    "_uuid": "4f014c32f3833db282e1a075c526604f34e3158c",
    "id": "z8siE268Rf2B"
   },
   "source": [
    "### Save model"
   ]
  },
  {
   "cell_type": "code",
   "execution_count": null,
   "metadata": {
    "_uuid": "3b2b3ad5b592977b404acfa1c9ad303a62837255",
    "id": "3a9eLisyRf2B"
   },
   "outputs": [],
   "source": [
    "model.save(KERAS_MODEL)\n",
    "w2v_model.save(WORD2VEC_MODEL)\n",
    "pickle.dump(tokenizer, open(TOKENIZER_MODEL, \"wb\"), protocol=0)\n",
    "pickle.dump(encoder, open(ENCODER_MODEL, \"wb\"), protocol=0)"
   ]
  },
  {
   "cell_type": "code",
   "execution_count": null,
   "metadata": {
    "_uuid": "cc363c54782894757f5ea8820c6a170f2e16ef93",
    "id": "GoHFcx1rRf2C"
   },
   "outputs": [],
   "source": []
  }
 ],
 "metadata": {
  "accelerator": "TPU",
  "colab": {
   "name": "twitter-sentiment-analysis.ipynb",
   "provenance": [],
   "toc_visible": true
  },
  "kernelspec": {
   "display_name": "Python 3",
   "language": "python",
   "name": "python3"
  },
  "language_info": {
   "codemirror_mode": {
    "name": "ipython",
    "version": 3
   },
   "file_extension": ".py",
   "mimetype": "text/x-python",
   "name": "python",
   "nbconvert_exporter": "python",
   "pygments_lexer": "ipython3",
   "version": "3.7.9"
  }
 },
 "nbformat": 4,
 "nbformat_minor": 4
}
